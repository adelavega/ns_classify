{
 "cells": [
  {
   "cell_type": "code",
   "execution_count": 3,
   "metadata": {
    "collapsed": false
   },
   "outputs": [
    {
     "name": "stderr",
     "output_type": "stream",
     "text": [
      ":0: FutureWarning: IPython widgets are experimental and may change in the future.\n"
     ]
    }
   ],
   "source": [
    "import seaborn as sns\n",
    "import pickle\n",
    "import pandas as pd\n",
    "import glob\n",
    "import re\n",
    "import matplotlib.pylab as plt\n",
    "%matplotlib inline"
   ]
  },
  {
   "cell_type": "code",
   "execution_count": 4,
   "metadata": {
    "collapsed": false
   },
   "outputs": [],
   "source": [
    "sil_scores = pickle.load(open(\"../results/clustering/results/MFC/clust_k_1_15_id.pkl\", \"r\"))\n",
    "sil_scores = pd.DataFrame(zip(sil_scores, range(2, len(sil_scores)+2)), columns=['sil', 'k'])\n",
    "sil_scores['type'] = 'real'"
   ]
  },
  {
   "cell_type": "code",
   "execution_count": 8,
   "metadata": {
    "collapsed": false
   },
   "outputs": [],
   "source": [
    "results = {}\n",
    "for f in glob.glob('../results/clustering/results/MFC/perm_clust_k*'):\n",
    "    try:\n",
    "        df = pd.DataFrame(pickle.load(open(f, 'r')), columns=['sil'])\n",
    "        df['k'] = int(re.findall('k[0-9]*', f)[0][1:])\n",
    "        df['type'] = 'perm'\n",
    "        sil_scores = sil_scores.append(df)\n",
    "    except:\n",
    "        pass\n"
   ]
  },
  {
   "cell_type": "code",
   "execution_count": 9,
   "metadata": {
    "collapsed": false
   },
   "outputs": [
    {
     "data": {
      "text/html": [
       "<div>\n",
       "<table border=\"1\" class=\"dataframe\">\n",
       "  <thead>\n",
       "    <tr style=\"text-align: right;\">\n",
       "      <th></th>\n",
       "      <th></th>\n",
       "      <th>sil</th>\n",
       "    </tr>\n",
       "    <tr>\n",
       "      <th>k</th>\n",
       "      <th>type</th>\n",
       "      <th></th>\n",
       "    </tr>\n",
       "  </thead>\n",
       "  <tbody>\n",
       "    <tr>\n",
       "      <th>2</th>\n",
       "      <th>perm</th>\n",
       "      <td>500</td>\n",
       "    </tr>\n",
       "    <tr>\n",
       "      <th>3</th>\n",
       "      <th>perm</th>\n",
       "      <td>500</td>\n",
       "    </tr>\n",
       "    <tr>\n",
       "      <th>4</th>\n",
       "      <th>perm</th>\n",
       "      <td>500</td>\n",
       "    </tr>\n",
       "    <tr>\n",
       "      <th>5</th>\n",
       "      <th>perm</th>\n",
       "      <td>500</td>\n",
       "    </tr>\n",
       "    <tr>\n",
       "      <th>6</th>\n",
       "      <th>perm</th>\n",
       "      <td>500</td>\n",
       "    </tr>\n",
       "    <tr>\n",
       "      <th>7</th>\n",
       "      <th>perm</th>\n",
       "      <td>500</td>\n",
       "    </tr>\n",
       "    <tr>\n",
       "      <th>8</th>\n",
       "      <th>perm</th>\n",
       "      <td>500</td>\n",
       "    </tr>\n",
       "    <tr>\n",
       "      <th>9</th>\n",
       "      <th>perm</th>\n",
       "      <td>700</td>\n",
       "    </tr>\n",
       "    <tr>\n",
       "      <th>10</th>\n",
       "      <th>perm</th>\n",
       "      <td>600</td>\n",
       "    </tr>\n",
       "    <tr>\n",
       "      <th>11</th>\n",
       "      <th>perm</th>\n",
       "      <td>500</td>\n",
       "    </tr>\n",
       "    <tr>\n",
       "      <th>12</th>\n",
       "      <th>perm</th>\n",
       "      <td>500</td>\n",
       "    </tr>\n",
       "    <tr>\n",
       "      <th>13</th>\n",
       "      <th>perm</th>\n",
       "      <td>500</td>\n",
       "    </tr>\n",
       "    <tr>\n",
       "      <th>14</th>\n",
       "      <th>perm</th>\n",
       "      <td>500</td>\n",
       "    </tr>\n",
       "    <tr>\n",
       "      <th>15</th>\n",
       "      <th>perm</th>\n",
       "      <td>500</td>\n",
       "    </tr>\n",
       "  </tbody>\n",
       "</table>\n",
       "</div>"
      ],
      "text/plain": [
       "         sil\n",
       "k  type     \n",
       "2  perm  500\n",
       "3  perm  500\n",
       "4  perm  500\n",
       "5  perm  500\n",
       "6  perm  500\n",
       "7  perm  500\n",
       "8  perm  500\n",
       "9  perm  700\n",
       "10 perm  600\n",
       "11 perm  500\n",
       "12 perm  500\n",
       "13 perm  500\n",
       "14 perm  500\n",
       "15 perm  500"
      ]
     },
     "execution_count": 9,
     "metadata": {},
     "output_type": "execute_result"
    }
   ],
   "source": [
    "sil_scores[sil_scores.type == 'perm'].groupby(('k', 'type')).count()"
   ]
  },
  {
   "cell_type": "code",
   "execution_count": 18,
   "metadata": {
    "collapsed": false
   },
   "outputs": [
    {
     "data": {
      "text/plain": [
       "<matplotlib.figure.Figure at 0x11175d890>"
      ]
     },
     "metadata": {},
     "output_type": "display_data"
    },
    {
     "data": {
      "image/png": "[encoded data removed]",
      "text/plain": [
       "<matplotlib.figure.Figure at 0x11103a410>"
      ]
     },
     "metadata": {},
     "output_type": "display_data"
    }
   ],
   "source": [
    "sns.set_context('poster')\n",
    "sns.set_style('ticks')\n",
    "sns.despine(left=True)\n",
    "sns.lmplot('k', 'sil', sil_scores, hue='type', fit_reg=False, size=7, legend=False, scatter_kws={\"s\": 80})\n",
    "plt.ylim([0, 0.17])\n",
    "plt.xlim([1, 16])\n",
    "plt.xticks(range(2, 16))\n",
    "plt.xlabel('Number of clusters (k)')\n",
    "plt.ylabel('Silhouette score')\n",
    "plt.savefig('../reports/MFC/mFC_Shared/Figures/Figure2c.png', bbox_inches='tight')\n"
   ]
  },
  {
   "cell_type": "code",
   "execution_count": 10,
   "metadata": {
    "collapsed": false
   },
   "outputs": [],
   "source": [
    "mean_z = [float((sil_scores.query('k == ' + str(i) +'and type == \"real\"').sil -sil_scores.query('k == ' + str(i) +'and type == \"perm\"').sil.mean()) /sil_scores.query('k == ' + str(i) +' and type == \"perm\"').sil.std())\n",
    " for i in [3, 6, 9, 12]]\n",
    "zs = pd.DataFrame(zip(mean_z, [3, 6, 9, 12]), columns=['z', 'k'])"
   ]
  },
  {
   "cell_type": "code",
   "execution_count": 11,
   "metadata": {
    "collapsed": false
   },
   "outputs": [],
   "source": [
    "avg_sil = pd.DataFrame(sil_scores.groupby('k').apply(lambda k: (k.query('type==\"real\"').sil - k.query(\"type == 'perm'\").sil.mean()) / k.query(\"type == 'perm'\").sil.std()))"
   ]
  },
  {
   "cell_type": "code",
   "execution_count": null,
   "metadata": {
    "collapsed": false
   },
   "outputs": [],
   "source": [
    "avg_sil = avg_sil.reset_index()"
   ]
  },
  {
   "cell_type": "code",
   "execution_count": null,
   "metadata": {
    "collapsed": false
   },
   "outputs": [],
   "source": [
    "sns.lmplot('k', 'sil', avg_sil,  fit_reg=False, legend=False)\n",
    "plt.ylim([0, 600])\n",
    "plt.xlim([1, 16])\n",
    "plt.xticks(range(2, 16))\n",
    "plt.xlabel('Number of clusters (k)')\n",
    "plt.ylabel('Silhouette score (z-scored)')"
   ]
  },
  {
   "cell_type": "markdown",
   "metadata": {
    "collapsed": true
   },
   "source": [
    "### Bootstrap"
   ]
  },
  {
   "cell_type": "code",
   "execution_count": 4,
   "metadata": {
    "collapsed": false
   },
   "outputs": [],
   "source": [
    "from neurosynth.base.dataset import Dataset\n",
    "from neurosynth.analysis.cluster import Clusterable\n",
    "from sklearn.metrics import pairwise_distances\n",
    "from sklearn.cluster import KMeans\n",
    "from nibabel import nifti1\n",
    "import numpy as np\n",
    "from sklearn.metrics import silhouette_score\n",
    "import pickle"
   ]
  },
  {
   "cell_type": "code",
   "execution_count": 5,
   "metadata": {
    "collapsed": false
   },
   "outputs": [
    {
     "name": "stdout",
     "output_type": "stream",
     "text": [
      "Computing roi ref distances\n"
     ]
    }
   ],
   "source": [
    "dataset = Dataset.load('../data/datasets/abs_80topics_filt_jul.pkl')\n",
    "\n",
    "infile = '../masks/HO_ROIs/new_medial_fc_30.nii.gz'\n",
    "saved_pca = '../results/clustering/dv_v5_reference_min_80_pca.pkl'\n",
    "\n",
    "reference = pickle.load(open(saved_pca, 'r'))\n",
    "\n",
    "roi = Clusterable(dataset, infile, min_studies=80)\n",
    "\n",
    "print \"Computing roi ref distances\""
   ]
  },
  {
   "cell_type": "code",
   "execution_count": 6,
   "metadata": {
    "collapsed": true
   },
   "outputs": [],
   "source": [
    "from joblib import Memory, Parallel, delayed\n",
    "memory = Memory(cachedir='../cache/', verbose=0)"
   ]
  },
  {
   "cell_type": "code",
   "execution_count": 7,
   "metadata": {
    "collapsed": true
   },
   "outputs": [],
   "source": [
    "def parallel_boot_cluster(ref_data, roi_data, n_clusters, i):\n",
    "        ix = np.random.choice(range(1, ref_data.shape[1]), roi_data.shape[1])\n",
    "        ref_data = ref_data[:, ix]\n",
    "        roi_data = roi_data[:, ix]\n",
    "        distances = pairwise_distances(roi_data, ref_data, metric='correlation')\n",
    "        \n",
    "        clustering_algorithm = KMeans(n_clusters = n_clusters)\n",
    "        clustering_algorithm.fit(distances) \n",
    "\n",
    "        labels = clustering_algorithm.predict(distances) + 1\n",
    "\n",
    "        return {'n' : n_clusters, 'boot' : i,  'silhouette' : silhouette_score(distances, labels)}"
   ]
  },
  {
   "cell_type": "code",
   "execution_count": null,
   "metadata": {
    "collapsed": false
   },
   "outputs": [
    {
     "name": "stdout",
     "output_type": "stream",
     "text": [
      "Clustering: 2\n"
     ]
    }
   ],
   "source": [
    "silhouette = []\n",
    "for n_clusters in [2, 6, 9, 12, 15]:\n",
    "    print \"Clustering: \" + str(n_clusters)\n",
    "    silhouette += Parallel(n_jobs=7)(delayed(parallel_boot_cluster) \\\n",
    "                                     (reference.data, roi.data, n_clusters, i) for i in range(1, 50))"
   ]
  },
  {
   "cell_type": "code",
   "execution_count": 10,
   "metadata": {
    "collapsed": false,
    "scrolled": true
   },
   "outputs": [
    {
     "data": {
      "text/plain": [
       "[]"
      ]
     },
     "execution_count": 10,
     "metadata": {},
     "output_type": "execute_result"
    }
   ],
   "source": [
    "silhouette"
   ]
  },
  {
   "cell_type": "markdown",
   "metadata": {
    "collapsed": true
   },
   "source": [
    "## Load saved silhouette scores"
   ]
  },
  {
   "cell_type": "code",
   "execution_count": 18,
   "metadata": {
    "collapsed": true
   },
   "outputs": [],
   "source": [
    "import re\n",
    "from base.statistics import percentile\n",
    "import numpy as np\n",
    "from base.plotting import bar_plot_ci\n",
    "import pandas as pd\n",
    "from base.statistics import percentile\n",
    "from base.plotting import bar_plot_ci"
   ]
  },
  {
   "cell_type": "code",
   "execution_count": 22,
   "metadata": {
    "collapsed": false
   },
   "outputs": [],
   "source": [
    "silhouettes = pd.concat([pd.read_csv(f) for f in glob.glob('../results/clustering/bootstrap_silhouettes/*300*2*')]   )"
   ]
  },
  {
   "cell_type": "code",
   "execution_count": 24,
   "metadata": {
    "collapsed": false
   },
   "outputs": [],
   "source": [
    "boot_ci = silhouettes.groupby('n_clusters')['sil'].agg({'mean' : np.mean, 'low_ci' : percentile(2.5), 'hi_ci' : percentile(97.5)}).reset_index()"
   ]
  },
  {
   "cell_type": "code",
   "execution_count": 25,
   "metadata": {
    "collapsed": false
   },
   "outputs": [
    {
     "data": {
      "image/png": "[encoded data removed]",
      "text/plain": [
       "<matplotlib.figure.Figure at 0x10af15f50>"
      ]
     },
     "metadata": {},
     "output_type": "display_data"
    }
   ],
   "source": [
    "asymmetric_error = [boot_ci['mean'] - boot_ci['low_ci'], boot_ci['hi_ci']-boot_ci['mean']]\n",
    "\n",
    "fig, ax = plt.subplots()\n",
    "ax.errorbar(boot_ci['n_clusters'], boot_ci['mean'], yerr=asymmetric_error, fmt='-o')\n",
    "\n",
    "plt.ylim(0, 0.17)\n",
    "plt.show()"
   ]
  },
  {
   "cell_type": "code",
   "execution_count": 51,
   "metadata": {
    "collapsed": false
   },
   "outputs": [
    {
     "data": {
      "text/html": [
       "<div>\n",
       "<table border=\"1\" class=\"dataframe\">\n",
       "  <thead>\n",
       "    <tr style=\"text-align: right;\">\n",
       "      <th></th>\n",
       "      <th>n_clusters</th>\n",
       "      <th>hi_ci</th>\n",
       "      <th>low_ci</th>\n",
       "      <th>mean</th>\n",
       "    </tr>\n",
       "  </thead>\n",
       "  <tbody>\n",
       "    <tr>\n",
       "      <th>0</th>\n",
       "      <td>2</td>\n",
       "      <td>0.169192</td>\n",
       "      <td>0.109660</td>\n",
       "      <td>0.132412</td>\n",
       "    </tr>\n",
       "    <tr>\n",
       "      <th>1</th>\n",
       "      <td>3</td>\n",
       "      <td>0.159301</td>\n",
       "      <td>0.106458</td>\n",
       "      <td>0.136818</td>\n",
       "    </tr>\n",
       "    <tr>\n",
       "      <th>2</th>\n",
       "      <td>4</td>\n",
       "      <td>0.167638</td>\n",
       "      <td>0.082985</td>\n",
       "      <td>0.113314</td>\n",
       "    </tr>\n",
       "    <tr>\n",
       "      <th>3</th>\n",
       "      <td>5</td>\n",
       "      <td>0.109374</td>\n",
       "      <td>0.089939</td>\n",
       "      <td>0.099886</td>\n",
       "    </tr>\n",
       "    <tr>\n",
       "      <th>4</th>\n",
       "      <td>6</td>\n",
       "      <td>0.118902</td>\n",
       "      <td>0.099616</td>\n",
       "      <td>0.111048</td>\n",
       "    </tr>\n",
       "    <tr>\n",
       "      <th>5</th>\n",
       "      <td>7</td>\n",
       "      <td>0.128619</td>\n",
       "      <td>0.110381</td>\n",
       "      <td>0.121106</td>\n",
       "    </tr>\n",
       "    <tr>\n",
       "      <th>6</th>\n",
       "      <td>8</td>\n",
       "      <td>0.135323</td>\n",
       "      <td>0.112770</td>\n",
       "      <td>0.125553</td>\n",
       "    </tr>\n",
       "    <tr>\n",
       "      <th>7</th>\n",
       "      <td>9</td>\n",
       "      <td>0.139341</td>\n",
       "      <td>0.120424</td>\n",
       "      <td>0.127874</td>\n",
       "    </tr>\n",
       "    <tr>\n",
       "      <th>8</th>\n",
       "      <td>10</td>\n",
       "      <td>0.137104</td>\n",
       "      <td>0.112136</td>\n",
       "      <td>0.128415</td>\n",
       "    </tr>\n",
       "    <tr>\n",
       "      <th>9</th>\n",
       "      <td>11</td>\n",
       "      <td>0.134669</td>\n",
       "      <td>0.116297</td>\n",
       "      <td>0.128268</td>\n",
       "    </tr>\n",
       "    <tr>\n",
       "      <th>10</th>\n",
       "      <td>12</td>\n",
       "      <td>0.143465</td>\n",
       "      <td>0.124495</td>\n",
       "      <td>0.132634</td>\n",
       "    </tr>\n",
       "    <tr>\n",
       "      <th>11</th>\n",
       "      <td>13</td>\n",
       "      <td>0.141422</td>\n",
       "      <td>0.123645</td>\n",
       "      <td>0.130979</td>\n",
       "    </tr>\n",
       "    <tr>\n",
       "      <th>12</th>\n",
       "      <td>14</td>\n",
       "      <td>0.145818</td>\n",
       "      <td>0.121912</td>\n",
       "      <td>0.131728</td>\n",
       "    </tr>\n",
       "  </tbody>\n",
       "</table>\n",
       "</div>"
      ],
      "text/plain": [
       "    n_clusters     hi_ci    low_ci      mean\n",
       "0            2  0.169192  0.109660  0.132412\n",
       "1            3  0.159301  0.106458  0.136818\n",
       "2            4  0.167638  0.082985  0.113314\n",
       "3            5  0.109374  0.089939  0.099886\n",
       "4            6  0.118902  0.099616  0.111048\n",
       "5            7  0.128619  0.110381  0.121106\n",
       "6            8  0.135323  0.112770  0.125553\n",
       "7            9  0.139341  0.120424  0.127874\n",
       "8           10  0.137104  0.112136  0.128415\n",
       "9           11  0.134669  0.116297  0.128268\n",
       "10          12  0.143465  0.124495  0.132634\n",
       "11          13  0.141422  0.123645  0.130979\n",
       "12          14  0.145818  0.121912  0.131728"
      ]
     },
     "execution_count": 51,
     "metadata": {},
     "output_type": "execute_result"
    }
   ],
   "source": [
    "boot_ci"
   ]
  }
 ],
 "metadata": {
  "kernelspec": {
   "display_name": "Python 2",
   "language": "python",
   "name": "python2"
  },
  "language_info": {
   "codemirror_mode": {
    "name": "ipython",
    "version": 2
   },
   "file_extension": ".py",
   "mimetype": "text/x-python",
   "name": "python",
   "nbconvert_exporter": "python",
   "pygments_lexer": "ipython2",
   "version": "2.7.11"
  }
 },
 "nbformat": 4,
 "nbformat_minor": 0
}
