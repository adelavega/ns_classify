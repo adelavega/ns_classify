{
 "cells": [
  {
   "cell_type": "code",
   "execution_count": 1,
   "metadata": {
    "collapsed": true
   },
   "outputs": [],
   "source": [
    "import numpy as np\n",
    "%matplotlib inline\n",
    "from base.classifiers import OnevsallContinuous\n",
    "import pandas as pd\n",
    "import seaborn as sns\n",
    "import pylab\n",
    "import base.mv as mv\n",
    "from base import tools\n",
    "import matplotlib.pyplot as plt\n",
    "import itertools"
   ]
  },
  {
   "cell_type": "code",
   "execution_count": null,
   "metadata": {
    "collapsed": false
   },
   "outputs": [],
   "source": []
  },
  {
   "cell_type": "code",
   "execution_count": 2,
   "metadata": {
    "collapsed": false
   },
   "outputs": [],
   "source": [
    "from base.mv import NaivesBayesWrapper\n",
    "from sklearn.feature_selection import RFECV\n",
    "from sklearn.metrics import roc_auc_score\n",
    "from sklearn.metrics import make_scorer\n",
    "from scipy.stats import pearsonr"
   ]
  },
  {
   "cell_type": "code",
   "execution_count": 3,
   "metadata": {
    "collapsed": true
   },
   "outputs": [],
   "source": [
    "o_clf = OnevsallContinuous.load('../results/newmFC_kmeans_coact_m100_pca_9_GNB_t0.05_cog_topics_60/classifier.pkl')"
   ]
  },
  {
   "cell_type": "code",
   "execution_count": 4,
   "metadata": {
    "collapsed": false
   },
   "outputs": [],
   "source": [
    "all_res = []\n",
    "for i, (X, y) in enumerate(o_clf.data):\n",
    "    selector = RFECV(NaivesBayesWrapper(), scoring = make_scorer(roc_auc_score))\n",
    "    selector = selector.fit(X, y)\n",
    "    results = pd.DataFrame(\n",
    "        [np.array([i + 1] * selector.support_.shape[0]), selector.support_, selector.ranking_, o_clf.feature_names]).T\n",
    "    results.columns = ['region', 'support', 'ranking', 'feature']\n",
    "    all_res.append(results)"
   ]
  },
  {
   "cell_type": "code",
   "execution_count": 5,
   "metadata": {
    "collapsed": false
   },
   "outputs": [
    {
     "data": {
      "text/plain": [
       "array([ 0.51324045,  0.52156225,  0.52916284,  0.53135485,  0.5388524 ,\n",
       "        0.54646489,  0.55547669,  0.562615  ,  0.56971693,  0.57133814,\n",
       "        0.57844404,  0.58300164,  0.5869074 ,  0.58550553,  0.58518292,\n",
       "        0.58506665,  0.58827048,  0.58775238,  0.58880133,  0.58855107,\n",
       "        0.59253266,  0.59545136,  0.59588236,  0.59649004,  0.59720174,\n",
       "        0.59789464,  0.59619105,  0.5964861 ,  0.59464778,  0.59478275,\n",
       "        0.59448411,  0.595178  ,  0.59550954])"
      ]
     },
     "execution_count": 5,
     "metadata": {},
     "output_type": "execute_result"
    }
   ],
   "source": [
    "selector.grid_scores_"
   ]
  },
  {
   "cell_type": "code",
   "execution_count": 6,
   "metadata": {
    "collapsed": false
   },
   "outputs": [],
   "source": [
    "all_res = pd.concat(all_res)"
   ]
  },
  {
   "cell_type": "code",
   "execution_count": 8,
   "metadata": {
    "collapsed": false
   },
   "outputs": [
    {
     "ename": "KeyboardInterrupt",
     "evalue": "",
     "output_type": "error",
     "traceback": [
      "\u001b[0;31m---------------------------------------------------------------------------\u001b[0m",
      "\u001b[0;31mKeyboardInterrupt\u001b[0m                         Traceback (most recent call last)",
      "\u001b[0;32m<ipython-input-8-9c3b9a7c4313>\u001b[0m in \u001b[0;36m<module>\u001b[0;34m()\u001b[0m\n\u001b[0;32m----> 1\u001b[0;31m \u001b[0mmv_results\u001b[0m \u001b[0;34m=\u001b[0m \u001b[0mmv\u001b[0m\u001b[0;34m.\u001b[0m\u001b[0mcalc_mv_classifier\u001b[0m\u001b[0;34m(\u001b[0m\u001b[0mo_clf\u001b[0m\u001b[0;34m,\u001b[0m \u001b[0mroc_auc_score\u001b[0m\u001b[0;34m,\u001b[0m \u001b[0mprocesses\u001b[0m\u001b[0;34m=\u001b[0m\u001b[0;36m8\u001b[0m\u001b[0;34m,\u001b[0m \u001b[0mmethod\u001b[0m\u001b[0;34m=\u001b[0m\u001b[0;34m'combinatorial'\u001b[0m\u001b[0;34m)\u001b[0m\u001b[0;34m\u001b[0m\u001b[0m\n\u001b[0m",
      "\u001b[0;32m/Users/aleph4/Dropbox/projects/ns_classify/code/base/mv.pyc\u001b[0m in \u001b[0;36mcalc_mv_classifier\u001b[0;34m(clf, scorer, regions, processes, method)\u001b[0m\n\u001b[1;32m    173\u001b[0m     \u001b[0moverall_results\u001b[0m \u001b[0;34m=\u001b[0m \u001b[0;34m[\u001b[0m\u001b[0;34m]\u001b[0m\u001b[0;34m\u001b[0m\u001b[0m\n\u001b[1;32m    174\u001b[0m     for result in pool.imap(calc_mv_parallel_classifier, itertools.izip(itertools.repeat((filename, clf.classifier, scorer,\n\u001b[0;32m--> 175\u001b[0;31m         clf.comp_dims, clf.feature_importances, np.array(clf.feature_names), method)), regions)):\n\u001b[0m\u001b[1;32m    176\u001b[0m         \u001b[0mpb\u001b[0m\u001b[0;34m.\u001b[0m\u001b[0mnext\u001b[0m\u001b[0;34m(\u001b[0m\u001b[0;34m)\u001b[0m\u001b[0;34m\u001b[0m\u001b[0m\n\u001b[1;32m    177\u001b[0m         \u001b[0;32mfor\u001b[0m \u001b[0mrow\u001b[0m \u001b[0;32min\u001b[0m \u001b[0mresult\u001b[0m\u001b[0;34m:\u001b[0m\u001b[0;34m\u001b[0m\u001b[0m\n",
      "\u001b[0;32m/Users/aleph4/anaconda/lib/python2.7/multiprocessing/pool.pyc\u001b[0m in \u001b[0;36mnext\u001b[0;34m(self, timeout)\u001b[0m\n\u001b[1;32m    653\u001b[0m                 \u001b[0;32mif\u001b[0m \u001b[0mself\u001b[0m\u001b[0;34m.\u001b[0m\u001b[0m_index\u001b[0m \u001b[0;34m==\u001b[0m \u001b[0mself\u001b[0m\u001b[0;34m.\u001b[0m\u001b[0m_length\u001b[0m\u001b[0;34m:\u001b[0m\u001b[0;34m\u001b[0m\u001b[0m\n\u001b[1;32m    654\u001b[0m                     \u001b[0;32mraise\u001b[0m \u001b[0mStopIteration\u001b[0m\u001b[0;34m\u001b[0m\u001b[0m\n\u001b[0;32m--> 655\u001b[0;31m                 \u001b[0mself\u001b[0m\u001b[0;34m.\u001b[0m\u001b[0m_cond\u001b[0m\u001b[0;34m.\u001b[0m\u001b[0mwait\u001b[0m\u001b[0;34m(\u001b[0m\u001b[0mtimeout\u001b[0m\u001b[0;34m)\u001b[0m\u001b[0;34m\u001b[0m\u001b[0m\n\u001b[0m\u001b[1;32m    656\u001b[0m                 \u001b[0;32mtry\u001b[0m\u001b[0;34m:\u001b[0m\u001b[0;34m\u001b[0m\u001b[0m\n\u001b[1;32m    657\u001b[0m                     \u001b[0mitem\u001b[0m \u001b[0;34m=\u001b[0m \u001b[0mself\u001b[0m\u001b[0;34m.\u001b[0m\u001b[0m_items\u001b[0m\u001b[0;34m.\u001b[0m\u001b[0mpopleft\u001b[0m\u001b[0;34m(\u001b[0m\u001b[0;34m)\u001b[0m\u001b[0;34m\u001b[0m\u001b[0m\n",
      "\u001b[0;32m/Users/aleph4/anaconda/lib/python2.7/threading.pyc\u001b[0m in \u001b[0;36mwait\u001b[0;34m(self, timeout)\u001b[0m\n\u001b[1;32m    338\u001b[0m         \u001b[0;32mtry\u001b[0m\u001b[0;34m:\u001b[0m    \u001b[0;31m# restore state no matter what (e.g., KeyboardInterrupt)\u001b[0m\u001b[0;34m\u001b[0m\u001b[0m\n\u001b[1;32m    339\u001b[0m             \u001b[0;32mif\u001b[0m \u001b[0mtimeout\u001b[0m \u001b[0;32mis\u001b[0m \u001b[0mNone\u001b[0m\u001b[0;34m:\u001b[0m\u001b[0;34m\u001b[0m\u001b[0m\n\u001b[0;32m--> 340\u001b[0;31m                 \u001b[0mwaiter\u001b[0m\u001b[0;34m.\u001b[0m\u001b[0macquire\u001b[0m\u001b[0;34m(\u001b[0m\u001b[0;34m)\u001b[0m\u001b[0;34m\u001b[0m\u001b[0m\n\u001b[0m\u001b[1;32m    341\u001b[0m                 \u001b[0;32mif\u001b[0m \u001b[0m__debug__\u001b[0m\u001b[0;34m:\u001b[0m\u001b[0;34m\u001b[0m\u001b[0m\n\u001b[1;32m    342\u001b[0m                     \u001b[0mself\u001b[0m\u001b[0;34m.\u001b[0m\u001b[0m_note\u001b[0m\u001b[0;34m(\u001b[0m\u001b[0;34m\"%s.wait(): got it\"\u001b[0m\u001b[0;34m,\u001b[0m \u001b[0mself\u001b[0m\u001b[0;34m)\u001b[0m\u001b[0;34m\u001b[0m\u001b[0m\n",
      "\u001b[0;31mKeyboardInterrupt\u001b[0m: "
     ]
    }
   ],
   "source": [
    "mv_results = mv.calc_mv_classifier(o_clf, roc_auc_score, processes=8, method='combinatorial')"
   ]
  },
  {
   "cell_type": "code",
   "execution_count": null,
   "metadata": {
    "collapsed": true
   },
   "outputs": [],
   "source": [
    "def minimum_percent(region, percent=.1):\n",
    "    max = region['score'].max()\n",
    "    near_max = (max - ((max - 0.5) * percent))\n",
    "    labeled_rows = (region['score'] > near_max)\n",
    "    return pd.Series([region[labeled_rows]['num_features'].min(), region[labeled_rows].reset_index().ix[0].score])\n",
    "\n",
    "mv_near_max = mv_results.groupby('region').apply(minimum_percent, percent=0.05)"
   ]
  },
  {
   "cell_type": "code",
   "execution_count": 9,
   "metadata": {
    "collapsed": false
   },
   "outputs": [
    {
     "ename": "NameError",
     "evalue": "name 'mv_near_max' is not defined",
     "output_type": "error",
     "traceback": [
      "\u001b[0;31m---------------------------------------------------------------------------\u001b[0m",
      "\u001b[0;31mNameError\u001b[0m                                 Traceback (most recent call last)",
      "\u001b[0;32m<ipython-input-9-defd5729e818>\u001b[0m in \u001b[0;36m<module>\u001b[0;34m()\u001b[0m\n\u001b[0;32m----> 1\u001b[0;31m \u001b[0mmv_near_max\u001b[0m\u001b[0;34m.\u001b[0m\u001b[0mcolumns\u001b[0m \u001b[0;34m=\u001b[0m \u001b[0;34m[\u001b[0m\u001b[0;34m'n'\u001b[0m\u001b[0;34m,\u001b[0m \u001b[0;34m'score'\u001b[0m\u001b[0;34m]\u001b[0m\u001b[0;34m\u001b[0m\u001b[0m\n\u001b[0m",
      "\u001b[0;31mNameError\u001b[0m: name 'mv_near_max' is not defined"
     ]
    }
   ],
   "source": [
    "mv_near_max.columns = ['n', 'score']"
   ]
  },
  {
   "cell_type": "code",
   "execution_count": 10,
   "metadata": {
    "collapsed": false
   },
   "outputs": [],
   "source": [
    "all_res.support = all_res.support.astype(bool)"
   ]
  },
  {
   "cell_type": "code",
   "execution_count": 11,
   "metadata": {
    "collapsed": false
   },
   "outputs": [
    {
     "ename": "NameError",
     "evalue": "name 'mv_near_max' is not defined",
     "output_type": "error",
     "traceback": [
      "\u001b[0;31m---------------------------------------------------------------------------\u001b[0m",
      "\u001b[0;31mNameError\u001b[0m                                 Traceback (most recent call last)",
      "\u001b[0;32m<ipython-input-11-9d3cc27b3935>\u001b[0m in \u001b[0;36m<module>\u001b[0;34m()\u001b[0m\n\u001b[0;32m----> 1\u001b[0;31m \u001b[0mpearsonr\u001b[0m\u001b[0;34m(\u001b[0m\u001b[0mall_res\u001b[0m\u001b[0;34m.\u001b[0m\u001b[0mgroupby\u001b[0m\u001b[0;34m(\u001b[0m\u001b[0;34m'region'\u001b[0m\u001b[0;34m)\u001b[0m\u001b[0;34m.\u001b[0m\u001b[0msum\u001b[0m\u001b[0;34m(\u001b[0m\u001b[0;34m)\u001b[0m\u001b[0;34m.\u001b[0m\u001b[0msupport\u001b[0m\u001b[0;34m,\u001b[0m \u001b[0mmv_near_max\u001b[0m\u001b[0;34m.\u001b[0m\u001b[0mn\u001b[0m\u001b[0;34m)\u001b[0m\u001b[0;34m\u001b[0m\u001b[0m\n\u001b[0m",
      "\u001b[0;31mNameError\u001b[0m: name 'mv_near_max' is not defined"
     ]
    }
   ],
   "source": [
    "pearsonr(all_res.groupby('region').sum().support, mv_near_max.n)"
   ]
  },
  {
   "cell_type": "code",
   "execution_count": 12,
   "metadata": {
    "collapsed": false
   },
   "outputs": [],
   "source": [
    "tools.make_mask_map(all_res.groupby('region').sum().support, o_clf.mask_img, 'testsupport')"
   ]
  },
  {
   "cell_type": "code",
   "execution_count": 34,
   "metadata": {
    "collapsed": false
   },
   "outputs": [
    {
     "data": {
      "text/plain": [
       "region\n",
       "1    17\n",
       "2    18\n",
       "3    27\n",
       "4    17\n",
       "5    30\n",
       "6    18\n",
       "7    24\n",
       "8    29\n",
       "9    26\n",
       "Name: support, dtype: float64"
      ]
     },
     "execution_count": 34,
     "metadata": {},
     "output_type": "execute_result"
    }
   ],
   "source": [
    "all_res.groupby('region').sum().support"
   ]
  },
  {
   "cell_type": "markdown",
   "metadata": {},
   "source": [
    "#Best subsets"
   ]
  },
  {
   "cell_type": "code",
   "execution_count": 30,
   "metadata": {
    "collapsed": false
   },
   "outputs": [
    {
     "data": {
      "text/plain": [
       "<module 'base.mv' from 'base/mv.py'>"
      ]
     },
     "execution_count": 30,
     "metadata": {},
     "output_type": "execute_result"
    }
   ],
   "source": [
    "reload(mv)"
   ]
  },
  {
   "cell_type": "code",
   "execution_count": 31,
   "metadata": {
    "collapsed": false
   },
   "outputs": [
    {
     "name": "stdout",
     "output_type": "stream",
     "text": [
      "(7627, 1)\n",
      "(7627, 1)\n",
      "(7627, 1)\n",
      "(7627, 1)\n",
      "(7627, 1)\n",
      "(7627, 1)\n",
      "(7627, 1)\n",
      "(7627, 1)(7627, 1)(7627, 1)(7627, 1)(7627, 1)\n",
      "(7627, 1)\n",
      "(7627, 1)\n",
      "\n",
      "\n",
      "\n",
      "\n",
      "(7627, 1)\n",
      "(7627, 1)\n",
      "(7627, 1)\n",
      "(7627, 1)\n",
      "(7627, 1)\n",
      "(7627, 1)\n",
      "(7627, 1)\n",
      "(7627, 1)\n",
      "(7627, 1)\n",
      "(7627, 1)\n",
      "(7627, 1)\n",
      "(7627, 1)\n",
      "(7627, 1)\n",
      "(7627, 1)\n",
      "(7627, 1)\n",
      "(6868, 1)(6868, 1)\n",
      "(7627, 1)\n",
      "(7627, 1)\n",
      "(7627, 1)\n",
      "(7627, 1)\n",
      "(6868, 1)\n",
      "\n",
      "(6868, 1)\n",
      "(6868, 1)\n",
      "(6868, 1)\n",
      "(6868, 1)\n",
      "(6868, 1)\n",
      "(6868, 1)\n",
      "(6868, 1)\n",
      "(6868, 1)\n",
      "(6868, 1)\n",
      "(6868, 1)\n",
      "(6868, 1)\n",
      "(6868, 1)\n",
      "(6868, 1)\n",
      "(6868, 1)\n",
      "(6868, 1)\n",
      "(6868, 1)\n",
      "(6868, 1)\n",
      "(6868, 1)\n",
      "(6868, 1)\n",
      "(6868, 1)\n",
      "(6868, 1)\n",
      "(6868, 1)\n",
      "(6868, 1)\n",
      "(6868, 1)\n",
      "(6868, 1)\n",
      "(6868, 1)\n",
      "(8454, 1)(6868, 1)\n",
      "(8454, 1)(6868, 1)\n",
      "(6868, 1)\n",
      "(6868, 1)\n",
      "(8454, 1)\n",
      "(8454, 1)\n",
      "(8454, 1)(8454, 1)(8454, 1)\n",
      "(8454, 1)\n",
      "\n",
      "(8454, 1)\n",
      "\n",
      "\n",
      "\n",
      "(8454, 1)\n",
      "(8454, 1)\n",
      "(8454, 1)\n",
      "(8454, 1)\n",
      "(8454, 1)\n",
      "(8454, 1)\n",
      "(8454, 1)\n",
      "(8454, 1)\n",
      "(8454, 1)\n",
      "(8454, 1)\n",
      "(8454, 1)\n",
      "(8454, 1)\n",
      "(8454, 1)\n",
      "(8454, 1)\n",
      "(8454, 1)\n",
      "(8454, 1)\n",
      "(8454, 1)\n",
      "(8454, 1)\n",
      "(8454, 1)\n",
      "(8454, 1)\n",
      "(8454, 1)\n",
      "(8454, 1)\n",
      "(8313, 1)(8454, 1)\n",
      "(8313, 1)(8454, 1)\n",
      "(8313, 1)(8313, 1)(8313, 1)\n",
      "(8313, 1)\n",
      "(8313, 1)\n",
      "\n",
      "\n",
      "(8313, 1)\n",
      "\n",
      "(8313, 1)\n",
      "\n",
      "(8313, 1)\n",
      "(8313, 1)\n",
      "(8313, 1)\n",
      "(8313, 1)\n",
      "(8313, 1)\n",
      "(8313, 1)\n",
      "(8313, 1)\n",
      "(8313, 1)\n",
      "(8313, 1)\n",
      "(8313, 1)\n",
      "(8313, 1)\n",
      "(8313, 1)\n",
      "(8313, 1)\n",
      "(8313, 1)\n",
      "(8313, 1)\n",
      "(8313, 1)\n",
      "(8313, 1)\n",
      "(8313, 1)\n",
      "(8313, 1)\n",
      "(8354, 1)(8313, 1)\n",
      "(8313, 1)\n",
      "(8313, 1)\n",
      "(8313, 1)\n",
      "(8354, 1)(8354, 1)\n",
      "(8313, 1)\n",
      "(8354, 1)(8354, 1)(8354, 1)\n",
      "\n",
      "(8354, 1)\n",
      "(8354, 1)\n",
      "\n",
      "\n",
      "(8354, 1)\n",
      "(8354, 1)\n",
      "(8354, 1)\n",
      "\n",
      "(8354, 1)\n",
      "(8354, 1)\n",
      "(8354, 1)\n",
      "(8354, 1)\n",
      "(8354, 1)\n",
      "(8354, 1)\n",
      "(8354, 1)\n",
      "(8354, 1)\n",
      "(8354, 1)\n",
      "(8354, 1)\n",
      "(8354, 1)\n",
      "(8354, 1)\n",
      "(8354, 1)\n",
      "(8354, 1)\n",
      "(8354, 1)\n",
      "(8354, 1)\n",
      "(8354, 1)\n",
      "(7810, 1)(8354, 1)\n",
      "(7810, 1)\n",
      "(8354, 1)\n",
      "(8354, 1)\n",
      "(8354, 1)\n",
      "(8354, 1)\n",
      "\n",
      "(7810, 1)\n",
      "(7810, 1)\n",
      "(7810, 1)\n",
      "(7810, 1)\n",
      "(7810, 1)\n",
      "(7810, 1)(7810, 1)\n",
      "(7810, 1)\n",
      "(7810, 1)\n",
      "(7810, 1)\n",
      "(7810, 1)\n",
      "(7810, 1)\n",
      "\n",
      "(7810, 1)\n",
      "(7810, 1)\n",
      "(7810, 1)\n",
      "(7810, 1)\n",
      "(7810, 1)\n",
      "(7810, 1)\n",
      "(7810, 1)\n",
      "(7810, 1)\n",
      "(7810, 1)\n",
      "(7810, 1)\n",
      "(7810, 1)\n",
      "(7810, 1)\n",
      "(7810, 1)\n",
      "(7810, 1)\n",
      "(7810, 1)\n",
      "(7810, 1)\n",
      "(8455, 1)(7810, 1)\n",
      "(7810, 1)\n",
      "(8455, 1)(7810, 1)\n",
      "(8455, 1)\n",
      "(8455, 1)\n",
      "\n",
      "(8455, 1)(8455, 1)\n",
      "(8455, 1)(8455, 1)\n",
      "(8455, 1)\n",
      "(8455, 1)\n",
      "\n",
      "\n",
      "(8455, 1)\n",
      "\n",
      "(8455, 1)\n",
      "(8455, 1)\n",
      "(8455, 1)\n",
      "(8455, 1)\n",
      "(8455, 1)\n",
      "(8455, 1)\n",
      "(8455, 1)\n",
      "(8455, 1)\n",
      "(8455, 1)\n",
      "(8455, 1)\n",
      "(8455, 1)\n",
      "(8455, 1)\n",
      "(8455, 1)\n",
      "(8455, 1)\n",
      "(8455, 1)\n",
      "(8455, 1)\n",
      "(7374, 1)(8455, 1)\n",
      "(8455, 1)\n",
      "(8455, 1)\n",
      "(8455, 1)\n",
      "(7374, 1)\n",
      "(7374, 1)\n",
      "\n",
      "(8455, 1)\n",
      "(7374, 1)(7374, 1)\n",
      "(8455, 1)\n",
      "(7374, 1)\n",
      "(7374, 1)\n",
      "(7374, 1)\n",
      "(7374, 1)\n",
      "\n",
      "(7374, 1)\n",
      "(7374, 1)\n",
      "(7374, 1)\n",
      "(7374, 1)\n",
      "(7374, 1)\n",
      "(7374, 1)\n",
      "(7374, 1)\n",
      "(7374, 1)\n",
      "(7374, 1)\n",
      "(7374, 1)\n",
      "(7374, 1)\n",
      "(7374, 1)\n",
      "(7374, 1)\n",
      "(7374, 1)\n",
      "(7374, 1)\n",
      "(7374, 1)\n",
      "(7374, 1)\n",
      "(8747, 1)(7374, 1)\n",
      "(7374, 1)\n",
      "(7374, 1)\n",
      "(7374, 1)\n",
      "(7374, 1)\n",
      "(8747, 1)\n",
      "(8747, 1)(8747, 1)\n",
      "(7374, 1)\n",
      "(8747, 1)(7374, 1)\n",
      "\n",
      "(8747, 1)\n",
      "\n",
      "(8747, 1)\n",
      "(8747, 1)\n",
      "(8747, 1)(8747, 1)\n",
      "(8747, 1)\n",
      "(8747, 1)\n",
      "(8747, 1)\n",
      "\n",
      "(8747, 1)\n",
      "\n",
      "(8747, 1)\n",
      "(8747, 1)\n",
      "(8747, 1)\n",
      "(8747, 1)\n",
      "(8747, 1)\n",
      "(8747, 1)\n",
      "(8747, 1)\n",
      "(8747, 1)\n",
      "(8747, 1)\n",
      "(8747, 1)\n",
      "(8747, 1)\n",
      "(8747, 1)\n",
      "(8747, 1)\n",
      "(8747, 1)\n",
      "(8747, 1)\n",
      "(8747, 1)\n",
      "(8747, 1)\n",
      "(8747, 1)\n",
      "(8747, 1)\n"
     ]
    }
   ],
   "source": [
    "mv_results_best = mv.best_subsets(o_clf, roc_auc_score, processes=7)"
   ]
  },
  {
   "cell_type": "code",
   "execution_count": 32,
   "metadata": {
    "collapsed": false
   },
   "outputs": [
    {
     "data": {
      "text/html": [
       "<div>\n",
       "<table border=\"1\" class=\"dataframe\">\n",
       "  <thead>\n",
       "    <tr style=\"text-align: right;\">\n",
       "      <th></th>\n",
       "      <th>score</th>\n",
       "      <th>topics</th>\n",
       "      <th>combination</th>\n",
       "      <th>num_features</th>\n",
       "      <th>region</th>\n",
       "    </tr>\n",
       "  </thead>\n",
       "  <tbody>\n",
       "    <tr>\n",
       "      <th>0</th>\n",
       "      <td>0.529250</td>\n",
       "      <td>[topic59]</td>\n",
       "      <td>(29,)</td>\n",
       "      <td>1</td>\n",
       "      <td>1</td>\n",
       "    </tr>\n",
       "    <tr>\n",
       "      <th>1</th>\n",
       "      <td>0.560572</td>\n",
       "      <td>[topic23]</td>\n",
       "      <td>(8,)</td>\n",
       "      <td>1</td>\n",
       "      <td>2</td>\n",
       "    </tr>\n",
       "    <tr>\n",
       "      <th>2</th>\n",
       "      <td>0.559683</td>\n",
       "      <td>[topic15]</td>\n",
       "      <td>(4,)</td>\n",
       "      <td>1</td>\n",
       "      <td>3</td>\n",
       "    </tr>\n",
       "    <tr>\n",
       "      <th>3</th>\n",
       "      <td>0.528008</td>\n",
       "      <td>[topic23]</td>\n",
       "      <td>(8,)</td>\n",
       "      <td>1</td>\n",
       "      <td>4</td>\n",
       "    </tr>\n",
       "    <tr>\n",
       "      <th>4</th>\n",
       "      <td>0.522518</td>\n",
       "      <td>[topic39]</td>\n",
       "      <td>(18,)</td>\n",
       "      <td>1</td>\n",
       "      <td>5</td>\n",
       "    </tr>\n",
       "    <tr>\n",
       "      <th>5</th>\n",
       "      <td>0.580394</td>\n",
       "      <td>[topic15]</td>\n",
       "      <td>(4,)</td>\n",
       "      <td>1</td>\n",
       "      <td>6</td>\n",
       "    </tr>\n",
       "    <tr>\n",
       "      <th>6</th>\n",
       "      <td>0.515090</td>\n",
       "      <td>[topic59]</td>\n",
       "      <td>(29,)</td>\n",
       "      <td>1</td>\n",
       "      <td>7</td>\n",
       "    </tr>\n",
       "    <tr>\n",
       "      <th>7</th>\n",
       "      <td>0.531682</td>\n",
       "      <td>[topic29]</td>\n",
       "      <td>(11,)</td>\n",
       "      <td>1</td>\n",
       "      <td>8</td>\n",
       "    </tr>\n",
       "    <tr>\n",
       "      <th>8</th>\n",
       "      <td>0.525993</td>\n",
       "      <td>[topic57]</td>\n",
       "      <td>(27,)</td>\n",
       "      <td>1</td>\n",
       "      <td>9</td>\n",
       "    </tr>\n",
       "  </tbody>\n",
       "</table>\n",
       "</div>"
      ],
      "text/plain": [
       "      score     topics combination  num_features  region\n",
       "0  0.529250  [topic59]       (29,)             1       1\n",
       "1  0.560572  [topic23]        (8,)             1       2\n",
       "2  0.559683  [topic15]        (4,)             1       3\n",
       "3  0.528008  [topic23]        (8,)             1       4\n",
       "4  0.522518  [topic39]       (18,)             1       5\n",
       "5  0.580394  [topic15]        (4,)             1       6\n",
       "6  0.515090  [topic59]       (29,)             1       7\n",
       "7  0.531682  [topic29]       (11,)             1       8\n",
       "8  0.525993  [topic57]       (27,)             1       9"
      ]
     },
     "execution_count": 32,
     "metadata": {},
     "output_type": "execute_result"
    }
   ],
   "source": [
    "mv_results_best"
   ]
  },
  {
   "cell_type": "code",
   "execution_count": null,
   "metadata": {
    "collapsed": true
   },
   "outputs": [],
   "source": []
  }
 ],
 "metadata": {
  "kernelspec": {
   "display_name": "Python 2",
   "language": "python",
   "name": "python2"
  },
  "language_info": {
   "codemirror_mode": {
    "name": "ipython",
    "version": 2
   },
   "file_extension": ".py",
   "mimetype": "text/x-python",
   "name": "python",
   "nbconvert_exporter": "python",
   "pygments_lexer": "ipython2",
   "version": "2.7.10"
  }
 },
 "nbformat": 4,
 "nbformat_minor": 0
}
