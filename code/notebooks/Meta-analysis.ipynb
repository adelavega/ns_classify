{
 "cells": [
  {
   "cell_type": "code",
   "execution_count": 67,
   "metadata": {
    "collapsed": true
   },
   "outputs": [],
   "source": [
    "import seaborn as sns\n",
    "import pickle\n",
    "import pandas as pd\n",
    "import glob\n",
    "import re\n",
    "import matplotlib.pylab as plt\n",
    "from neurosynth.analysis.meta import MetaAnalysis\n",
    "from neurosynth.analysis.meta import analyze_features\n",
    "from nilearn import plotting as niplt\n",
    "import os\n",
    "\n",
    "%matplotlib inline\n",
    "from neurosynth.base.dataset import Dataset\n",
    "dataset = Dataset.load(\"../data/datasets/abs_60topics_filt_jul.pkl\")"
   ]
  },
  {
   "cell_type": "code",
   "execution_count": 40,
   "metadata": {
    "collapsed": false
   },
   "outputs": [],
   "source": [
    "features = {\n",
    "    'pain': 'topic59',\n",
    "    'wm': 'topic58',\n",
    "    'emotion': 'topic35',\n",
    "    'conflict': 'topic39',\n",
    "    'social': 'topic23',\n",
    "    'vision' : 'topic10',\n",
    "    'memory' : 'topic48'\n",
    "    }"
   ]
  },
  {
   "cell_type": "code",
   "execution_count": 68,
   "metadata": {
    "collapsed": false
   },
   "outputs": [],
   "source": [
    "for topic in features.keys():\n",
    "    out = '../results/meta-analysis/' + topic\n",
    "    if not os.path.exists(out):\n",
    "        os.makedirs(out)\n",
    "    meta = MetaAnalysis(dataset, dataset.get_studies(features=features[topic]))\n",
    "    meta.save_results(output_dir=out)"
   ]
  }
 ],
 "metadata": {
  "kernelspec": {
   "display_name": "Python 2",
   "language": "python",
   "name": "python2"
  },
  "language_info": {
   "codemirror_mode": {
    "name": "ipython",
    "version": 2
   },
   "file_extension": ".py",
   "mimetype": "text/x-python",
   "name": "python",
   "nbconvert_exporter": "python",
   "pygments_lexer": "ipython2",
   "version": "2.7.9"
  }
 },
 "nbformat": 4,
 "nbformat_minor": 0
}
