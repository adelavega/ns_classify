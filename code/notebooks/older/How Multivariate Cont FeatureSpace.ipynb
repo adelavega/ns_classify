{
 "metadata": {
  "name": "",
  "signature": "sha256:8372230a6371957b224240249ef3d8e7e82f93ee6bc13d2a163fbf6007f4f39a"
 },
 "nbformat": 3,
 "nbformat_minor": 0,
 "worksheets": [
  {
   "cells": [
    {
     "cell_type": "code",
     "collapsed": false,
     "input": [
      "from IPython.html.widgets import interact, interactive, fixed\n",
      "from IPython.html import widgets\n",
      "%load_ext rpy2.ipython\n",
      "%matplotlib inline\n",
      "from base.classifiers import OnevsallContinuous\n",
      "import numpy as np\n",
      "from base import plotting\n",
      "import base.classifiers.pairwise as pw\n",
      "import base.classifiers.onevsall as oa\n",
      "import base.classifiers\n",
      "import glob\n",
      "import pandas as pd\n",
      "from ggplot import *\n",
      "from base import tools\n",
      "from scipy import stats\n",
      "import itertools\n",
      "import seaborn as sns\n",
      "\n",
      "import mpld3\n",
      "import matplotlib.pyplot as plt\n",
      "mpld3.enable_notebook()"
     ],
     "language": "python",
     "metadata": {},
     "outputs": [],
     "prompt_number": 1
    },
    {
     "cell_type": "code",
     "collapsed": false,
     "input": [
      "from sklearn.metrics import explained_variance_score\n",
      "from sklearn.metrics import make_scorer\n",
      "from base.mv import calc_mv"
     ],
     "language": "python",
     "metadata": {},
     "outputs": [],
     "prompt_number": 2
    },
    {
     "cell_type": "code",
     "collapsed": false,
     "input": [
      "clf = OnevsallContinuous.load(\"../results/ward_f30_Ridge_abs_topics60_filt/classifier.pkl\")"
     ],
     "language": "python",
     "metadata": {},
     "outputs": [],
     "prompt_number": 3
    },
    {
     "cell_type": "code",
     "collapsed": false,
     "input": [
      "results = calc_mv(clf, make_scorer(explained_variance_score), regions=[1,2, 3, 4], processes=7)"
     ],
     "language": "python",
     "metadata": {},
     "outputs": [
      {
       "output_type": "stream",
       "stream": "stdout",
       "text": [
        "\r",
        "[##] 25%"
       ]
      },
      {
       "output_type": "stream",
       "stream": "stdout",
       "text": [
        "\r",
        "[#####] 50%"
       ]
      },
      {
       "output_type": "stream",
       "stream": "stdout",
       "text": [
        "\r",
        "[#######] 75%"
       ]
      },
      {
       "output_type": "stream",
       "stream": "stdout",
       "text": [
        "\r",
        "[##########] 100%"
       ]
      },
      {
       "output_type": "stream",
       "stream": "stdout",
       "text": [
        "\n"
       ]
      }
     ],
     "prompt_number": 6
    },
    {
     "cell_type": "code",
     "collapsed": false,
     "input": [
      "%Rpush results"
     ],
     "language": "python",
     "metadata": {},
     "outputs": [],
     "prompt_number": 38
    },
    {
     "cell_type": "code",
     "collapsed": false,
     "input": [
      "%%R\n",
      "results$score = as.numeric(results$score)\n",
      "results$num_features = as.numeric(results$num_features)\n",
      "results$region = as.numeric(results$region)\n",
      "\n",
      "library(dplyr)\n",
      "ms <- results %>%\n",
      "    group_by(num_features) %>%\n",
      "    summarise(score=mean(score))"
     ],
     "language": "python",
     "metadata": {},
     "outputs": [],
     "prompt_number": 39
    },
    {
     "cell_type": "code",
     "collapsed": false,
     "input": [
      "%%R -w 450 -h 390\n",
      "library(ggplot2)\n",
      "ggplot(results, aes(num_features, score)) + stat_summary(fun.y=mean, geom=\"point\") + theme_bw() + ylab(\"R-squared\" ) + xlab(\"\") + theme(axis.title.y = element_text(size = 13, vjust = 0.2))+\n",
      "coord_cartesian(ylim = c(0, 0.11))"
     ],
     "language": "python",
     "metadata": {},
     "outputs": [
      {
       "metadata": {},
       "output_type": "display_data",
       "png": "[encoded data removed]"
      }
     ],
     "prompt_number": 26
    },
    {
     "cell_type": "code",
     "collapsed": false,
     "input": [
      "(results.groupby('num_features').agg(np.mean).max())  - ((results.groupby('num_features').agg(np.mean).max() - 0.5) * .1)"
     ],
     "language": "python",
     "metadata": {},
     "outputs": []
    },
    {
     "cell_type": "code",
     "collapsed": false,
     "input": [
      "fis = pd.DataFrame(clf.feature_importances)\n",
      "fis['region'] = range(0, n_regions)\n",
      "fis_melt = pd.melt(fis, var_name='topic_order', value_name='importance', id_vars=['region'])"
     ],
     "language": "python",
     "metadata": {},
     "outputs": []
    },
    {
     "cell_type": "code",
     "collapsed": false,
     "input": [
      "top_words = pd.read_csv(\"../data/unprocessed/abstract_topics_filtered/topic_sets/top_words_\" + str(n_topics) + \".csv\")\n",
      "keys = pd.merge(pd.DataFrame(np.array([range(0, n_topics), clf.feature_names]).T, columns=['topic_order', 'topic_name']), top_words)\n",
      "keys.topic_order = keys.topic_order.astype('int')"
     ],
     "language": "python",
     "metadata": {},
     "outputs": []
    },
    {
     "cell_type": "code",
     "collapsed": false,
     "input": [
      "fis_melt = pd.merge(fis_melt, keys)\n",
      "fis_melt['abs_imp'] = np.abs(fis_melt['importance'])"
     ],
     "language": "python",
     "metadata": {},
     "outputs": []
    },
    {
     "cell_type": "code",
     "collapsed": false,
     "input": [
      "fis_melt[fis_melt.groupby('region')['abs_imp'].rank(ascending=False) < 6].sort(['region', 'abs_imp'])[fis_melt['region'] == 9]"
     ],
     "language": "python",
     "metadata": {},
     "outputs": []
    },
    {
     "cell_type": "code",
     "collapsed": false,
     "input": [
      "def minimum_percent(region, percent=.1):\n",
      "    max = region['score'].max() \n",
      "    labeled_rows = (region['score'] > (max - ((max) * percent)))\n",
      "    return region[labeled_rows]['num_features'].min()\n",
      "\n",
      "def minimum_fixed(region, fixed=.01):\n",
      "    labeled_rows = (region['score'] > (region['score'].max() - fixed))\n",
      "    return region[labeled_rows]['num_features'].min()\n"
     ],
     "language": "python",
     "metadata": {},
     "outputs": []
    },
    {
     "cell_type": "code",
     "collapsed": false,
     "input": [
      "ten_percent = results.groupby('region').apply(minimum_percent, percent=0.1)\n",
      "ten_percent_r = results.groupby('region').agg(np.mean)\n"
     ],
     "language": "python",
     "metadata": {},
     "outputs": []
    },
    {
     "cell_type": "code",
     "collapsed": false,
     "input": [
      "stats.pearsonr(results.groupby('region').head(1).score,ten_percent_r.score)"
     ],
     "language": "python",
     "metadata": {},
     "outputs": []
    },
    {
     "cell_type": "code",
     "collapsed": false,
     "input": [
      "stats.pearsonr(ten_percent,ten_percent_r.score) "
     ],
     "language": "python",
     "metadata": {},
     "outputs": []
    },
    {
     "cell_type": "code",
     "collapsed": false,
     "input": [
      "sns.regplot(ten_percent,ten_percent_r.score)"
     ],
     "language": "python",
     "metadata": {},
     "outputs": []
    },
    {
     "cell_type": "code",
     "collapsed": false,
     "input": [
      "ten_percent"
     ],
     "language": "python",
     "metadata": {},
     "outputs": []
    },
    {
     "cell_type": "code",
     "collapsed": false,
     "input": [
      "# tools.make_mask_map(np.array([0] + list(np.array(ten_percent).astype('float32') / 100)), clf.mask_img, '../results/ward_f30_Ridge_abs_topics60_filt/mv_10percent.nii')"
     ],
     "language": "python",
     "metadata": {},
     "outputs": []
    },
    {
     "cell_type": "code",
     "collapsed": false,
     "input": [
      "%%R -w 900 -h 425\n",
      "ggplot(subset(results, region %in% c(20, 23)), aes(num_features, score)) + geom_point() +  facet_grid(.~region) + theme_bw() + xlab(\"Number of features\") + ylab(\"Discriminability (Area under ROC)\") + ylab(\"\") + theme(axis.text.y = element_blank(), axis.title.x = element_text(size = 13, hjust=.21, vjust=0))"
     ],
     "language": "python",
     "metadata": {},
     "outputs": []
    },
    {
     "cell_type": "code",
     "collapsed": false,
     "input": [
      "sns.lmplot('num_features', 'score', col='region', data=results)"
     ],
     "language": "python",
     "metadata": {},
     "outputs": []
    },
    {
     "cell_type": "markdown",
     "metadata": {},
     "source": [
      "Region keys: 8 = vmPFC\n",
      "1 = mPFC / insula\n",
      "16 = nACC\n"
     ]
    },
    {
     "cell_type": "markdown",
     "metadata": {},
     "source": [
      "## Compare to pairwise dcor"
     ]
    },
    {
     "cell_type": "code",
     "collapsed": false,
     "input": [
      "clf_p = OnevsallContinuous.load('../results/ward_f30_Pairwise_Ridge_rz_abs_topics60_filt/classifier.pkl')"
     ],
     "language": "python",
     "metadata": {},
     "outputs": []
    },
    {
     "cell_type": "code",
     "collapsed": false,
     "input": [
      "stats.pearsonr(clf_p.dcor_features, ten_percent)"
     ],
     "language": "python",
     "metadata": {},
     "outputs": []
    },
    {
     "cell_type": "code",
     "collapsed": false,
     "input": [
      "sns.regplot(np.array(clf_p.dcor_features), np.array(ten_percent))"
     ],
     "language": "python",
     "metadata": {},
     "outputs": []
    },
    {
     "cell_type": "code",
     "collapsed": false,
     "input": [
      "stats.pearsonr(clf_p.dcor_features, clf_p.scores.mean(axis=0))"
     ],
     "language": "python",
     "metadata": {},
     "outputs": []
    },
    {
     "cell_type": "code",
     "collapsed": false,
     "input": [
      "stats.pearsonr(clf_p.dcor_features, clf.scores)"
     ],
     "language": "python",
     "metadata": {},
     "outputs": []
    },
    {
     "cell_type": "code",
     "collapsed": false,
     "input": [
      "sns.regplot(np.array(clf_p.dcor_features), np.array(clf_p.scores.mean(axis=0)))"
     ],
     "language": "python",
     "metadata": {},
     "outputs": []
    },
    {
     "cell_type": "code",
     "collapsed": false,
     "input": [],
     "language": "python",
     "metadata": {},
     "outputs": []
    }
   ],
   "metadata": {}
  }
 ]
}