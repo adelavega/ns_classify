{
 "cells": [
  {
   "cell_type": "code",
   "execution_count": 2,
   "metadata": {
    "collapsed": false
   },
   "outputs": [
    {
     "name": "stderr",
     "output_type": "stream",
     "text": [
      ":0: FutureWarning: IPython widgets are experimental and may change in the future.\n"
     ]
    }
   ],
   "source": [
    "from IPython.html import widgets\n",
    "%load_ext rpy2.ipython"
   ]
  },
  {
   "cell_type": "code",
   "execution_count": null,
   "metadata": {
    "collapsed": true
   },
   "outputs": [],
   "source": []
  },
  {
   "cell_type": "code",
   "execution_count": 3,
   "metadata": {
    "collapsed": false
   },
   "outputs": [],
   "source": [
    "import numpy as np\n",
    "from base import plotting\n",
    "from base.classifiers import OnevsallContinuous\n",
    "from base import img_tools\n",
    "import base.classifiers.onevsall as oa\n",
    "import glob\n",
    "import pandas as pd\n",
    "from base import tools\n",
    "from scipy import stats\n",
    "import itertools\n",
    "import seaborn as sns\n",
    "import matplotlib.pyplot as plt\n",
    "import matplotlib.cm as cm\n",
    "import matplotlib.colors as mplcolors\n",
    "\n",
    "import pylab"
   ]
  },
  {
   "cell_type": "code",
   "execution_count": 4,
   "metadata": {
    "collapsed": false
   },
   "outputs": [],
   "source": [
    "from neurosynth.base.dataset import Dataset\n",
    "dataset = Dataset.load(\"../data/datasets/abs_60topics_filt_jul.pkl\")"
   ]
  },
  {
   "cell_type": "code",
   "execution_count": 5,
   "metadata": {
    "collapsed": false
   },
   "outputs": [
    {
     "name": "stderr",
     "output_type": "stream",
     "text": [
      "/Users/aleph4/anaconda/lib/python2.7/site-packages/rpy2/robjects/functions.py:106: UserWarning: Need help? Try the ggplot2 mailing list: http://groups.google.com/group/ggplot2.\n",
      "\n",
      "  res = super(Function, self).__call__(*new_args, **new_kwargs)\n",
      "/Users/aleph4/anaconda/lib/python2.7/site-packages/rpy2/robjects/functions.py:106: UserWarning: \n",
      "Attaching package: ‘dplyr’\n",
      "\n",
      "\n",
      "  res = super(Function, self).__call__(*new_args, **new_kwargs)\n",
      "/Users/aleph4/anaconda/lib/python2.7/site-packages/rpy2/robjects/functions.py:106: UserWarning: The following objects are masked from ‘package:stats’:\n",
      "\n",
      "    filter, lag\n",
      "\n",
      "\n",
      "  res = super(Function, self).__call__(*new_args, **new_kwargs)\n",
      "/Users/aleph4/anaconda/lib/python2.7/site-packages/rpy2/robjects/functions.py:106: UserWarning: The following objects are masked from ‘package:base’:\n",
      "\n",
      "    intersect, setdiff, setequal, union\n",
      "\n",
      "\n",
      "  res = super(Function, self).__call__(*new_args, **new_kwargs)\n",
      "/Users/aleph4/anaconda/lib/python2.7/site-packages/rpy2/robjects/functions.py:106: UserWarning: \n",
      "Attaching package: ‘MASS’\n",
      "\n",
      "\n",
      "  res = super(Function, self).__call__(*new_args, **new_kwargs)\n",
      "/Users/aleph4/anaconda/lib/python2.7/site-packages/rpy2/robjects/functions.py:106: UserWarning: The following object is masked from ‘package:dplyr’:\n",
      "\n",
      "    select\n",
      "\n",
      "\n",
      "  res = super(Function, self).__call__(*new_args, **new_kwargs)\n"
     ]
    }
   ],
   "source": [
    "%%R\n",
    "library(ggplot2)\n",
    "library(dplyr)\n",
    "library(MASS)\n",
    "library(reshape2)"
   ]
  },
  {
   "cell_type": "markdown",
   "metadata": {
    "slideshow": {
     "slide_type": "slide"
    }
   },
   "source": [
    "# Active or not - hard zero"
   ]
  },
  {
   "cell_type": "code",
   "execution_count": 106,
   "metadata": {
    "collapsed": false
   },
   "outputs": [],
   "source": [
    "clfs = [OnevsallContinuous.load(clf + \"/classifier_nd.pkl\") for clf in glob.glob(\"../results/classification/MFC_*Ridge_*\")]"
   ]
  },
  {
   "cell_type": "code",
   "execution_count": 107,
   "metadata": {
    "collapsed": false
   },
   "outputs": [],
   "source": [
    "all_scores = []\n",
    "for clfs in [clfs]:\n",
    "    for clf in clfs:\n",
    "        for n, score in enumerate(clf.class_score):\n",
    "            all_scores.append([str(clf.classifier.__class__).split('.')[-1].split('\\'')[0],clf.mask_num, n, clf.n_features_orig,  score])\n"
   ]
  },
  {
   "cell_type": "code",
   "execution_count": 108,
   "metadata": {
    "collapsed": false
   },
   "outputs": [],
   "source": [
    "all_scores = pd.DataFrame(all_scores, columns=['clf', 'n_regions', 'region', 'n_topics',  'roc_auc'])\n",
    "all_scores['n_regions'] = all_scores['n_regions'].apply(str)"
   ]
  },
  {
   "cell_type": "code",
   "execution_count": null,
   "metadata": {
    "collapsed": false
   },
   "outputs": [],
   "source": []
  },
  {
   "cell_type": "code",
   "execution_count": 112,
   "metadata": {
    "collapsed": false
   },
   "outputs": [
    {
     "data": {
      "text/plain": [
       "(0.495, 0.545)"
      ]
     },
     "execution_count": 112,
     "metadata": {},
     "output_type": "execute_result"
    },
    {
     "data": {
      "image/png": "[encoded data removed]",
      "text/plain": [
       "<matplotlib.figure.Figure at 0x110cded90>"
      ]
     },
     "metadata": {},
     "output_type": "display_data"
    }
   ],
   "source": [
    "ax = sns.boxplot(x=\"n_topics\", y=\"roc_auc\", data=all_scores)\n",
    "# ax = sns.stripplot(x=\"n_topics\", y=\"roc_auc\", data=all_scores, jitter=True, hue='clf', )\n",
    "plt.legend(loc='upper right')\n",
    "ax.set_ylim(0.495, 0.545)"
   ]
  },
  {
   "cell_type": "code",
   "execution_count": 95,
   "metadata": {
    "collapsed": false
   },
   "outputs": [
    {
     "data": {
      "text/plain": [
       "<matplotlib.axes._subplots.AxesSubplot at 0x11203a8d0>"
      ]
     },
     "execution_count": 95,
     "metadata": {},
     "output_type": "execute_result"
    }
   ],
   "source": [
    "ax.axes"
   ]
  },
  {
   "cell_type": "code",
   "execution_count": 89,
   "metadata": {
    "collapsed": true
   },
   "outputs": [],
   "source": [
    "?sns.stripplot"
   ]
  },
  {
   "cell_type": "code",
   "execution_count": null,
   "metadata": {
    "collapsed": true
   },
   "outputs": [],
   "source": [
    "sns.boxplot"
   ]
  },
  {
   "cell_type": "code",
   "execution_count": 66,
   "metadata": {
    "collapsed": true
   },
   "outputs": [],
   "source": [
    "?sns.boxplot"
   ]
  },
  {
   "cell_type": "code",
   "execution_count": 61,
   "metadata": {
    "collapsed": false
   },
   "outputs": [],
   "source": [
    "?sns.stripplot('n_topics', 'roc_auc', data=all_scores, hue='clf')"
   ]
  },
  {
   "cell_type": "code",
   "execution_count": 59,
   "metadata": {
    "collapsed": false
   },
   "outputs": [],
   "source": [
    "?sns.boxplot"
   ]
  },
  {
   "cell_type": "code",
   "execution_count": 57,
   "metadata": {
    "collapsed": false
   },
   "outputs": [
    {
     "name": "stdout",
     "output_type": "stream",
     "text": [
      "Object `sns.vio` not found.\n"
     ]
    }
   ],
   "source": [
    "?sns.vio"
   ]
  },
  {
   "cell_type": "code",
   "execution_count": 36,
   "metadata": {
    "collapsed": false
   },
   "outputs": [],
   "source": [
    "?sns.violinplot"
   ]
  },
  {
   "cell_type": "code",
   "execution_count": 26,
   "metadata": {
    "collapsed": false
   },
   "outputs": [
    {
     "ename": "IOError",
     "evalue": "[Errno 2] No such file or directory: '../results/perm_cluster/medial_fc_30_kmeans/kmeans_k10/cluster_labels.nii.gz'",
     "output_type": "error",
     "traceback": [
      "\u001b[0;31m---------------------------------------------------------------------------\u001b[0m",
      "\u001b[0;31mIOError\u001b[0m                                   Traceback (most recent call last)",
      "\u001b[0;32m<ipython-input-26-d784ae56514d>\u001b[0m in \u001b[0;36m<module>\u001b[0;34m()\u001b[0m\n\u001b[1;32m      3\u001b[0m \u001b[0;32mfor\u001b[0m \u001b[0mregions\u001b[0m \u001b[0;32min\u001b[0m \u001b[0mclfs\u001b[0m\u001b[0;34m:\u001b[0m\u001b[0;34m\u001b[0m\u001b[0m\n\u001b[1;32m      4\u001b[0m     n_vox = n_vox + list(itertools.izip(itertools.repeat(regions.mask_num), range(0, regions.mask_num), \n\u001b[0;32m----> 5\u001b[0;31m                                      list(region_n_vox(dataset, regions.mask_img))))\n\u001b[0m\u001b[1;32m      6\u001b[0m \u001b[0mn_vox\u001b[0m \u001b[0;34m=\u001b[0m \u001b[0mpd\u001b[0m\u001b[0;34m.\u001b[0m\u001b[0mDataFrame\u001b[0m\u001b[0;34m(\u001b[0m\u001b[0mn_vox\u001b[0m\u001b[0;34m,\u001b[0m \u001b[0mcolumns\u001b[0m\u001b[0;34m=\u001b[0m\u001b[0;34m[\u001b[0m\u001b[0;34m'n_regions'\u001b[0m\u001b[0;34m,\u001b[0m \u001b[0;34m'region'\u001b[0m\u001b[0;34m,\u001b[0m \u001b[0;34m'voxels'\u001b[0m\u001b[0;34m]\u001b[0m\u001b[0;34m)\u001b[0m\u001b[0;34m\u001b[0m\u001b[0m\n\u001b[1;32m      7\u001b[0m \u001b[0mn_vox\u001b[0m\u001b[0;34m[\u001b[0m\u001b[0;34m'n_regions'\u001b[0m\u001b[0;34m]\u001b[0m \u001b[0;34m=\u001b[0m \u001b[0mn_vox\u001b[0m\u001b[0;34m[\u001b[0m\u001b[0;34m'n_regions'\u001b[0m\u001b[0;34m]\u001b[0m\u001b[0;34m.\u001b[0m\u001b[0mapply\u001b[0m\u001b[0;34m(\u001b[0m\u001b[0mstr\u001b[0m\u001b[0;34m)\u001b[0m\u001b[0;34m\u001b[0m\u001b[0m\n",
      "\u001b[0;32m/Users/aleph4/Dropbox/projects/ns_classify/code/base/tools.pyc\u001b[0m in \u001b[0;36mregion_n_vox\u001b[0;34m(dataset, regions, remove_zero)\u001b[0m\n\u001b[1;32m    178\u001b[0m \u001b[0;34m\u001b[0m\u001b[0m\n\u001b[1;32m    179\u001b[0m \u001b[0;32mdef\u001b[0m \u001b[0mregion_n_vox\u001b[0m\u001b[0;34m(\u001b[0m\u001b[0mdataset\u001b[0m\u001b[0;34m,\u001b[0m \u001b[0mregions\u001b[0m\u001b[0;34m,\u001b[0m \u001b[0mremove_zero\u001b[0m\u001b[0;34m=\u001b[0m\u001b[0mTrue\u001b[0m\u001b[0;34m)\u001b[0m\u001b[0;34m:\u001b[0m\u001b[0;34m\u001b[0m\u001b[0m\n\u001b[0;32m--> 180\u001b[0;31m     \u001b[0mmask\u001b[0m \u001b[0;34m=\u001b[0m \u001b[0mdataset\u001b[0m\u001b[0;34m.\u001b[0m\u001b[0mmasker\u001b[0m\u001b[0;34m.\u001b[0m\u001b[0mmask\u001b[0m\u001b[0;34m(\u001b[0m\u001b[0mregions\u001b[0m\u001b[0;34m)\u001b[0m\u001b[0;34m\u001b[0m\u001b[0m\n\u001b[0m\u001b[1;32m    181\u001b[0m \u001b[0;34m\u001b[0m\u001b[0m\n\u001b[1;32m    182\u001b[0m     \u001b[0mresults\u001b[0m \u001b[0;34m=\u001b[0m \u001b[0mnp\u001b[0m\u001b[0;34m.\u001b[0m\u001b[0mbincount\u001b[0m\u001b[0;34m(\u001b[0m\u001b[0;34m[\u001b[0m\u001b[0mint\u001b[0m\u001b[0;34m(\u001b[0m\u001b[0mnum\u001b[0m\u001b[0;34m)\u001b[0m \u001b[0;32mfor\u001b[0m \u001b[0mnum\u001b[0m \u001b[0;32min\u001b[0m \u001b[0mmask\u001b[0m\u001b[0;34m]\u001b[0m\u001b[0;34m)\u001b[0m\u001b[0;34m\u001b[0m\u001b[0m\n",
      "\u001b[0;32m/Users/aleph4/anaconda/lib/python2.7/site-packages/neurosynth-0.3.3-py2.7.egg/neurosynth/base/mask.pyc\u001b[0m in \u001b[0;36mmask\u001b[0;34m(self, image, nan_to_num, layers, in_global_mask)\u001b[0m\n\u001b[1;32m    152\u001b[0m         \"\"\"\n\u001b[1;32m    153\u001b[0m         \u001b[0mself\u001b[0m\u001b[0;34m.\u001b[0m\u001b[0mset_mask\u001b[0m\u001b[0;34m(\u001b[0m\u001b[0mlayers\u001b[0m\u001b[0;34m)\u001b[0m\u001b[0;34m\u001b[0m\u001b[0m\n\u001b[0;32m--> 154\u001b[0;31m         \u001b[0mimage\u001b[0m \u001b[0;34m=\u001b[0m \u001b[0mself\u001b[0m\u001b[0;34m.\u001b[0m\u001b[0mget_image\u001b[0m\u001b[0;34m(\u001b[0m\u001b[0mimage\u001b[0m\u001b[0;34m,\u001b[0m \u001b[0moutput\u001b[0m\u001b[0;34m=\u001b[0m\u001b[0;34m'vector'\u001b[0m\u001b[0;34m)\u001b[0m\u001b[0;34m\u001b[0m\u001b[0m\n\u001b[0m\u001b[1;32m    155\u001b[0m \u001b[0;34m\u001b[0m\u001b[0m\n\u001b[1;32m    156\u001b[0m         \u001b[0;32mif\u001b[0m \u001b[0min_global_mask\u001b[0m\u001b[0;34m:\u001b[0m\u001b[0;34m\u001b[0m\u001b[0m\n",
      "\u001b[0;32m/Users/aleph4/anaconda/lib/python2.7/site-packages/neurosynth-0.3.3-py2.7.egg/neurosynth/base/mask.pyc\u001b[0m in \u001b[0;36mget_image\u001b[0;34m(self, image, output)\u001b[0m\n\u001b[1;32m    105\u001b[0m         \"\"\"\n\u001b[1;32m    106\u001b[0m         \u001b[0;32mif\u001b[0m \u001b[0misinstance\u001b[0m\u001b[0;34m(\u001b[0m\u001b[0mimage\u001b[0m\u001b[0;34m,\u001b[0m \u001b[0mstring_types\u001b[0m\u001b[0;34m)\u001b[0m\u001b[0;34m:\u001b[0m\u001b[0;34m\u001b[0m\u001b[0m\n\u001b[0;32m--> 107\u001b[0;31m             \u001b[0mimage\u001b[0m \u001b[0;34m=\u001b[0m \u001b[0mnb\u001b[0m\u001b[0;34m.\u001b[0m\u001b[0mload\u001b[0m\u001b[0;34m(\u001b[0m\u001b[0mimage\u001b[0m\u001b[0;34m)\u001b[0m\u001b[0;34m\u001b[0m\u001b[0m\n\u001b[0m\u001b[1;32m    108\u001b[0m \u001b[0;34m\u001b[0m\u001b[0m\n\u001b[1;32m    109\u001b[0m         \u001b[0;32mif\u001b[0m \u001b[0mtype\u001b[0m\u001b[0;34m(\u001b[0m\u001b[0mimage\u001b[0m\u001b[0;34m)\u001b[0m\u001b[0;34m.\u001b[0m\u001b[0m__module__\u001b[0m\u001b[0;34m.\u001b[0m\u001b[0mstartswith\u001b[0m\u001b[0;34m(\u001b[0m\u001b[0;34m'nibabel'\u001b[0m\u001b[0;34m)\u001b[0m\u001b[0;34m:\u001b[0m\u001b[0;34m\u001b[0m\u001b[0m\n",
      "\u001b[0;32m/Users/aleph4/anaconda/lib/python2.7/site-packages/nibabel/loadsave.pyc\u001b[0m in \u001b[0;36mload\u001b[0;34m(filename)\u001b[0m\n\u001b[1;32m     52\u001b[0m         \u001b[0;32melse\u001b[0m\u001b[0;34m:\u001b[0m\u001b[0;34m\u001b[0m\u001b[0m\n\u001b[1;32m     53\u001b[0m             \u001b[0mklass\u001b[0m \u001b[0;34m=\u001b[0m  \u001b[0mspm2\u001b[0m\u001b[0;34m.\u001b[0m\u001b[0mSpm2AnalyzeImage\u001b[0m\u001b[0;34m\u001b[0m\u001b[0m\n\u001b[0;32m---> 54\u001b[0;31m     \u001b[0;32mreturn\u001b[0m \u001b[0mklass\u001b[0m\u001b[0;34m.\u001b[0m\u001b[0mfrom_filename\u001b[0m\u001b[0;34m(\u001b[0m\u001b[0mfilename\u001b[0m\u001b[0;34m)\u001b[0m\u001b[0;34m\u001b[0m\u001b[0m\n\u001b[0m\u001b[1;32m     55\u001b[0m \u001b[0;34m\u001b[0m\u001b[0m\n\u001b[1;32m     56\u001b[0m \u001b[0;34m\u001b[0m\u001b[0m\n",
      "\u001b[0;32m/Users/aleph4/anaconda/lib/python2.7/site-packages/nibabel/spatialimages.pyc\u001b[0m in \u001b[0;36mfrom_filename\u001b[0;34m(klass, filename)\u001b[0m\n\u001b[1;32m    409\u001b[0m     \u001b[0;32mdef\u001b[0m \u001b[0mfrom_filename\u001b[0m\u001b[0;34m(\u001b[0m\u001b[0mklass\u001b[0m\u001b[0;34m,\u001b[0m \u001b[0mfilename\u001b[0m\u001b[0;34m)\u001b[0m\u001b[0;34m:\u001b[0m\u001b[0;34m\u001b[0m\u001b[0m\n\u001b[1;32m    410\u001b[0m         \u001b[0mfile_map\u001b[0m \u001b[0;34m=\u001b[0m \u001b[0mklass\u001b[0m\u001b[0;34m.\u001b[0m\u001b[0mfilespec_to_file_map\u001b[0m\u001b[0;34m(\u001b[0m\u001b[0mfilename\u001b[0m\u001b[0;34m)\u001b[0m\u001b[0;34m\u001b[0m\u001b[0m\n\u001b[0;32m--> 411\u001b[0;31m         \u001b[0;32mreturn\u001b[0m \u001b[0mklass\u001b[0m\u001b[0;34m.\u001b[0m\u001b[0mfrom_file_map\u001b[0m\u001b[0;34m(\u001b[0m\u001b[0mfile_map\u001b[0m\u001b[0;34m)\u001b[0m\u001b[0;34m\u001b[0m\u001b[0m\n\u001b[0m\u001b[1;32m    412\u001b[0m \u001b[0;34m\u001b[0m\u001b[0m\n\u001b[1;32m    413\u001b[0m     \u001b[0;34m@\u001b[0m\u001b[0mclassmethod\u001b[0m\u001b[0;34m\u001b[0m\u001b[0m\n",
      "\u001b[0;32m/Users/aleph4/anaconda/lib/python2.7/site-packages/nibabel/analyze.pyc\u001b[0m in \u001b[0;36mfrom_file_map\u001b[0;34m(klass, file_map)\u001b[0m\n\u001b[1;32m    867\u001b[0m         '''\n\u001b[1;32m    868\u001b[0m         \u001b[0mhdr_fh\u001b[0m\u001b[0;34m,\u001b[0m \u001b[0mimg_fh\u001b[0m \u001b[0;34m=\u001b[0m \u001b[0mklass\u001b[0m\u001b[0;34m.\u001b[0m\u001b[0m_get_fileholders\u001b[0m\u001b[0;34m(\u001b[0m\u001b[0mfile_map\u001b[0m\u001b[0;34m)\u001b[0m\u001b[0;34m\u001b[0m\u001b[0m\n\u001b[0;32m--> 869\u001b[0;31m         \u001b[0mhdrf\u001b[0m \u001b[0;34m=\u001b[0m \u001b[0mhdr_fh\u001b[0m\u001b[0;34m.\u001b[0m\u001b[0mget_prepare_fileobj\u001b[0m\u001b[0;34m(\u001b[0m\u001b[0mmode\u001b[0m\u001b[0;34m=\u001b[0m\u001b[0;34m'rb'\u001b[0m\u001b[0;34m)\u001b[0m\u001b[0;34m\u001b[0m\u001b[0m\n\u001b[0m\u001b[1;32m    870\u001b[0m         \u001b[0mheader\u001b[0m \u001b[0;34m=\u001b[0m \u001b[0mklass\u001b[0m\u001b[0;34m.\u001b[0m\u001b[0mheader_class\u001b[0m\u001b[0;34m.\u001b[0m\u001b[0mfrom_fileobj\u001b[0m\u001b[0;34m(\u001b[0m\u001b[0mhdrf\u001b[0m\u001b[0;34m)\u001b[0m\u001b[0;34m\u001b[0m\u001b[0m\n\u001b[1;32m    871\u001b[0m         \u001b[0;32mif\u001b[0m \u001b[0mhdr_fh\u001b[0m\u001b[0;34m.\u001b[0m\u001b[0mfileobj\u001b[0m \u001b[0;32mis\u001b[0m \u001b[0mNone\u001b[0m\u001b[0;34m:\u001b[0m \u001b[0;31m# was filename\u001b[0m\u001b[0;34m\u001b[0m\u001b[0m\n",
      "\u001b[0;32m/Users/aleph4/anaconda/lib/python2.7/site-packages/nibabel/fileholders.pyc\u001b[0m in \u001b[0;36mget_prepare_fileobj\u001b[0;34m(self, *args, **kwargs)\u001b[0m\n\u001b[1;32m     67\u001b[0m             \u001b[0mobj\u001b[0m\u001b[0;34m.\u001b[0m\u001b[0mseek\u001b[0m\u001b[0;34m(\u001b[0m\u001b[0mself\u001b[0m\u001b[0;34m.\u001b[0m\u001b[0mpos\u001b[0m\u001b[0;34m)\u001b[0m\u001b[0;34m\u001b[0m\u001b[0m\n\u001b[1;32m     68\u001b[0m         \u001b[0;32melif\u001b[0m \u001b[0mself\u001b[0m\u001b[0;34m.\u001b[0m\u001b[0mfilename\u001b[0m \u001b[0;32mis\u001b[0m \u001b[0;32mnot\u001b[0m \u001b[0mNone\u001b[0m\u001b[0;34m:\u001b[0m\u001b[0;34m\u001b[0m\u001b[0m\n\u001b[0;32m---> 69\u001b[0;31m             \u001b[0mobj\u001b[0m \u001b[0;34m=\u001b[0m \u001b[0mallopen\u001b[0m\u001b[0;34m(\u001b[0m\u001b[0mself\u001b[0m\u001b[0;34m.\u001b[0m\u001b[0mfilename\u001b[0m\u001b[0;34m,\u001b[0m \u001b[0;34m*\u001b[0m\u001b[0margs\u001b[0m\u001b[0;34m,\u001b[0m \u001b[0;34m**\u001b[0m\u001b[0mkwargs\u001b[0m\u001b[0;34m)\u001b[0m\u001b[0;34m\u001b[0m\u001b[0m\n\u001b[0m\u001b[1;32m     70\u001b[0m             \u001b[0;32mif\u001b[0m \u001b[0mself\u001b[0m\u001b[0;34m.\u001b[0m\u001b[0mpos\u001b[0m \u001b[0;34m!=\u001b[0m \u001b[0;36m0\u001b[0m\u001b[0;34m:\u001b[0m\u001b[0;34m\u001b[0m\u001b[0m\n\u001b[1;32m     71\u001b[0m                 \u001b[0mobj\u001b[0m\u001b[0;34m.\u001b[0m\u001b[0mseek\u001b[0m\u001b[0;34m(\u001b[0m\u001b[0mself\u001b[0m\u001b[0;34m.\u001b[0m\u001b[0mpos\u001b[0m\u001b[0;34m)\u001b[0m\u001b[0;34m\u001b[0m\u001b[0m\n",
      "\u001b[0;32m/Users/aleph4/anaconda/lib/python2.7/site-packages/nibabel/volumeutils.pyc\u001b[0m in \u001b[0;36mallopen\u001b[0;34m(fname, *args, **kwargs)\u001b[0m\n\u001b[1;32m   1282\u001b[0m     \u001b[0;32melse\u001b[0m\u001b[0;34m:\u001b[0m\u001b[0;34m\u001b[0m\u001b[0m\n\u001b[1;32m   1283\u001b[0m         \u001b[0mopener\u001b[0m \u001b[0;34m=\u001b[0m \u001b[0mopen\u001b[0m\u001b[0;34m\u001b[0m\u001b[0m\n\u001b[0;32m-> 1284\u001b[0;31m     \u001b[0;32mreturn\u001b[0m \u001b[0mopener\u001b[0m\u001b[0;34m(\u001b[0m\u001b[0mfname\u001b[0m\u001b[0;34m,\u001b[0m \u001b[0;34m*\u001b[0m\u001b[0margs\u001b[0m\u001b[0;34m,\u001b[0m \u001b[0;34m**\u001b[0m\u001b[0mkwargs\u001b[0m\u001b[0;34m)\u001b[0m\u001b[0;34m\u001b[0m\u001b[0m\n\u001b[0m\u001b[1;32m   1285\u001b[0m \u001b[0;34m\u001b[0m\u001b[0m\n\u001b[1;32m   1286\u001b[0m \u001b[0;34m\u001b[0m\u001b[0m\n",
      "\u001b[0;32m/Users/aleph4/anaconda/lib/python2.7/gzip.pyc\u001b[0m in \u001b[0;36mopen\u001b[0;34m(filename, mode, compresslevel)\u001b[0m\n\u001b[1;32m     32\u001b[0m \u001b[0;34m\u001b[0m\u001b[0m\n\u001b[1;32m     33\u001b[0m     \"\"\"\n\u001b[0;32m---> 34\u001b[0;31m     \u001b[0;32mreturn\u001b[0m \u001b[0mGzipFile\u001b[0m\u001b[0;34m(\u001b[0m\u001b[0mfilename\u001b[0m\u001b[0;34m,\u001b[0m \u001b[0mmode\u001b[0m\u001b[0;34m,\u001b[0m \u001b[0mcompresslevel\u001b[0m\u001b[0;34m)\u001b[0m\u001b[0;34m\u001b[0m\u001b[0m\n\u001b[0m\u001b[1;32m     35\u001b[0m \u001b[0;34m\u001b[0m\u001b[0m\n\u001b[1;32m     36\u001b[0m \u001b[0;32mclass\u001b[0m \u001b[0mGzipFile\u001b[0m\u001b[0;34m(\u001b[0m\u001b[0mio\u001b[0m\u001b[0;34m.\u001b[0m\u001b[0mBufferedIOBase\u001b[0m\u001b[0;34m)\u001b[0m\u001b[0;34m:\u001b[0m\u001b[0;34m\u001b[0m\u001b[0m\n",
      "\u001b[0;32m/Users/aleph4/anaconda/lib/python2.7/gzip.pyc\u001b[0m in \u001b[0;36m__init__\u001b[0;34m(self, filename, mode, compresslevel, fileobj, mtime)\u001b[0m\n\u001b[1;32m     92\u001b[0m             \u001b[0mmode\u001b[0m \u001b[0;34m+=\u001b[0m \u001b[0;34m'b'\u001b[0m\u001b[0;34m\u001b[0m\u001b[0m\n\u001b[1;32m     93\u001b[0m         \u001b[0;32mif\u001b[0m \u001b[0mfileobj\u001b[0m \u001b[0;32mis\u001b[0m \u001b[0mNone\u001b[0m\u001b[0;34m:\u001b[0m\u001b[0;34m\u001b[0m\u001b[0m\n\u001b[0;32m---> 94\u001b[0;31m             \u001b[0mfileobj\u001b[0m \u001b[0;34m=\u001b[0m \u001b[0mself\u001b[0m\u001b[0;34m.\u001b[0m\u001b[0mmyfileobj\u001b[0m \u001b[0;34m=\u001b[0m \u001b[0m__builtin__\u001b[0m\u001b[0;34m.\u001b[0m\u001b[0mopen\u001b[0m\u001b[0;34m(\u001b[0m\u001b[0mfilename\u001b[0m\u001b[0;34m,\u001b[0m \u001b[0mmode\u001b[0m \u001b[0;32mor\u001b[0m \u001b[0;34m'rb'\u001b[0m\u001b[0;34m)\u001b[0m\u001b[0;34m\u001b[0m\u001b[0m\n\u001b[0m\u001b[1;32m     95\u001b[0m         \u001b[0;32mif\u001b[0m \u001b[0mfilename\u001b[0m \u001b[0;32mis\u001b[0m \u001b[0mNone\u001b[0m\u001b[0;34m:\u001b[0m\u001b[0;34m\u001b[0m\u001b[0m\n\u001b[1;32m     96\u001b[0m             \u001b[0;31m# Issue #13781: os.fdopen() creates a fileobj with a bogus name\u001b[0m\u001b[0;34m\u001b[0m\u001b[0;34m\u001b[0m\u001b[0m\n",
      "\u001b[0;31mIOError\u001b[0m: [Errno 2] No such file or directory: '../results/perm_cluster/medial_fc_30_kmeans/kmeans_k10/cluster_labels.nii.gz'"
     ]
    }
   ],
   "source": [
    "from base.tools import region_n_vox\n",
    "n_vox = []\n",
    "for regions in clfs:r\n",
    "    n_vox = n_vox + list(itertools.izip(itertools.repeat(regions.mask_num), range(0, regions.mask_num), \n",
    "                                     list(region_n_vox(dataset, regions.mask_img))))\n",
    "n_vox = pd.DataFrame(n_vox, columns=['n_regions', 'region', 'voxels'])\n",
    "n_vox['n_regions'] = n_vox['n_regions'].apply(str)\n"
   ]
  },
  {
   "cell_type": "code",
   "execution_count": 35,
   "metadata": {
    "collapsed": false
   },
   "outputs": [
    {
     "data": {
      "text/html": [
       "<div>\n",
       "<table border=\"1\" class=\"dataframe\">\n",
       "  <thead>\n",
       "    <tr style=\"text-align: right;\">\n",
       "      <th></th>\n",
       "      <th>region</th>\n",
       "      <th>n_topics</th>\n",
       "      <th>r2</th>\n",
       "    </tr>\n",
       "  </thead>\n",
       "  <tbody>\n",
       "    <tr>\n",
       "      <th>count</th>\n",
       "      <td>3.0</td>\n",
       "      <td>3</td>\n",
       "      <td>3.000000</td>\n",
       "    </tr>\n",
       "    <tr>\n",
       "      <th>mean</th>\n",
       "      <td>1.0</td>\n",
       "      <td>60</td>\n",
       "      <td>0.633182</td>\n",
       "    </tr>\n",
       "    <tr>\n",
       "      <th>std</th>\n",
       "      <td>1.0</td>\n",
       "      <td>0</td>\n",
       "      <td>0.027704</td>\n",
       "    </tr>\n",
       "    <tr>\n",
       "      <th>min</th>\n",
       "      <td>0.0</td>\n",
       "      <td>60</td>\n",
       "      <td>0.609023</td>\n",
       "    </tr>\n",
       "    <tr>\n",
       "      <th>25%</th>\n",
       "      <td>0.5</td>\n",
       "      <td>60</td>\n",
       "      <td>0.618063</td>\n",
       "    </tr>\n",
       "    <tr>\n",
       "      <th>50%</th>\n",
       "      <td>1.0</td>\n",
       "      <td>60</td>\n",
       "      <td>0.627103</td>\n",
       "    </tr>\n",
       "    <tr>\n",
       "      <th>75%</th>\n",
       "      <td>1.5</td>\n",
       "      <td>60</td>\n",
       "      <td>0.645262</td>\n",
       "    </tr>\n",
       "    <tr>\n",
       "      <th>max</th>\n",
       "      <td>2.0</td>\n",
       "      <td>60</td>\n",
       "      <td>0.663421</td>\n",
       "    </tr>\n",
       "  </tbody>\n",
       "</table>\n",
       "</div>"
      ],
      "text/plain": [
       "       region  n_topics        r2\n",
       "count     3.0         3  3.000000\n",
       "mean      1.0        60  0.633182\n",
       "std       1.0         0  0.027704\n",
       "min       0.0        60  0.609023\n",
       "25%       0.5        60  0.618063\n",
       "50%       1.0        60  0.627103\n",
       "75%       1.5        60  0.645262\n",
       "max       2.0        60  0.663421"
      ]
     },
     "execution_count": 35,
     "metadata": {},
     "output_type": "execute_result"
    }
   ],
   "source": [
    "all_scores[all_scores.n_regions == '3'].describe()"
   ]
  },
  {
   "cell_type": "code",
   "execution_count": 36,
   "metadata": {
    "collapsed": false
   },
   "outputs": [
    {
     "data": {
      "text/html": [
       "<div>\n",
       "<table border=\"1\" class=\"dataframe\">\n",
       "  <thead>\n",
       "    <tr style=\"text-align: right;\">\n",
       "      <th></th>\n",
       "      <th>region</th>\n",
       "      <th>n_topics</th>\n",
       "      <th>r2</th>\n",
       "    </tr>\n",
       "  </thead>\n",
       "  <tbody>\n",
       "    <tr>\n",
       "      <th>count</th>\n",
       "      <td>9.000000</td>\n",
       "      <td>9</td>\n",
       "      <td>9.000000</td>\n",
       "    </tr>\n",
       "    <tr>\n",
       "      <th>mean</th>\n",
       "      <td>4.000000</td>\n",
       "      <td>60</td>\n",
       "      <td>0.600356</td>\n",
       "    </tr>\n",
       "    <tr>\n",
       "      <th>std</th>\n",
       "      <td>2.738613</td>\n",
       "      <td>0</td>\n",
       "      <td>0.021180</td>\n",
       "    </tr>\n",
       "    <tr>\n",
       "      <th>min</th>\n",
       "      <td>0.000000</td>\n",
       "      <td>60</td>\n",
       "      <td>0.567021</td>\n",
       "    </tr>\n",
       "    <tr>\n",
       "      <th>25%</th>\n",
       "      <td>2.000000</td>\n",
       "      <td>60</td>\n",
       "      <td>0.595155</td>\n",
       "    </tr>\n",
       "    <tr>\n",
       "      <th>50%</th>\n",
       "      <td>4.000000</td>\n",
       "      <td>60</td>\n",
       "      <td>0.596933</td>\n",
       "    </tr>\n",
       "    <tr>\n",
       "      <th>75%</th>\n",
       "      <td>6.000000</td>\n",
       "      <td>60</td>\n",
       "      <td>0.610639</td>\n",
       "    </tr>\n",
       "    <tr>\n",
       "      <th>max</th>\n",
       "      <td>8.000000</td>\n",
       "      <td>60</td>\n",
       "      <td>0.642977</td>\n",
       "    </tr>\n",
       "  </tbody>\n",
       "</table>\n",
       "</div>"
      ],
      "text/plain": [
       "         region  n_topics        r2\n",
       "count  9.000000         9  9.000000\n",
       "mean   4.000000        60  0.600356\n",
       "std    2.738613         0  0.021180\n",
       "min    0.000000        60  0.567021\n",
       "25%    2.000000        60  0.595155\n",
       "50%    4.000000        60  0.596933\n",
       "75%    6.000000        60  0.610639\n",
       "max    8.000000        60  0.642977"
      ]
     },
     "execution_count": 36,
     "metadata": {},
     "output_type": "execute_result"
    }
   ],
   "source": []
  },
  {
   "cell_type": "code",
   "execution_count": 33,
   "metadata": {
    "collapsed": false
   },
   "outputs": [
    {
     "data": {
      "text/plain": [
       "0      10\n",
       "1      10\n",
       "2      10\n",
       "3      10\n",
       "4      10\n",
       "5      10\n",
       "6      10\n",
       "7      10\n",
       "8      10\n",
       "9      10\n",
       "10     11\n",
       "11     11\n",
       "12     11\n",
       "13     11\n",
       "14     11\n",
       "15     11\n",
       "16     11\n",
       "17     11\n",
       "18     11\n",
       "19     11\n",
       "20     11\n",
       "21     12\n",
       "22     12\n",
       "23     12\n",
       "24     12\n",
       "25     12\n",
       "26     12\n",
       "27     12\n",
       "28     12\n",
       "29     12\n",
       "       ..\n",
       "87      6\n",
       "88      6\n",
       "89      6\n",
       "90      6\n",
       "91      6\n",
       "92      6\n",
       "93      7\n",
       "94      7\n",
       "95      7\n",
       "96      7\n",
       "97      7\n",
       "98      7\n",
       "99      7\n",
       "100     8\n",
       "101     8\n",
       "102     8\n",
       "103     8\n",
       "104     8\n",
       "105     8\n",
       "106     8\n",
       "107     8\n",
       "108     9\n",
       "109     9\n",
       "110     9\n",
       "111     9\n",
       "112     9\n",
       "113     9\n",
       "114     9\n",
       "115     9\n",
       "116     9\n",
       "Name: n_regions, dtype: object"
      ]
     },
     "execution_count": 33,
     "metadata": {},
     "output_type": "execute_result"
    }
   ],
   "source": [
    "all_scores.n_regions"
   ]
  },
  {
   "cell_type": "code",
   "execution_count": 9,
   "metadata": {
    "collapsed": false
   },
   "outputs": [],
   "source": [
    "# all_scores = pd.merge(all_scores, n_vox)\n",
    "%Rpush all_scores"
   ]
  },
  {
   "cell_type": "code",
   "execution_count": 11,
   "metadata": {
    "collapsed": false
   },
   "outputs": [],
   "source": [
    "%%R\n",
    "all_scores$n_regions <- factor(all_scores$n_regions, levels=levels(all_scores$n_regions)[c(7:15, 1:6)])"
   ]
  },
  {
   "cell_type": "code",
   "execution_count": 12,
   "metadata": {
    "collapsed": false
   },
   "outputs": [
    {
     "data": {
      "image/png": "[encoded data removed]"
     },
     "metadata": {},
     "output_type": "display_data"
    }
   ],
   "source": [
    "%%R -w 400 -h 400\n",
    "ggplot(subset(all_scores, n_topics==60), aes(n_regions, r2, color=n_regions)) + geom_point(position=position_jitter(width=0.005)) +\n",
    " stat_summary(fun.y=mean, geom='point', size=5) + stat_summary(fun.y=mean, geom='point', size=5, shape=1, color=\"black\") + theme_bw() + theme(legend.position='none')  "
   ]
  },
  {
   "cell_type": "code",
   "execution_count": 13,
   "metadata": {
    "collapsed": false
   },
   "outputs": [
    {
     "data": {
      "text/html": [
       "<div>\n",
       "<table border=\"1\" class=\"dataframe\">\n",
       "  <thead>\n",
       "    <tr style=\"text-align: right;\">\n",
       "      <th></th>\n",
       "      <th>region</th>\n",
       "      <th>n_topics</th>\n",
       "      <th>r2</th>\n",
       "    </tr>\n",
       "    <tr>\n",
       "      <th>n_regions</th>\n",
       "      <th></th>\n",
       "      <th></th>\n",
       "      <th></th>\n",
       "    </tr>\n",
       "  </thead>\n",
       "  <tbody>\n",
       "    <tr>\n",
       "      <th>10</th>\n",
       "      <td>4.5</td>\n",
       "      <td>60</td>\n",
       "      <td>0.543797</td>\n",
       "    </tr>\n",
       "    <tr>\n",
       "      <th>11</th>\n",
       "      <td>5.0</td>\n",
       "      <td>60</td>\n",
       "      <td>0.542171</td>\n",
       "    </tr>\n",
       "    <tr>\n",
       "      <th>12</th>\n",
       "      <td>5.5</td>\n",
       "      <td>60</td>\n",
       "      <td>0.541005</td>\n",
       "    </tr>\n",
       "    <tr>\n",
       "      <th>13</th>\n",
       "      <td>6.0</td>\n",
       "      <td>60</td>\n",
       "      <td>0.539717</td>\n",
       "    </tr>\n",
       "    <tr>\n",
       "      <th>14</th>\n",
       "      <td>6.5</td>\n",
       "      <td>60</td>\n",
       "      <td>0.554563</td>\n",
       "    </tr>\n",
       "    <tr>\n",
       "      <th>15</th>\n",
       "      <td>7.0</td>\n",
       "      <td>60</td>\n",
       "      <td>0.553225</td>\n",
       "    </tr>\n",
       "    <tr>\n",
       "      <th>3</th>\n",
       "      <td>1.0</td>\n",
       "      <td>60</td>\n",
       "      <td>0.582466</td>\n",
       "    </tr>\n",
       "    <tr>\n",
       "      <th>4</th>\n",
       "      <td>1.5</td>\n",
       "      <td>60</td>\n",
       "      <td>0.570805</td>\n",
       "    </tr>\n",
       "    <tr>\n",
       "      <th>5</th>\n",
       "      <td>2.0</td>\n",
       "      <td>60</td>\n",
       "      <td>0.563448</td>\n",
       "    </tr>\n",
       "    <tr>\n",
       "      <th>6</th>\n",
       "      <td>2.5</td>\n",
       "      <td>60</td>\n",
       "      <td>0.557938</td>\n",
       "    </tr>\n",
       "    <tr>\n",
       "      <th>7</th>\n",
       "      <td>3.0</td>\n",
       "      <td>60</td>\n",
       "      <td>0.551633</td>\n",
       "    </tr>\n",
       "    <tr>\n",
       "      <th>8</th>\n",
       "      <td>3.5</td>\n",
       "      <td>60</td>\n",
       "      <td>0.549573</td>\n",
       "    </tr>\n",
       "    <tr>\n",
       "      <th>9</th>\n",
       "      <td>4.0</td>\n",
       "      <td>60</td>\n",
       "      <td>0.545931</td>\n",
       "    </tr>\n",
       "  </tbody>\n",
       "</table>\n",
       "</div>"
      ],
      "text/plain": [
       "           region  n_topics        r2\n",
       "n_regions                            \n",
       "10            4.5        60  0.543797\n",
       "11            5.0        60  0.542171\n",
       "12            5.5        60  0.541005\n",
       "13            6.0        60  0.539717\n",
       "14            6.5        60  0.554563\n",
       "15            7.0        60  0.553225\n",
       "3             1.0        60  0.582466\n",
       "4             1.5        60  0.570805\n",
       "5             2.0        60  0.563448\n",
       "6             2.5        60  0.557938\n",
       "7             3.0        60  0.551633\n",
       "8             3.5        60  0.549573\n",
       "9             4.0        60  0.545931"
      ]
     },
     "execution_count": 13,
     "metadata": {},
     "output_type": "execute_result"
    }
   ],
   "source": [
    "all_scores.groupby('n_regions').mean()"
   ]
  },
  {
   "cell_type": "code",
   "execution_count": 14,
   "metadata": {
    "collapsed": false
   },
   "outputs": [
    {
     "data": {
      "text/plain": [
       "0.74131803026284215"
      ]
     },
     "execution_count": 14,
     "metadata": {},
     "output_type": "execute_result"
    }
   ],
   "source": [
    "np.sqrt(all_scores.r2.mean())"
   ]
  },
  {
   "cell_type": "code",
   "execution_count": 15,
   "metadata": {
    "collapsed": false
   },
   "outputs": [
    {
     "data": {
      "text/plain": [
       "0.5495524219927802"
      ]
     },
     "execution_count": 15,
     "metadata": {},
     "output_type": "execute_result"
    }
   ],
   "source": [
    "all_scores.r2.mean()"
   ]
  },
  {
   "cell_type": "code",
   "execution_count": 16,
   "metadata": {
    "collapsed": false
   },
   "outputs": [
    {
     "data": {
      "text/plain": [
       "0.70683442945238095"
      ]
     },
     "execution_count": 16,
     "metadata": {},
     "output_type": "execute_result"
    }
   ],
   "source": [
    "np.sqrt(all_scores.r2.min())"
   ]
  },
  {
   "cell_type": "code",
   "execution_count": 17,
   "metadata": {
    "collapsed": false
   },
   "outputs": [
    {
     "data": {
      "text/plain": [
       "0.81450650548765691"
      ]
     },
     "execution_count": 17,
     "metadata": {},
     "output_type": "execute_result"
    }
   ],
   "source": [
    "np.sqrt(all_scores.r2.max())"
   ]
  },
  {
   "cell_type": "code",
   "execution_count": 18,
   "metadata": {
    "collapsed": false
   },
   "outputs": [
    {
     "data": {
      "text/html": [
       "<div>\n",
       "<table border=\"1\" class=\"dataframe\">\n",
       "  <thead>\n",
       "    <tr style=\"text-align: right;\">\n",
       "      <th></th>\n",
       "      <th></th>\n",
       "      <th>region</th>\n",
       "      <th>r2</th>\n",
       "    </tr>\n",
       "    <tr>\n",
       "      <th>n_regions</th>\n",
       "      <th>n_topics</th>\n",
       "      <th></th>\n",
       "      <th></th>\n",
       "    </tr>\n",
       "  </thead>\n",
       "  <tbody>\n",
       "    <tr>\n",
       "      <th>10</th>\n",
       "      <th>60</th>\n",
       "      <td>4.5</td>\n",
       "      <td>0.543797</td>\n",
       "    </tr>\n",
       "    <tr>\n",
       "      <th>11</th>\n",
       "      <th>60</th>\n",
       "      <td>5.0</td>\n",
       "      <td>0.542171</td>\n",
       "    </tr>\n",
       "    <tr>\n",
       "      <th>12</th>\n",
       "      <th>60</th>\n",
       "      <td>5.5</td>\n",
       "      <td>0.541005</td>\n",
       "    </tr>\n",
       "    <tr>\n",
       "      <th>13</th>\n",
       "      <th>60</th>\n",
       "      <td>6.0</td>\n",
       "      <td>0.539717</td>\n",
       "    </tr>\n",
       "    <tr>\n",
       "      <th>14</th>\n",
       "      <th>60</th>\n",
       "      <td>6.5</td>\n",
       "      <td>0.554563</td>\n",
       "    </tr>\n",
       "    <tr>\n",
       "      <th>15</th>\n",
       "      <th>60</th>\n",
       "      <td>7.0</td>\n",
       "      <td>0.553225</td>\n",
       "    </tr>\n",
       "    <tr>\n",
       "      <th>3</th>\n",
       "      <th>60</th>\n",
       "      <td>1.0</td>\n",
       "      <td>0.582466</td>\n",
       "    </tr>\n",
       "    <tr>\n",
       "      <th>4</th>\n",
       "      <th>60</th>\n",
       "      <td>1.5</td>\n",
       "      <td>0.570805</td>\n",
       "    </tr>\n",
       "    <tr>\n",
       "      <th>5</th>\n",
       "      <th>60</th>\n",
       "      <td>2.0</td>\n",
       "      <td>0.563448</td>\n",
       "    </tr>\n",
       "    <tr>\n",
       "      <th>6</th>\n",
       "      <th>60</th>\n",
       "      <td>2.5</td>\n",
       "      <td>0.557938</td>\n",
       "    </tr>\n",
       "    <tr>\n",
       "      <th>7</th>\n",
       "      <th>60</th>\n",
       "      <td>3.0</td>\n",
       "      <td>0.551633</td>\n",
       "    </tr>\n",
       "    <tr>\n",
       "      <th>8</th>\n",
       "      <th>60</th>\n",
       "      <td>3.5</td>\n",
       "      <td>0.549573</td>\n",
       "    </tr>\n",
       "    <tr>\n",
       "      <th>9</th>\n",
       "      <th>60</th>\n",
       "      <td>4.0</td>\n",
       "      <td>0.545931</td>\n",
       "    </tr>\n",
       "  </tbody>\n",
       "</table>\n",
       "</div>"
      ],
      "text/plain": [
       "                    region        r2\n",
       "n_regions n_topics                  \n",
       "10        60           4.5  0.543797\n",
       "11        60           5.0  0.542171\n",
       "12        60           5.5  0.541005\n",
       "13        60           6.0  0.539717\n",
       "14        60           6.5  0.554563\n",
       "15        60           7.0  0.553225\n",
       "3         60           1.0  0.582466\n",
       "4         60           1.5  0.570805\n",
       "5         60           2.0  0.563448\n",
       "6         60           2.5  0.557938\n",
       "7         60           3.0  0.551633\n",
       "8         60           3.5  0.549573\n",
       "9         60           4.0  0.545931"
      ]
     },
     "execution_count": 18,
     "metadata": {},
     "output_type": "execute_result"
    }
   ],
   "source": [
    "all_scores.groupby(['n_regions', 'n_topics']).agg(np.mean)"
   ]
  },
  {
   "cell_type": "code",
   "execution_count": 19,
   "metadata": {
    "collapsed": false
   },
   "outputs": [],
   "source": [
    "num_regions = 9\n",
    "num_topics = 60"
   ]
  },
  {
   "cell_type": "code",
   "execution_count": 20,
   "metadata": {
    "collapsed": false
   },
   "outputs": [],
   "source": [
    "o_clf = [clf for clf in clfs if (clf.mask_num == num_regions) & (clf.n_features_orig == num_topics)][0]\n"
   ]
  },
  {
   "cell_type": "code",
   "execution_count": 21,
   "metadata": {
    "collapsed": false
   },
   "outputs": [
    {
     "data": {
      "text/plain": [
       "'../results/perm_cluster/medial_fc_30_kmeans/kmeans_k9/cluster_labels.nii.gz'"
      ]
     },
     "execution_count": 21,
     "metadata": {},
     "output_type": "execute_result"
    }
   ],
   "source": [
    "o_clf.mask_img"
   ]
  },
  {
   "cell_type": "code",
   "execution_count": 22,
   "metadata": {
    "collapsed": false
   },
   "outputs": [
    {
     "data": {
      "text/plain": [
       "0.60035646767188999"
      ]
     },
     "execution_count": 22,
     "metadata": {},
     "output_type": "execute_result"
    }
   ],
   "source": [
    "o_clf.class_score.mean()"
   ]
  },
  {
   "cell_type": "code",
   "execution_count": 23,
   "metadata": {
    "collapsed": false
   },
   "outputs": [],
   "source": [
    "# tools.make_mask_map(o_clf.class_score, o_clf.mask_img, '../results/wardmin75_' + str(num_regions) + '_Ridge_abs_topics_filt/class_scores')"
   ]
  },
  {
   "cell_type": "code",
   "execution_count": 24,
   "metadata": {
    "collapsed": false
   },
   "outputs": [],
   "source": [
    "all_scores.region = all_scores.region+1"
   ]
  },
  {
   "cell_type": "markdown",
   "metadata": {},
   "source": [
    "### Discriminability by base rate"
   ]
  },
  {
   "cell_type": "code",
   "execution_count": 25,
   "metadata": {
    "collapsed": false
   },
   "outputs": [],
   "source": [
    "# Set region and classifier for following analyses\n",
    "# base_rates = tools.region_vox_baserates(dataset, o_clf.mask_img)"
   ]
  },
  {
   "cell_type": "code",
   "execution_count": 26,
   "metadata": {
    "collapsed": false
   },
   "outputs": [],
   "source": [
    "acc = all_scores[(all_scores['n_topics'] == num_topics) & (all_scores['n_regions'] == str(num_regions))].copy()\n",
    "\n",
    "# acc = pd.merge(base_rates, acc)\n",
    "mean_acc = acc.groupby(['region']).agg(np.mean).reset_index()"
   ]
  },
  {
   "cell_type": "code",
   "execution_count": 27,
   "metadata": {
    "collapsed": false
   },
   "outputs": [],
   "source": [
    "# mean_br_plot = mean_acc.rename(columns = {'base_rate':'Activation base rate (% studies active)', 'r2': \"R-squared\"})\n",
    "# br_auc_oplot = sns.lmplot('Activation base rate (% studies active)', 'R-squared', mean_br_plot, ci=None)\n",
    "# tooltip = mpld3.plugins.PointLabelTooltip(br_auc_oplot.axes[0][0].collections[0], labels=list(mean_acc.region))\n",
    "# fig = plt.gcf()\n",
    "# mpld3.plugins.connect(fig, tooltip)"
   ]
  },
  {
   "cell_type": "markdown",
   "metadata": {},
   "source": [
    "## Coactivation "
   ]
  },
  {
   "cell_type": "code",
   "execution_count": 28,
   "metadata": {
    "collapsed": false
   },
   "outputs": [],
   "source": [
    "zscore = lambda x: (x - x.mean()) / x.std()"
   ]
  },
  {
   "cell_type": "code",
   "execution_count": 29,
   "metadata": {
    "collapsed": false
   },
   "outputs": [],
   "source": [
    "# label_names = ['SMAc', 'SMAr',  'pSMAc','pSMAr', 'dACCc', 'dACCr', 'mSFG' , 'rmPFC', 'vmPFC']\n",
    "# reg_num = [7, 1, 3, 9, 5, 8, 2, 6, 4]\n",
    "\n",
    "## This is for 12 regions\n",
    "# label_names = ['SMAc', 'SMAd', 'SMAr', 'pSMAcd','pSMAcv','pSMAr', 'dACCc', 'dACCr', 'mSFG' , 'pgACC', 'rmPFC', 'vmPFC']\n",
    "# reg_num = [11, 4, 9, 7, 12, 1, 5, 2, 8, 3, 10, 6]\n",
    "\n",
    "## New regions\n",
    "reg_num = [6, 3, 9, 5, 1, 7, 2, 4, 8]\n",
    "label_names = ['SMAc', 'SMAr',  'pSMAc','pSMAr', 'dACCc', 'dACCr', 'dmPFC' , 'rACC', 'vmPFC']\n",
    "\n",
    "labels = zip(reg_num, range(1, len(reg_num) + 1))\n",
    "\n",
    "label_order = zip(reg_num, label_names)\n",
    "# roi_labels = [(52, 'vaInsula'), (55, 'pCC/preC'), (26, 'dSomatosensory'), (42, 'dMotor'), (3, 'Putamen'), (19, 'Amygdala'), (16, 'pSFS'), (30, 'IFG'), (5, 'Parietal Operculum'), (60, 'daInsula'), (59, 'pInsula'),(54, 'IFJ'), (28, 'aSupramarginal'), (1, 'aTemporal'),(14, 'aThalamus'),(39, 'pThalamus'), (43, 'Caudate')]\n",
    "roi_labels = [(38, 'dSomatosensory'), (14, 'dMotor'), (36, 'Putamen'), (11, 'pCC/AG'), (29, 'daInsula'), (37, 'IPL / SII'), (23, 'Amygdala'), (16, 'vMotor'), (24, 'Superior Parietal'), (17, 'pInsula'), (3, 'Thalamus'),(9, 'Temporal'), (34, 'lpOFC'), (39, 'Caudate'), (19, 'IPL'),(12, 'IFJ'), (21, 'IFG (L)'), (28, 'supPar'), (1, 'preCun'), (10, 'NAcc'), (7, 'mMotor'), (13, 'TPJ'), (27, 'SupPar/MFG/FP')]\n",
    "mFC_rois = [20, 5, 30, 27, 11, 25]"
   ]
  },
  {
   "cell_type": "code",
   "execution_count": 30,
   "metadata": {
    "collapsed": false
   },
   "outputs": [],
   "source": [
    "coactivation = []\n",
    "for i in range(1, num_regions + 1):\n",
    "    reg_coact = img_tools.extract_roi('../masks/new_neurosynth/whole_brain_k_means/whole_brain_kmeans_k40/cluster_labels.nii.gz',\n",
    "                            '../results/perm_cluster/medial_fc_30_kmeans/kmeans_k' + str(num_regions) + '/coactivation/cluster_' + str(i) + '_pAgF.nii.gz',\n",
    "                            dataset.masker)\n",
    "    reg_coact['region'] = i\n",
    "    coactivation.append(reg_coact)\n",
    "    \n",
    "coactivation = pd.concat(coactivation)\n",
    "coactivation.roi = coactivation.roi.round().astype('int')"
   ]
  },
  {
   "cell_type": "code",
   "execution_count": 31,
   "metadata": {
    "collapsed": false
   },
   "outputs": [],
   "source": [
    "# Remove mFC\n",
    "coactivation = coactivation[np.invert(np.in1d(coactivation.roi, mFC_rois))]"
   ]
  },
  {
   "cell_type": "code",
   "execution_count": 32,
   "metadata": {
    "collapsed": false
   },
   "outputs": [
    {
     "data": {
      "text/plain": [
       "(34,)"
      ]
     },
     "execution_count": 32,
     "metadata": {},
     "output_type": "execute_result"
    }
   ],
   "source": [
    "coactivation.roi.unique().shape"
   ]
  },
  {
   "cell_type": "code",
   "execution_count": 33,
   "metadata": {
    "collapsed": false
   },
   "outputs": [],
   "source": [
    "coactivation['region_order'] = coactivation['region'].map(dict(labels))\n",
    "coactivation['region_names'] = coactivation['region'].map(dict(label_order))\n",
    "coactivation['roi_names'] = coactivation['roi'].map(dict(roi_labels))"
   ]
  },
  {
   "cell_type": "code",
   "execution_count": 34,
   "metadata": {
    "collapsed": false
   },
   "outputs": [],
   "source": [
    "# plt.figure(figsize=(12, 13))\n",
    "# sns.heatmap(pd.pivot_table(coactivation, values='value', index=['roi'], columns=['region_order']), xticklabels=label_names)"
   ]
  },
  {
   "cell_type": "code",
   "execution_count": 35,
   "metadata": {
    "collapsed": false
   },
   "outputs": [
    {
     "data": {
      "text/plain": [
       "<matplotlib.figure.Figure at 0x14174c490>"
      ]
     },
     "metadata": {},
     "output_type": "display_data"
    }
   ],
   "source": [
    "plt.figure(figsize=(12, 6))\n",
    "ind = np.array(coactivation.groupby('roi_names').std()['value'].sort(inplace=False, ascending=False).index)\n",
    "# sns.heatmap(pd.pivot_table(coactivation, values='value', index=['roi_names'], columns=['region_order']).ix[ind][0:10], xticklabels=label_names, cmap='Reds')"
   ]
  },
  {
   "cell_type": "code",
   "execution_count": 36,
   "metadata": {
    "collapsed": false
   },
   "outputs": [],
   "source": [
    "# plt.figure(figsize=(12, 6))\n",
    "# ind = np.array(coactivation.groupby('roi_names').std()['value'].sort(inplace=False, ascending=False).index)\n",
    "# sns.heatmap(pd.pivot_table(coactivation, values='value', index=['roi_names'], columns=['region_order']).ix[ind][0:13], xticklabels=label_names, cmap='Reds')"
   ]
  },
  {
   "cell_type": "code",
   "execution_count": 37,
   "metadata": {
    "collapsed": false
   },
   "outputs": [],
   "source": [
    "coactivation['zvalue'] = zscore(coactivation.value)"
   ]
  },
  {
   "cell_type": "code",
   "execution_count": 38,
   "metadata": {
    "collapsed": false
   },
   "outputs": [],
   "source": [
    "coactivation['zvaluebg'] = coactivation.groupby('roi').transform(zscore).zvalue"
   ]
  },
  {
   "cell_type": "code",
   "execution_count": 39,
   "metadata": {
    "collapsed": false
   },
   "outputs": [],
   "source": [
    "sel_coact = coactivation[coactivation.groupby('region').rank(ascending=False).zvaluebg < 8]\n",
    "top_coact = coactivation[np.in1d(coactivation.roi, sel_coact.roi) ]"
   ]
  },
  {
   "cell_type": "code",
   "execution_count": 40,
   "metadata": {
    "collapsed": false
   },
   "outputs": [],
   "source": [
    "all_rois = pd.pivot_table(top_coact, values='zvalue', index=['roi_names'], columns=['region_names'])\n",
    "\n",
    "cort = pd.pivot_table(top_coact[np.invert(np.in1d(top_coact.roi_names, ['Amygdala', 'Caudate', 'Thalamus', 'Putamen', 'NAcc']))], values='zvaluebg', index=['roi_names'], columns=['region_order'])\n",
    "\n",
    "subcort = pd.pivot_table(top_coact[np.in1d(top_coact.roi_names, ['Amygdala', 'Caudate', 'Thalamus', 'Putamen', 'NAcc'])], values='zvaluebg', index=['roi_names'], columns=['region_order'])\n"
   ]
  },
  {
   "cell_type": "code",
   "execution_count": 41,
   "metadata": {
    "collapsed": false
   },
   "outputs": [
    {
     "data": {
      "text/plain": [
       "<seaborn.matrix.ClusterGrid at 0x1288e2510>"
      ]
     },
     "execution_count": 41,
     "metadata": {},
     "output_type": "execute_result"
    },
    {
     "data": {
      "image/png": "[encoded data removed]",
      "text/plain": [
       "<matplotlib.figure.Figure at 0x1288e2f50>"
      ]
     },
     "metadata": {},
     "output_type": "display_data"
    }
   ],
   "source": [
    "sns.clustermap(cort, xticklabels=label_names, col_cluster=False, figsize=(14, 5)\n",
    " ,method='ward')\n",
    "\n",
    "# plt.savefig('../reports/vmpfc_comps/mFC_coactheat_cort.pdf', bbox_inches='tight')"
   ]
  },
  {
   "cell_type": "code",
   "execution_count": 42,
   "metadata": {
    "collapsed": false
   },
   "outputs": [
    {
     "data": {
      "image/png": "[encoded data removed]",
      "text/plain": [
       "<matplotlib.figure.Figure at 0x1247cab50>"
      ]
     },
     "metadata": {},
     "output_type": "display_data"
    }
   ],
   "source": [
    "plot = sns.clustermap(subcort, xticklabels=label_names, col_cluster=False, figsize=(14, 1.5)\n",
    ", method='ward')\n",
    "\n",
    "# plt.savefig('../reports/vmpfc_comps/mFC_coactheat_subcort.pdf', bbox_inches='tight')"
   ]
  },
  {
   "cell_type": "code",
   "execution_count": 43,
   "metadata": {
    "collapsed": true
   },
   "outputs": [],
   "source": [
    "?sns.heatmap"
   ]
  },
  {
   "cell_type": "code",
   "execution_count": 44,
   "metadata": {
    "collapsed": false
   },
   "outputs": [],
   "source": [
    "# cort_scale = cort*100\n",
    "# sns.heatmap(cort_scale, xticklabels=label_names,  cmap='YlOrRd',vmax =15.5, vmin=2)\n",
    "# plt.savefig('../reports/vmpfc_comps/mFC_cocatheat_cbar.pdf', bbox_inches='tight')"
   ]
  },
  {
   "cell_type": "code",
   "execution_count": 45,
   "metadata": {
    "collapsed": false
   },
   "outputs": [],
   "source": [
    "mcc_coact = coactivation[np.in1d(coactivation.region, [3, 9, 5, 8]) ]\n",
    "sel_mcc_coact = mcc_coact[mcc_coact.groupby('region').rank(ascending=False).value < 6]\n",
    "top_mcc_coact = mcc_coact[np.in1d(mcc_coact.roi, sel_mcc_coact.roi) ]"
   ]
  },
  {
   "cell_type": "code",
   "execution_count": 46,
   "metadata": {
    "collapsed": false
   },
   "outputs": [],
   "source": [
    "\n",
    "# ind = np.array(mcc_coact.groupby('roi').mean()['value'].sort(inplace=False, ascending=False).index)\n",
    "\n",
    "# plot_mcc = pd.pivot_table(top_mcc_coact, values='value', index=['roi'], columns=['region_order']).reset_index()\n",
    "# plot_mcc.index = plot_mcc.roi.map(dict(roi_labels))\n",
    "# plot_mcc = plot_mcc.drop('roi', axis=1)\n",
    "# sns.clustermap(plot_mcc, xticklabels=label_names[2:], cmap='YlOrRd', figsize=(5.5, 6.5), col_cluster=False)\n",
    "# plt.savefig('../reports/vmpfc_comps/SMA_ACC_coactheat.pdf')"
   ]
  },
  {
   "cell_type": "code",
   "execution_count": 47,
   "metadata": {
    "collapsed": false
   },
   "outputs": [
    {
     "data": {
      "text/plain": [
       "<matplotlib.axes._subplots.AxesSubplot at 0x16447fd50>"
      ]
     },
     "execution_count": 47,
     "metadata": {},
     "output_type": "execute_result"
    },
    {
     "data": {
      "image/png": "[encoded data removed]",
      "text/plain": [
       "<matplotlib.figure.Figure at 0x164470210>"
      ]
     },
     "metadata": {},
     "output_type": "display_data"
    }
   ],
   "source": [
    "sma_coact = coactivation[np.in1d(coactivation.region, [3, 9, 5, 8]) ]\n",
    "\n",
    "ind = np.array(sma_coact.groupby('roi_names').std()['value'].sort(inplace=False, ascending=False).index)\n",
    "sns.heatmap(pd.pivot_table(sma_coact, values='value', index=['roi_names'], columns=['region_order']).ix[ind][0:10], xticklabels=label_names[2:], cmap='Reds')\n",
    "# plt.savefig('../reports/vmpfc_comps/SMA_ACC_coactheat.pdf')"
   ]
  },
  {
   "cell_type": "code",
   "execution_count": 48,
   "metadata": {
    "collapsed": false
   },
   "outputs": [
    {
     "data": {
      "text/plain": [
       "Int64Index([3, 5, 8, 9], dtype='int64', name=u'region')"
      ]
     },
     "execution_count": 48,
     "metadata": {},
     "output_type": "execute_result"
    }
   ],
   "source": [
    "sma_coact.groupby('region').std()['value'].rank(ascending=False).index"
   ]
  },
  {
   "cell_type": "markdown",
   "metadata": {},
   "source": [
    "## Feature importance analysis"
   ]
  },
  {
   "cell_type": "code",
   "execution_count": 49,
   "metadata": {
    "collapsed": false
   },
   "outputs": [],
   "source": [
    "word_keys = pd.read_csv(\"../data/unprocessed/abstract_topics_filtered/topic_sets/topic_keys80-july_cognitive.tsv\", delimiter='\\t')\n",
    "word_keys['top_2'] = word_keys.words.apply(lambda x: x.split(' ')[0] + ' ' + x.split(' ')[1])\n",
    "word_keys['top_3'] = word_keys.words.apply(lambda x: x.split(' ')[0] + ' ' + x.split(' ')[1] + ' ' + x.split(' ')[2])\n",
    "word_keys['top_words'] = word_keys.words.apply(lambda x: x.split(' ')[0] + ' ' + x.split(' ')[1] + ' ' + x.split(' ')[2])"
   ]
  },
  {
   "cell_type": "code",
   "execution_count": 50,
   "metadata": {
    "collapsed": false
   },
   "outputs": [],
   "source": [
    "word_keys['topic_name'] = \"topic\" + word_keys['topic'].astype('str')"
   ]
  },
  {
   "cell_type": "code",
   "execution_count": 51,
   "metadata": {
    "collapsed": false
   },
   "outputs": [],
   "source": [
    "o_fi = pd.DataFrame(o_clf.feature_importances)\n",
    "\n",
    "# Melt feature importances, and add top_words for each feeature\n",
    "o_fi['region'] = range(1, o_fi.shape[0] + 1)\n",
    "o_fis_melt = pd.melt(o_fi, var_name='topic_order', value_name='importance', id_vars=['region'])\n",
    "\n",
    "word_keys = pd.merge(pd.DataFrame(np.array([range(0, o_clf.feature_importances.shape[1]), o_clf.feature_names]).T, columns=['topic_order', 'topic_name']), word_keys)\n",
    "word_keys.topic_order = word_keys.topic_order.astype('int')\n",
    "\n",
    "o_fis_melt= pd.merge(o_fis_melt, word_keys)\n",
    "o_fis_melt['abs_imp'] = np.abs(o_fis_melt['importance'])\n",
    "\n",
    "o_fis_melt = pd.merge(o_fis_melt, mean_acc)\n",
    "%Rpush o_fis_melt"
   ]
  },
  {
   "cell_type": "code",
   "execution_count": 52,
   "metadata": {
    "collapsed": true
   },
   "outputs": [],
   "source": [
    "categories = np.unique(o_fis_melt['topic_name'])\n",
    "colors = np.linspace(0, 1, len(categories))\n",
    "colordict = dict(zip(categories, colors))\n",
    "o_fis_melt[\"Color\"] = o_fis_melt['topic_name'].apply(lambda x: colordict[x])"
   ]
  },
  {
   "cell_type": "code",
   "execution_count": 53,
   "metadata": {
    "collapsed": false
   },
   "outputs": [],
   "source": [
    "# sns.set_context('poster')\n",
    "# sns.heatmap(pd.pivot_table(o_fis_melt, values='importance', index=['top_2'], columns=['region']))"
   ]
  },
  {
   "cell_type": "markdown",
   "metadata": {},
   "source": [
    "## Feature importance bar plots"
   ]
  },
  {
   "cell_type": "code",
   "execution_count": 54,
   "metadata": {
    "collapsed": false
   },
   "outputs": [],
   "source": [
    "o_fis_melt['importance_z'] = o_fis_melt.groupby('region')['importance'].apply(zscore)\n",
    "o_fis_melt['region_names'] = o_fis_melt['region'].map(dict(label_order))"
   ]
  },
  {
   "cell_type": "code",
   "execution_count": 55,
   "metadata": {
    "collapsed": false
   },
   "outputs": [
    {
     "name": "stderr",
     "output_type": "stream",
     "text": [
      "/usr/local/lib/python2.7/site-packages/IPython/kernel/__main__.py:5: SettingWithCopyWarning: \n",
      "A value is trying to be set on a copy of a slice from a DataFrame.\n",
      "Try using .loc[row_indexer,col_indexer] = value instead\n",
      "\n",
      "See the the caveats in the documentation: http://pandas.pydata.org/pandas-docs/stable/indexing.html#indexing-view-versus-copy\n",
      "/usr/local/lib/python2.7/site-packages/IPython/kernel/__main__.py:6: SettingWithCopyWarning: \n",
      "A value is trying to be set on a copy of a slice from a DataFrame.\n",
      "Try using .loc[row_indexer,col_indexer] = value instead\n",
      "\n",
      "See the the caveats in the documentation: http://pandas.pydata.org/pandas-docs/stable/indexing.html#indexing-view-versus-copy\n"
     ]
    }
   ],
   "source": [
    "# Top_6\n",
    "sel_topics = o_fis_melt[o_fis_melt.groupby('region').rank(ascending=False).importance < 3]\n",
    "top_n = o_fis_melt[np.in1d(o_fis_melt.topic_name, sel_topics.topic_name) ]\n",
    "\n",
    "top_n['region_order'] = top_n['region'].map(dict(labels))\n",
    "top_n['region_names'] = top_n['region'].map(dict(label_order))"
   ]
  },
  {
   "cell_type": "code",
   "execution_count": 56,
   "metadata": {
    "collapsed": false
   },
   "outputs": [],
   "source": [
    "# plt.figure(figsize=(13, 5))\n",
    "# sns.heatmap(pd.pivot_table(top_n, values='importance_z', index=['nickname'], columns=['region_order']),xticklabels=label_names,  vmin=-4.5, vmax=4.5)"
   ]
  },
  {
   "cell_type": "code",
   "execution_count": 57,
   "metadata": {
    "collapsed": false,
    "scrolled": true
   },
   "outputs": [
    {
     "data": {
      "text/plain": [
       "<seaborn.matrix.ClusterGrid at 0x1288e2ad0>"
      ]
     },
     "execution_count": 57,
     "metadata": {},
     "output_type": "execute_result"
    },
    {
     "data": {
      "image/png": "[encoded data removed]",
      "text/plain": [
       "<matplotlib.figure.Figure at 0x1646b4f50>"
      ]
     },
     "metadata": {},
     "output_type": "display_data"
    }
   ],
   "source": [
    "fplot = pd.pivot_table(top_n, values='importance_z', index=['nickname'], columns=['region_order'])\n",
    "sns.clustermap(fplot, col_cluster=False, xticklabels=label_names,  figsize=(16, 5.2), method='ward', vmin=-4.5, vmax=4.5, cbar=False)\n",
    "    \n",
    "# plt.savefig('../reports/vmpfc_comps/mFC_featheat.png', bbox_inches='tight', dpi=200)"
   ]
  },
  {
   "cell_type": "code",
   "execution_count": 58,
   "metadata": {
    "collapsed": false
   },
   "outputs": [],
   "source": [
    "nine_colors = [sns.color_palette('Set1', 3)[1]] * 2 + [sns.color_palette('Set1', 3)[0]] * 2 + [sns.color_palette('Set1', 3)[2]] * 1 + [sns.color_palette('Set1', 3)[0]] * 2 + [sns.color_palette('Set1', 3)[2]] * 2"
   ]
  },
  {
   "cell_type": "code",
   "execution_count": 59,
   "metadata": {
    "collapsed": true
   },
   "outputs": [],
   "source": [
    "pplot = pd.pivot_table(o_fis_melt, values='importance_z', index=['nickname'], columns=['region_names'])\n"
   ]
  },
  {
   "cell_type": "code",
   "execution_count": 60,
   "metadata": {
    "collapsed": false
   },
   "outputs": [],
   "source": [
    "?sns.corrplot(pplot[['SMAc', 'SMAr', 'pSMAc', 'pSMAr', 'dACCc', 'dACCr', 'dmPFC', 'rACC', 'vmPFC']], annot=False)"
   ]
  },
  {
   "cell_type": "code",
   "execution_count": 61,
   "metadata": {
    "collapsed": false
   },
   "outputs": [],
   "source": [
    "# Top_6\n",
    "# label_names_red = ['pSMAc', 'pSMAr', 'dACCc', 'dACCr']\n",
    "label_names_red = ['pSMAcd', 'pSMAcv', 'pSMAr', 'dACCc', 'dACCr']\n",
    "\n",
    "\n",
    "o_fis_melt['region_order'] = o_fis_melt['region'].map(dict(labels))\n",
    "o_fis_melt['region_names'] = o_fis_melt['region'].map(dict(label_order))\n",
    "\n",
    "o_fis_sel = o_fis_melt[np.in1d(o_fis_melt.region_names, label_names_red)]\n",
    "sel_topics_red = o_fis_sel[o_fis_sel.groupby('region').rank(ascending=False).importance < 4]\n",
    "top_n_red = o_fis_sel[np.in1d(o_fis_sel.topic_name, sel_topics_red.topic_name) ]\n",
    "\n",
    "\n",
    "\n",
    "\n",
    "\n",
    "%Rpush top_n_red\n",
    "%Rpush label_names_red"
   ]
  },
  {
   "cell_type": "code",
   "execution_count": 62,
   "metadata": {
    "collapsed": false
   },
   "outputs": [
    {
     "data": {
      "text/plain": [
       "<matplotlib.axes._subplots.AxesSubplot at 0x1662a6a90>"
      ]
     },
     "execution_count": 62,
     "metadata": {},
     "output_type": "execute_result"
    },
    {
     "data": {
      "image/png": "[encoded data removed]",
      "text/plain": [
       "<matplotlib.figure.Figure at 0x16606a090>"
      ]
     },
     "metadata": {},
     "output_type": "display_data"
    }
   ],
   "source": [
    "sns.heatmap(pd.pivot_table(top_n_red, values='importance_z', index=['nickname'], columns=['region_order']), xticklabels=label_names_red,  vmin=-3.001, vmax=3.001)\n"
   ]
  },
  {
   "cell_type": "code",
   "execution_count": 63,
   "metadata": {
    "collapsed": false
   },
   "outputs": [
    {
     "data": {
      "text/plain": [
       "<seaborn.matrix.ClusterGrid at 0x166421ad0>"
      ]
     },
     "execution_count": 63,
     "metadata": {},
     "output_type": "execute_result"
    },
    {
     "data": {
      "image/png": "[encoded data removed]",
      "text/plain": [
       "<matplotlib.figure.Figure at 0x164695250>"
      ]
     },
     "metadata": {},
     "output_type": "display_data"
    }
   ],
   "source": [
    "sns.clustermap(pd.pivot_table(top_n_red, values='importance_z', index=['nickname'], columns=['region_order']),  col_cluster=False,xticklabels=label_names_red, vmin=-1.26, vmax=3.1, figsize=(8, 6), method='ward')\n",
    "# plt.savefig('../reports/vmpfc_comps/SMA_ACC_featheat.png', bbox_inches='tight', dpi=250)"
   ]
  },
  {
   "cell_type": "code",
   "execution_count": 64,
   "metadata": {
    "collapsed": false
   },
   "outputs": [
    {
     "data": {
      "text/plain": [
       "region                                                          7\n",
       "topic_order                                                    29\n",
       "importance                                              0.3376924\n",
       "topic_name                                                topic59\n",
       "topic                                                          59\n",
       "cognitive                                                       T\n",
       "nickname                                                 saccades\n",
       "words           performance cognitive memory executive control...\n",
       "top_2                                       performance cognitive\n",
       "top_3                                performance cognitive memory\n",
       "top_words                            performance cognitive memory\n",
       "abs_imp                                                 0.3376924\n",
       "n_topics                                                       60\n",
       "r2                                                      0.5406369\n",
       "Color                                                     0.90625\n",
       "importance_z                                             3.043195\n",
       "region_names                                                pSMAr\n",
       "region_order                                                    6\n",
       "dtype: object"
      ]
     },
     "execution_count": 64,
     "metadata": {},
     "output_type": "execute_result"
    }
   ],
   "source": [
    "top_n_red.max()"
   ]
  },
  {
   "cell_type": "markdown",
   "metadata": {
    "collapsed": false
   },
   "source": [
    "## o_fis_melt"
   ]
  },
  {
   "cell_type": "code",
   "execution_count": 65,
   "metadata": {
    "collapsed": false
   },
   "outputs": [
    {
     "data": {
      "text/plain": [
       "<seaborn.matrix.ClusterGrid at 0x167741450>"
      ]
     },
     "execution_count": 65,
     "metadata": {},
     "output_type": "execute_result"
    },
    {
     "data": {
      "image/png": "[encoded data removed]",
      "text/plain": [
       "<matplotlib.figure.Figure at 0x167263850>"
      ]
     },
     "metadata": {},
     "output_type": "display_data"
    },
    {
     "data": {
      "image/png": "[encoded data removed]",
      "text/plain": [
       "<matplotlib.figure.Figure at 0x167741990>"
      ]
     },
     "metadata": {},
     "output_type": "display_data"
    }
   ],
   "source": [
    "sma_funct = o_fis_melt[np.in1d(o_fis_melt.region, [3, 9, 5, 8]) ]\n",
    "\n",
    "n = 10\n",
    "\n",
    "ind = np.array(sma_funct.groupby('top_3').std()['importance'].sort(inplace=False, ascending=False).index)\n",
    "sns.heatmap(pd.pivot_table(sma_funct, values='importance', index=['top_3'], columns=['region_order']).ix[ind][0:n], xticklabels=label_names[2:])\n",
    "sns.clustermap(pd.pivot_table(sma_funct, values='importance', index=['top_3'], columns=['region_order']).ix[ind][0:n], col_cluster=False, xticklabels=label_names[2:])\n",
    "# plt.savefig('../reports/vmpfc_comps/SMA_ACC_coactheat.pdf')"
   ]
  },
  {
   "cell_type": "code",
   "execution_count": 66,
   "metadata": {
    "collapsed": false
   },
   "outputs": [
    {
     "data": {
      "text/plain": [
       "<matplotlib.axes._subplots.AxesSubplot at 0x169f04850>"
      ]
     },
     "execution_count": 66,
     "metadata": {},
     "output_type": "execute_result"
    },
    {
     "data": {
      "image/png": "[encoded data removed]",
      "text/plain": [
       "<matplotlib.figure.Figure at 0x169f0c590>"
      ]
     },
     "metadata": {},
     "output_type": "display_data"
    }
   ],
   "source": [
    "sma_coact = coactivation[np.in1d(coactivation.region, [3, 9, 5, 8]) ]\n",
    "\n",
    "ind = np.array(sma_coact.groupby('roi_names').std()['value'].sort(inplace=False, ascending=False).index)\n",
    "sns.heatmap(pd.pivot_table(sma_coact, values='value', index=['roi_names'], columns=['region_order']).ix[ind][0:10], xticklabels=label_names[2:], cmap='Reds')\n",
    "# plt.savefig('../reports/vmpfc_comps/SMA_ACC_coactheat.pdf')"
   ]
  },
  {
   "cell_type": "markdown",
   "metadata": {},
   "source": [
    "## Diversity"
   ]
  },
  {
   "cell_type": "code",
   "execution_count": 67,
   "metadata": {
    "collapsed": false
   },
   "outputs": [],
   "source": [
    "import base.statistics as my_stats"
   ]
  },
  {
   "cell_type": "code",
   "execution_count": 68,
   "metadata": {
    "collapsed": false
   },
   "outputs": [],
   "source": [
    "o_fis_melt['imp_min'] = o_fis_melt.importance + o_fis_melt.importance.min()*-1 \n",
    "sdi = pd.DataFrame(o_fis_melt.groupby('region').apply(lambda x: my_stats.shannons(x['imp_min'])), columns=['sdi']).reset_index()"
   ]
  },
  {
   "cell_type": "code",
   "execution_count": 69,
   "metadata": {
    "collapsed": false
   },
   "outputs": [
    {
     "data": {
      "text/html": [
       "<div>\n",
       "<table border=\"1\" class=\"dataframe\">\n",
       "  <thead>\n",
       "    <tr style=\"text-align: right;\">\n",
       "      <th></th>\n",
       "      <th>region</th>\n",
       "      <th>sdi</th>\n",
       "    </tr>\n",
       "  </thead>\n",
       "  <tbody>\n",
       "    <tr>\n",
       "      <th>0</th>\n",
       "      <td>1</td>\n",
       "      <td>3.411290</td>\n",
       "    </tr>\n",
       "    <tr>\n",
       "      <th>1</th>\n",
       "      <td>2</td>\n",
       "      <td>3.325995</td>\n",
       "    </tr>\n",
       "    <tr>\n",
       "      <th>2</th>\n",
       "      <td>3</td>\n",
       "      <td>3.411412</td>\n",
       "    </tr>\n",
       "    <tr>\n",
       "      <th>3</th>\n",
       "      <td>4</td>\n",
       "      <td>3.341658</td>\n",
       "    </tr>\n",
       "    <tr>\n",
       "      <th>4</th>\n",
       "      <td>5</td>\n",
       "      <td>3.439022</td>\n",
       "    </tr>\n",
       "    <tr>\n",
       "      <th>5</th>\n",
       "      <td>6</td>\n",
       "      <td>3.361962</td>\n",
       "    </tr>\n",
       "    <tr>\n",
       "      <th>6</th>\n",
       "      <td>7</td>\n",
       "      <td>3.393262</td>\n",
       "    </tr>\n",
       "    <tr>\n",
       "      <th>7</th>\n",
       "      <td>8</td>\n",
       "      <td>3.243871</td>\n",
       "    </tr>\n",
       "    <tr>\n",
       "      <th>8</th>\n",
       "      <td>9</td>\n",
       "      <td>3.441774</td>\n",
       "    </tr>\n",
       "  </tbody>\n",
       "</table>\n",
       "</div>"
      ],
      "text/plain": [
       "   region       sdi\n",
       "0       1  3.411290\n",
       "1       2  3.325995\n",
       "2       3  3.411412\n",
       "3       4  3.341658\n",
       "4       5  3.439022\n",
       "5       6  3.361962\n",
       "6       7  3.393262\n",
       "7       8  3.243871\n",
       "8       9  3.441774"
      ]
     },
     "execution_count": 69,
     "metadata": {},
     "output_type": "execute_result"
    }
   ],
   "source": [
    "sdi"
   ]
  },
  {
   "cell_type": "code",
   "execution_count": 70,
   "metadata": {
    "collapsed": false
   },
   "outputs": [],
   "source": [
    "tools.make_mask_map(sdi['sdi'], o_clf.mask_img, '../reports/papers/mFC/sdi.nii')"
   ]
  },
  {
   "cell_type": "markdown",
   "metadata": {},
   "source": [
    "#Multivarate plots"
   ]
  },
  {
   "cell_type": "code",
   "execution_count": 71,
   "metadata": {
    "collapsed": false
   },
   "outputs": [],
   "source": [
    "from sklearn.metrics import roc_auc_score\n",
    "from sklearn.metrics import make_scorer\n",
    "from base.mv import calc_mv_classifier\n",
    "from sklearn.metrics import auc"
   ]
  },
  {
   "cell_type": "code",
   "execution_count": 82,
   "metadata": {
    "collapsed": false
   },
   "outputs": [
    {
     "name": "stdout",
     "output_type": "stream",
     "text": [
      "[##########] 100%\n",
      "[##########] 100%\n",
      "1 loops, best of 1: 46.4 s per loop\n"
     ]
    }
   ],
   "source": [
    "%%timeit -r 1\n",
    "mv_results = calc_mv_classifier(o_clf, roc_auc_score, processes=7, method='combinatorial')"
   ]
  },
  {
   "cell_type": "code",
   "execution_count": 79,
   "metadata": {
    "collapsed": false
   },
   "outputs": [],
   "source": [
    "mv_results.region = mv_results.region +1"
   ]
  },
  {
   "cell_type": "code",
   "execution_count": 80,
   "metadata": {
    "collapsed": false
   },
   "outputs": [
    {
     "data": {
      "text/html": [
       "<div>\n",
       "<table border=\"1\" class=\"dataframe\">\n",
       "  <thead>\n",
       "    <tr style=\"text-align: right;\">\n",
       "      <th></th>\n",
       "      <th>score</th>\n",
       "      <th>num_features</th>\n",
       "      <th>region</th>\n",
       "      <th>feature</th>\n",
       "    </tr>\n",
       "  </thead>\n",
       "  <tbody>\n",
       "    <tr>\n",
       "      <th>0</th>\n",
       "      <td>0.529250</td>\n",
       "      <td>1</td>\n",
       "      <td>2</td>\n",
       "      <td>topic59</td>\n",
       "    </tr>\n",
       "    <tr>\n",
       "      <th>1</th>\n",
       "      <td>0.544617</td>\n",
       "      <td>2</td>\n",
       "      <td>2</td>\n",
       "      <td>topic50</td>\n",
       "    </tr>\n",
       "    <tr>\n",
       "      <th>2</th>\n",
       "      <td>0.552997</td>\n",
       "      <td>3</td>\n",
       "      <td>2</td>\n",
       "      <td>topic39</td>\n",
       "    </tr>\n",
       "    <tr>\n",
       "      <th>3</th>\n",
       "      <td>0.560799</td>\n",
       "      <td>4</td>\n",
       "      <td>2</td>\n",
       "      <td>topic44</td>\n",
       "    </tr>\n",
       "    <tr>\n",
       "      <th>4</th>\n",
       "      <td>0.562475</td>\n",
       "      <td>5</td>\n",
       "      <td>2</td>\n",
       "      <td>topic58</td>\n",
       "    </tr>\n",
       "    <tr>\n",
       "      <th>5</th>\n",
       "      <td>0.564527</td>\n",
       "      <td>6</td>\n",
       "      <td>2</td>\n",
       "      <td>topic10</td>\n",
       "    </tr>\n",
       "    <tr>\n",
       "      <th>6</th>\n",
       "      <td>0.567640</td>\n",
       "      <td>7</td>\n",
       "      <td>2</td>\n",
       "      <td>topic32</td>\n",
       "    </tr>\n",
       "    <tr>\n",
       "      <th>7</th>\n",
       "      <td>0.571112</td>\n",
       "      <td>8</td>\n",
       "      <td>2</td>\n",
       "      <td>topic29</td>\n",
       "    </tr>\n",
       "    <tr>\n",
       "      <th>8</th>\n",
       "      <td>0.571945</td>\n",
       "      <td>9</td>\n",
       "      <td>2</td>\n",
       "      <td>topic6</td>\n",
       "    </tr>\n",
       "    <tr>\n",
       "      <th>9</th>\n",
       "      <td>0.575022</td>\n",
       "      <td>10</td>\n",
       "      <td>2</td>\n",
       "      <td>topic7</td>\n",
       "    </tr>\n",
       "    <tr>\n",
       "      <th>10</th>\n",
       "      <td>0.578200</td>\n",
       "      <td>11</td>\n",
       "      <td>2</td>\n",
       "      <td>topic12</td>\n",
       "    </tr>\n",
       "    <tr>\n",
       "      <th>11</th>\n",
       "      <td>0.580077</td>\n",
       "      <td>12</td>\n",
       "      <td>2</td>\n",
       "      <td>topic34</td>\n",
       "    </tr>\n",
       "    <tr>\n",
       "      <th>12</th>\n",
       "      <td>0.583301</td>\n",
       "      <td>13</td>\n",
       "      <td>2</td>\n",
       "      <td>topic27</td>\n",
       "    </tr>\n",
       "    <tr>\n",
       "      <th>13</th>\n",
       "      <td>0.584774</td>\n",
       "      <td>14</td>\n",
       "      <td>2</td>\n",
       "      <td>topic15</td>\n",
       "    </tr>\n",
       "    <tr>\n",
       "      <th>14</th>\n",
       "      <td>0.587733</td>\n",
       "      <td>15</td>\n",
       "      <td>2</td>\n",
       "      <td>topic40</td>\n",
       "    </tr>\n",
       "    <tr>\n",
       "      <th>15</th>\n",
       "      <td>0.590462</td>\n",
       "      <td>16</td>\n",
       "      <td>2</td>\n",
       "      <td>topic30</td>\n",
       "    </tr>\n",
       "    <tr>\n",
       "      <th>16</th>\n",
       "      <td>0.587311</td>\n",
       "      <td>17</td>\n",
       "      <td>2</td>\n",
       "      <td>topic57</td>\n",
       "    </tr>\n",
       "    <tr>\n",
       "      <th>17</th>\n",
       "      <td>0.587184</td>\n",
       "      <td>18</td>\n",
       "      <td>2</td>\n",
       "      <td>topic2</td>\n",
       "    </tr>\n",
       "    <tr>\n",
       "      <th>18</th>\n",
       "      <td>0.586754</td>\n",
       "      <td>19</td>\n",
       "      <td>2</td>\n",
       "      <td>topic53</td>\n",
       "    </tr>\n",
       "    <tr>\n",
       "      <th>19</th>\n",
       "      <td>0.581735</td>\n",
       "      <td>20</td>\n",
       "      <td>2</td>\n",
       "      <td>topic35</td>\n",
       "    </tr>\n",
       "    <tr>\n",
       "      <th>20</th>\n",
       "      <td>0.579071</td>\n",
       "      <td>21</td>\n",
       "      <td>2</td>\n",
       "      <td>topic48</td>\n",
       "    </tr>\n",
       "    <tr>\n",
       "      <th>21</th>\n",
       "      <td>0.581507</td>\n",
       "      <td>22</td>\n",
       "      <td>2</td>\n",
       "      <td>topic19</td>\n",
       "    </tr>\n",
       "    <tr>\n",
       "      <th>22</th>\n",
       "      <td>0.584364</td>\n",
       "      <td>23</td>\n",
       "      <td>2</td>\n",
       "      <td>topic26</td>\n",
       "    </tr>\n",
       "    <tr>\n",
       "      <th>23</th>\n",
       "      <td>0.583650</td>\n",
       "      <td>24</td>\n",
       "      <td>2</td>\n",
       "      <td>topic38</td>\n",
       "    </tr>\n",
       "    <tr>\n",
       "      <th>24</th>\n",
       "      <td>0.577313</td>\n",
       "      <td>25</td>\n",
       "      <td>2</td>\n",
       "      <td>topic4</td>\n",
       "    </tr>\n",
       "    <tr>\n",
       "      <th>25</th>\n",
       "      <td>0.582634</td>\n",
       "      <td>26</td>\n",
       "      <td>2</td>\n",
       "      <td>topic49</td>\n",
       "    </tr>\n",
       "    <tr>\n",
       "      <th>26</th>\n",
       "      <td>0.578586</td>\n",
       "      <td>27</td>\n",
       "      <td>2</td>\n",
       "      <td>topic1</td>\n",
       "    </tr>\n",
       "    <tr>\n",
       "      <th>27</th>\n",
       "      <td>0.578458</td>\n",
       "      <td>28</td>\n",
       "      <td>2</td>\n",
       "      <td>topic20</td>\n",
       "    </tr>\n",
       "    <tr>\n",
       "      <th>28</th>\n",
       "      <td>0.576563</td>\n",
       "      <td>29</td>\n",
       "      <td>2</td>\n",
       "      <td>topic37</td>\n",
       "    </tr>\n",
       "    <tr>\n",
       "      <th>29</th>\n",
       "      <td>0.575161</td>\n",
       "      <td>30</td>\n",
       "      <td>2</td>\n",
       "      <td>topic5</td>\n",
       "    </tr>\n",
       "    <tr>\n",
       "      <th>...</th>\n",
       "      <td>...</td>\n",
       "      <td>...</td>\n",
       "      <td>...</td>\n",
       "      <td>...</td>\n",
       "    </tr>\n",
       "    <tr>\n",
       "      <th>258</th>\n",
       "      <td>0.551301</td>\n",
       "      <td>3</td>\n",
       "      <td>10</td>\n",
       "      <td>topic15</td>\n",
       "    </tr>\n",
       "    <tr>\n",
       "      <th>259</th>\n",
       "      <td>0.561851</td>\n",
       "      <td>4</td>\n",
       "      <td>10</td>\n",
       "      <td>topic32</td>\n",
       "    </tr>\n",
       "    <tr>\n",
       "      <th>260</th>\n",
       "      <td>0.565214</td>\n",
       "      <td>5</td>\n",
       "      <td>10</td>\n",
       "      <td>topic37</td>\n",
       "    </tr>\n",
       "    <tr>\n",
       "      <th>261</th>\n",
       "      <td>0.569754</td>\n",
       "      <td>6</td>\n",
       "      <td>10</td>\n",
       "      <td>topic38</td>\n",
       "    </tr>\n",
       "    <tr>\n",
       "      <th>262</th>\n",
       "      <td>0.574638</td>\n",
       "      <td>7</td>\n",
       "      <td>10</td>\n",
       "      <td>topic26</td>\n",
       "    </tr>\n",
       "    <tr>\n",
       "      <th>263</th>\n",
       "      <td>0.576697</td>\n",
       "      <td>8</td>\n",
       "      <td>10</td>\n",
       "      <td>topic44</td>\n",
       "    </tr>\n",
       "    <tr>\n",
       "      <th>264</th>\n",
       "      <td>0.582841</td>\n",
       "      <td>9</td>\n",
       "      <td>10</td>\n",
       "      <td>topic59</td>\n",
       "    </tr>\n",
       "    <tr>\n",
       "      <th>265</th>\n",
       "      <td>0.585675</td>\n",
       "      <td>10</td>\n",
       "      <td>10</td>\n",
       "      <td>topic58</td>\n",
       "    </tr>\n",
       "    <tr>\n",
       "      <th>266</th>\n",
       "      <td>0.588430</td>\n",
       "      <td>11</td>\n",
       "      <td>10</td>\n",
       "      <td>topic19</td>\n",
       "    </tr>\n",
       "    <tr>\n",
       "      <th>267</th>\n",
       "      <td>0.589224</td>\n",
       "      <td>12</td>\n",
       "      <td>10</td>\n",
       "      <td>topic5</td>\n",
       "    </tr>\n",
       "    <tr>\n",
       "      <th>268</th>\n",
       "      <td>0.589446</td>\n",
       "      <td>13</td>\n",
       "      <td>10</td>\n",
       "      <td>topic48</td>\n",
       "    </tr>\n",
       "    <tr>\n",
       "      <th>269</th>\n",
       "      <td>0.592015</td>\n",
       "      <td>14</td>\n",
       "      <td>10</td>\n",
       "      <td>topic35</td>\n",
       "    </tr>\n",
       "    <tr>\n",
       "      <th>270</th>\n",
       "      <td>0.593359</td>\n",
       "      <td>15</td>\n",
       "      <td>10</td>\n",
       "      <td>topic20</td>\n",
       "    </tr>\n",
       "    <tr>\n",
       "      <th>271</th>\n",
       "      <td>0.596943</td>\n",
       "      <td>16</td>\n",
       "      <td>10</td>\n",
       "      <td>topic53</td>\n",
       "    </tr>\n",
       "    <tr>\n",
       "      <th>272</th>\n",
       "      <td>0.596172</td>\n",
       "      <td>17</td>\n",
       "      <td>10</td>\n",
       "      <td>topic40</td>\n",
       "    </tr>\n",
       "    <tr>\n",
       "      <th>273</th>\n",
       "      <td>0.597190</td>\n",
       "      <td>18</td>\n",
       "      <td>10</td>\n",
       "      <td>topic30</td>\n",
       "    </tr>\n",
       "    <tr>\n",
       "      <th>274</th>\n",
       "      <td>0.596180</td>\n",
       "      <td>19</td>\n",
       "      <td>10</td>\n",
       "      <td>topic49</td>\n",
       "    </tr>\n",
       "    <tr>\n",
       "      <th>275</th>\n",
       "      <td>0.597786</td>\n",
       "      <td>20</td>\n",
       "      <td>10</td>\n",
       "      <td>topic1</td>\n",
       "    </tr>\n",
       "    <tr>\n",
       "      <th>276</th>\n",
       "      <td>0.599265</td>\n",
       "      <td>21</td>\n",
       "      <td>10</td>\n",
       "      <td>topic12</td>\n",
       "    </tr>\n",
       "    <tr>\n",
       "      <th>277</th>\n",
       "      <td>0.598003</td>\n",
       "      <td>22</td>\n",
       "      <td>10</td>\n",
       "      <td>topic23</td>\n",
       "    </tr>\n",
       "    <tr>\n",
       "      <th>278</th>\n",
       "      <td>0.598727</td>\n",
       "      <td>23</td>\n",
       "      <td>10</td>\n",
       "      <td>topic11</td>\n",
       "    </tr>\n",
       "    <tr>\n",
       "      <th>279</th>\n",
       "      <td>0.599868</td>\n",
       "      <td>24</td>\n",
       "      <td>10</td>\n",
       "      <td>topic6</td>\n",
       "    </tr>\n",
       "    <tr>\n",
       "      <th>280</th>\n",
       "      <td>0.598387</td>\n",
       "      <td>25</td>\n",
       "      <td>10</td>\n",
       "      <td>topic7</td>\n",
       "    </tr>\n",
       "    <tr>\n",
       "      <th>281</th>\n",
       "      <td>0.601202</td>\n",
       "      <td>26</td>\n",
       "      <td>10</td>\n",
       "      <td>topic9</td>\n",
       "    </tr>\n",
       "    <tr>\n",
       "      <th>282</th>\n",
       "      <td>0.601373</td>\n",
       "      <td>27</td>\n",
       "      <td>10</td>\n",
       "      <td>topic29</td>\n",
       "    </tr>\n",
       "    <tr>\n",
       "      <th>283</th>\n",
       "      <td>0.600062</td>\n",
       "      <td>28</td>\n",
       "      <td>10</td>\n",
       "      <td>topic34</td>\n",
       "    </tr>\n",
       "    <tr>\n",
       "      <th>284</th>\n",
       "      <td>0.599579</td>\n",
       "      <td>29</td>\n",
       "      <td>10</td>\n",
       "      <td>topic50</td>\n",
       "    </tr>\n",
       "    <tr>\n",
       "      <th>285</th>\n",
       "      <td>0.598114</td>\n",
       "      <td>30</td>\n",
       "      <td>10</td>\n",
       "      <td>topic4</td>\n",
       "    </tr>\n",
       "    <tr>\n",
       "      <th>286</th>\n",
       "      <td>0.599054</td>\n",
       "      <td>31</td>\n",
       "      <td>10</td>\n",
       "      <td>topic27</td>\n",
       "    </tr>\n",
       "    <tr>\n",
       "      <th>287</th>\n",
       "      <td>0.599869</td>\n",
       "      <td>32</td>\n",
       "      <td>10</td>\n",
       "      <td>topic10</td>\n",
       "    </tr>\n",
       "  </tbody>\n",
       "</table>\n",
       "<p>288 rows × 4 columns</p>\n",
       "</div>"
      ],
      "text/plain": [
       "        score  num_features  region  feature\n",
       "0    0.529250             1       2  topic59\n",
       "1    0.544617             2       2  topic50\n",
       "2    0.552997             3       2  topic39\n",
       "3    0.560799             4       2  topic44\n",
       "4    0.562475             5       2  topic58\n",
       "5    0.564527             6       2  topic10\n",
       "6    0.567640             7       2  topic32\n",
       "7    0.571112             8       2  topic29\n",
       "8    0.571945             9       2   topic6\n",
       "9    0.575022            10       2   topic7\n",
       "10   0.578200            11       2  topic12\n",
       "11   0.580077            12       2  topic34\n",
       "12   0.583301            13       2  topic27\n",
       "13   0.584774            14       2  topic15\n",
       "14   0.587733            15       2  topic40\n",
       "15   0.590462            16       2  topic30\n",
       "16   0.587311            17       2  topic57\n",
       "17   0.587184            18       2   topic2\n",
       "18   0.586754            19       2  topic53\n",
       "19   0.581735            20       2  topic35\n",
       "20   0.579071            21       2  topic48\n",
       "21   0.581507            22       2  topic19\n",
       "22   0.584364            23       2  topic26\n",
       "23   0.583650            24       2  topic38\n",
       "24   0.577313            25       2   topic4\n",
       "25   0.582634            26       2  topic49\n",
       "26   0.578586            27       2   topic1\n",
       "27   0.578458            28       2  topic20\n",
       "28   0.576563            29       2  topic37\n",
       "29   0.575161            30       2   topic5\n",
       "..        ...           ...     ...      ...\n",
       "258  0.551301             3      10  topic15\n",
       "259  0.561851             4      10  topic32\n",
       "260  0.565214             5      10  topic37\n",
       "261  0.569754             6      10  topic38\n",
       "262  0.574638             7      10  topic26\n",
       "263  0.576697             8      10  topic44\n",
       "264  0.582841             9      10  topic59\n",
       "265  0.585675            10      10  topic58\n",
       "266  0.588430            11      10  topic19\n",
       "267  0.589224            12      10   topic5\n",
       "268  0.589446            13      10  topic48\n",
       "269  0.592015            14      10  topic35\n",
       "270  0.593359            15      10  topic20\n",
       "271  0.596943            16      10  topic53\n",
       "272  0.596172            17      10  topic40\n",
       "273  0.597190            18      10  topic30\n",
       "274  0.596180            19      10  topic49\n",
       "275  0.597786            20      10   topic1\n",
       "276  0.599265            21      10  topic12\n",
       "277  0.598003            22      10  topic23\n",
       "278  0.598727            23      10  topic11\n",
       "279  0.599868            24      10   topic6\n",
       "280  0.598387            25      10   topic7\n",
       "281  0.601202            26      10   topic9\n",
       "282  0.601373            27      10  topic29\n",
       "283  0.600062            28      10  topic34\n",
       "284  0.599579            29      10  topic50\n",
       "285  0.598114            30      10   topic4\n",
       "286  0.599054            31      10  topic27\n",
       "287  0.599869            32      10  topic10\n",
       "\n",
       "[288 rows x 4 columns]"
      ]
     },
     "execution_count": 80,
     "metadata": {},
     "output_type": "execute_result"
    }
   ],
   "source": [
    "mv_results"
   ]
  },
  {
   "cell_type": "code",
   "execution_count": null,
   "metadata": {
    "collapsed": false
   },
   "outputs": [],
   "source": [
    "mv_results['region_order'] = mv_results['region'].map(dict(labels))\n",
    "mv_results['region_names'] = mv_results['region'].map(dict(label_order))"
   ]
  },
  {
   "cell_type": "code",
   "execution_count": null,
   "metadata": {
    "collapsed": false
   },
   "outputs": [],
   "source": [
    "unit_norm = lambda x: (x / x.max())\n",
    "mv_results['score_unit'] = mv_results.groupby('region')['score'].apply(unit_norm)\n",
    "colors = nine_colors\n",
    "mv_results['score_log_t100'] = np.log10(mv_results.score*1000 + 1)\n",
    "\n",
    "%Rpush mv_results"
   ]
  },
  {
   "cell_type": "code",
   "execution_count": null,
   "metadata": {
    "collapsed": false
   },
   "outputs": [],
   "source": [
    "order_dat = pd.merge(pd.DataFrame(label_order, columns=['regions', 'name']), pd.DataFrame(labels, columns=['regions', 'order']))\n",
    "order_dat['color'] = colors\n",
    "order_dat.sort(columns='name', inplace=True)"
   ]
  },
  {
   "cell_type": "code",
   "execution_count": null,
   "metadata": {
    "collapsed": false
   },
   "outputs": [],
   "source": [
    "np.unique(mv_results.region_names)"
   ]
  },
  {
   "cell_type": "code",
   "execution_count": null,
   "metadata": {
    "collapsed": false
   },
   "outputs": [],
   "source": [
    "%%R \n",
    "levels(mv_results$region_names)"
   ]
  },
  {
   "cell_type": "code",
   "execution_count": null,
   "metadata": {
    "collapsed": false
   },
   "outputs": [],
   "source": [
    "%%R\n",
    "\n",
    "mv_results$region_names <- factor(mv_results$region_names, levels=levels(mv_results$region_names)[c(7, 8, 4, 5, 1, 2, 3, 6, 9)])"
   ]
  },
  {
   "cell_type": "code",
   "execution_count": null,
   "metadata": {
    "collapsed": false
   },
   "outputs": [],
   "source": [
    "%%R\n",
    "levels(mv_results$region_names)"
   ]
  },
  {
   "cell_type": "code",
   "execution_count": 1,
   "metadata": {
    "collapsed": false
   },
   "outputs": [
    {
     "ename": "NameError",
     "evalue": "name 'mv_results' is not defined",
     "output_type": "error",
     "traceback": [
      "\u001b[0;31m---------------------------------------------------------------------------\u001b[0m",
      "\u001b[0;31mNameError\u001b[0m                                 Traceback (most recent call last)",
      "\u001b[0;32m<ipython-input-1-29a55dacc5b2>\u001b[0m in \u001b[0;36m<module>\u001b[0;34m()\u001b[0m\n\u001b[0;32m----> 1\u001b[0;31m \u001b[0mmv_results\u001b[0m\u001b[0;34m\u001b[0m\u001b[0m\n\u001b[0m",
      "\u001b[0;31mNameError\u001b[0m: name 'mv_results' is not defined"
     ]
    }
   ],
   "source": [
    "mv_results"
   ]
  },
  {
   "cell_type": "code",
   "execution_count": 191,
   "metadata": {
    "collapsed": false
   },
   "outputs": [],
   "source": [
    "def minimum_percent(region, percent=.1):\n",
    "    max = region['score'].max()\n",
    "    near_max = (max - ((max - 0.5) * percent))\n",
    "    labeled_rows = (region['score'] > near_max)\n",
    "    return pd.Series([region[labeled_rows]['num_features'].min(), region[labeled_rows].reset_index().ix[0].score])\n",
    "\n",
    "res = mv_results.groupby('region').apply(minimum_percent, percent=0.05)\n",
    "near_max = res.rename(columns={0:\"num_topics\", 1:\"discriminability\"}).reset_index()\n",
    "near_max['region_names'] = near_max['region'].map(dict(label_order)) \n",
    "%Rpush near_max"
   ]
  },
  {
   "cell_type": "code",
   "execution_count": 86,
   "metadata": {
    "collapsed": false
   },
   "outputs": [
    {
     "ename": "NameError",
     "evalue": "name 'near_max' is not defined",
     "output_type": "error",
     "traceback": [
      "\u001b[0;31m---------------------------------------------------------------------------\u001b[0m",
      "\u001b[0;31mNameError\u001b[0m                                 Traceback (most recent call last)",
      "\u001b[0;32m<ipython-input-86-ce9657dbb934>\u001b[0m in \u001b[0;36m<module>\u001b[0;34m()\u001b[0m\n\u001b[0;32m----> 1\u001b[0;31m \u001b[0mnear_max\u001b[0m\u001b[0;34m\u001b[0m\u001b[0m\n\u001b[0m",
      "\u001b[0;31mNameError\u001b[0m: name 'near_max' is not defined"
     ]
    }
   ],
   "source": [
    "near_max"
   ]
  },
  {
   "cell_type": "code",
   "execution_count": 192,
   "metadata": {
    "collapsed": false
   },
   "outputs": [],
   "source": [
    "region = mv_results[mv_results.region == 4]"
   ]
  },
  {
   "cell_type": "code",
   "execution_count": 85,
   "metadata": {
    "collapsed": false
   },
   "outputs": [
    {
     "ename": "ImportError",
     "evalue": "cannot import name RGBToHTMLColor",
     "output_type": "error",
     "traceback": [
      "\u001b[0;31m---------------------------------------------------------------------------\u001b[0m",
      "\u001b[0;31mImportError\u001b[0m                               Traceback (most recent call last)",
      "\u001b[0;32m<ipython-input-85-a08004a56e24>\u001b[0m in \u001b[0;36m<module>\u001b[0;34m()\u001b[0m\n\u001b[0;32m----> 1\u001b[0;31m \u001b[0;32mfrom\u001b[0m \u001b[0mbase\u001b[0m\u001b[0;34m.\u001b[0m\u001b[0mtools\u001b[0m \u001b[0;32mimport\u001b[0m \u001b[0mRGBToHTMLColor\u001b[0m\u001b[0;34m\u001b[0m\u001b[0m\n\u001b[0m",
      "\u001b[0;31mImportError\u001b[0m: cannot import name RGBToHTMLColor"
     ]
    }
   ],
   "source": [
    "from base.tools import RGBToHTMLColor"
   ]
  },
  {
   "cell_type": "code",
   "execution_count": 195,
   "metadata": {
    "collapsed": false
   },
   "outputs": [],
   "source": [
    "from base.plotting import nine_colors\n",
    "nine_colors_hex = [RGBToHTMLColor(color) for color in nine_colors]\n",
    "%Rpush nine_colors_hex"
   ]
  },
  {
   "cell_type": "code",
   "execution_count": 196,
   "metadata": {
    "collapsed": false
   },
   "outputs": [],
   "source": [
    "%%R\n",
    "near_max$region_names <- factor(near_max$region_names, levels=levels(near_max$region_names)[c(7, 8, 4, 5, 1, 2, 3, 6, 9)])"
   ]
  },
  {
   "cell_type": "code",
   "execution_count": 197,
   "metadata": {
    "collapsed": false
   },
   "outputs": [
    {
     "data": {
      "text/plain": [
       "      8       4       6 \n",
       "  \"red\"  \"blue\" \"green\" \n"
      ]
     },
     "metadata": {},
     "output_type": "display_data"
    }
   ],
   "source": [
    "%%R\n",
    "c(\"8\" = \"red\",\"4\" = \"blue\",\"6\" = \"green\")"
   ]
  },
  {
   "cell_type": "code",
   "execution_count": 200,
   "metadata": {
    "collapsed": false
   },
   "outputs": [
    {
     "data": {
      "image/png": "[encoded data removed]"
     },
     "metadata": {},
     "output_type": "display_data"
    }
   ],
   "source": [
    "%%R -w 600 -h 450\n",
    "ggplot(mv_results, aes(num_features, score, group=region, color=factor(region))) + \n",
    "geom_line(stat='smooth', size=2, color='black', span=.12) +\n",
    "geom_line(stat='smooth', size=1.5, span=.12) +\n",
    "geom_point(data=near_max, aes(num_topics, discriminability, group=1, fill=factor(region)), shape=21, size = 4, color='black')+\n",
    "theme_bw() + ylab(\"Discriminability (auc-roc)\" ) + xlab(\"Number of cognitive topics\") + \n",
    "theme(axis.title.y = element_text(size = 13, vjust = 1.5), axis.title.x= element_text(size = 13, vjust = -.5)) + coord_cartesian(xlim = c(0, 34), ylim=c(0.5, 0.67)) +\n",
    "scale_color_manual(values= nine_colors_hex)+\n",
    "scale_fill_manual(values= nine_colors_hex)+\n",
    "scale_alpha(range=c(0,1)) +\n",
    "theme(panel.border = element_blank(), panel.grid.major = element_blank(), \n",
    "    panel.grid.minor = element_blank(), axis.line = element_line(colour = \"black\"), legend.title=element_blank(),\n",
    "     legend.position =\"none\") \n",
    "\n",
    "# ggsave(\"../reports/vmpfc_comps/complexity_9_nolegend.jpeg\")"
   ]
  },
  {
   "cell_type": "code",
   "execution_count": 201,
   "metadata": {
    "collapsed": false
   },
   "outputs": [
    {
     "data": {
      "image/png": "[encoded data removed]"
     },
     "metadata": {},
     "output_type": "display_data"
    }
   ],
   "source": [
    "%%R -w 600 -h 450\n",
    "ggplot(mv_results, aes(num_features, score, group=region, color=factor(region_names))) + \n",
    "geom_line(stat='smooth', size=2, color='black', span=.12) +\n",
    "geom_line(stat='smooth', size=1.5, span=.12) +\n",
    "geom_point(data=near_max, aes(num_topics, discriminability, group=1, fill=factor(region_names)), shape=21, size = 4, color='black')+\n",
    "theme_bw() + ylab(\"Discriminability (auc-roc)\" ) + xlab(\"Number of cognitive topics\") + \n",
    "theme(axis.title.y = element_text(size = 13, vjust = 1.5), axis.title.x= element_text(size = 13, vjust = -.5)) + coord_cartesian(xlim = c(0, 34), ylim=c(0.5, 0.67)) +\n",
    "scale_color_manual(values= nine_colors_hex)+\n",
    "scale_fill_manual(values= nine_colors_hex)+\n",
    "scale_alpha(range=c(0,1)) +\n",
    "theme(panel.border = element_blank(), panel.grid.major = element_blank(), \n",
    "    panel.grid.minor = element_blank(), axis.line = element_line(colour = \"black\"), legend.title=element_blank())"
   ]
  },
  {
   "cell_type": "code",
   "execution_count": 167,
   "metadata": {
    "collapsed": false
   },
   "outputs": [
    {
     "data": {
      "text/plain": [
       "<pandas.core.groupby.DataFrameGroupBy object at 0x119103250>"
      ]
     },
     "execution_count": 167,
     "metadata": {},
     "output_type": "execute_result"
    }
   ],
   "source": [
    "mv_results.groupby('region')"
   ]
  },
  {
   "cell_type": "code",
   "execution_count": 168,
   "metadata": {
    "collapsed": false
   },
   "outputs": [
    {
     "data": {
      "text/html": [
       "<div>\n",
       "<table border=\"1\" class=\"dataframe\">\n",
       "  <thead>\n",
       "    <tr style=\"text-align: right;\">\n",
       "      <th></th>\n",
       "      <th>score</th>\n",
       "      <th>num_features</th>\n",
       "      <th>feature</th>\n",
       "      <th>region_order</th>\n",
       "      <th>region_names</th>\n",
       "      <th>score_unit</th>\n",
       "      <th>score_log_t100</th>\n",
       "    </tr>\n",
       "    <tr>\n",
       "      <th>region</th>\n",
       "      <th></th>\n",
       "      <th></th>\n",
       "      <th></th>\n",
       "      <th></th>\n",
       "      <th></th>\n",
       "      <th></th>\n",
       "      <th></th>\n",
       "    </tr>\n",
       "  </thead>\n",
       "  <tbody>\n",
       "    <tr>\n",
       "      <th>8</th>\n",
       "      <td>0.584908</td>\n",
       "      <td>33</td>\n",
       "      <td>topic9</td>\n",
       "      <td>9</td>\n",
       "      <td>vmPFC</td>\n",
       "      <td>1</td>\n",
       "      <td>2.767829</td>\n",
       "    </tr>\n",
       "    <tr>\n",
       "      <th>2</th>\n",
       "      <td>0.593036</td>\n",
       "      <td>33</td>\n",
       "      <td>topic9</td>\n",
       "      <td>7</td>\n",
       "      <td>dmPFC</td>\n",
       "      <td>1</td>\n",
       "      <td>2.773813</td>\n",
       "    </tr>\n",
       "    <tr>\n",
       "      <th>6</th>\n",
       "      <td>0.600573</td>\n",
       "      <td>33</td>\n",
       "      <td>topic9</td>\n",
       "      <td>1</td>\n",
       "      <td>SMAc</td>\n",
       "      <td>1</td>\n",
       "      <td>2.779288</td>\n",
       "    </tr>\n",
       "    <tr>\n",
       "      <th>10</th>\n",
       "      <td>0.604164</td>\n",
       "      <td>33</td>\n",
       "      <td>topic9</td>\n",
       "      <td>NaN</td>\n",
       "      <td>NaN</td>\n",
       "      <td>1</td>\n",
       "      <td>2.781873</td>\n",
       "    </tr>\n",
       "    <tr>\n",
       "      <th>7</th>\n",
       "      <td>0.611380</td>\n",
       "      <td>33</td>\n",
       "      <td>topic9</td>\n",
       "      <td>6</td>\n",
       "      <td>dACCr</td>\n",
       "      <td>1</td>\n",
       "      <td>2.787021</td>\n",
       "    </tr>\n",
       "    <tr>\n",
       "      <th>4</th>\n",
       "      <td>0.618645</td>\n",
       "      <td>33</td>\n",
       "      <td>topic9</td>\n",
       "      <td>8</td>\n",
       "      <td>rACC</td>\n",
       "      <td>1</td>\n",
       "      <td>2.792143</td>\n",
       "    </tr>\n",
       "    <tr>\n",
       "      <th>5</th>\n",
       "      <td>0.620754</td>\n",
       "      <td>33</td>\n",
       "      <td>topic9</td>\n",
       "      <td>4</td>\n",
       "      <td>pSMAr</td>\n",
       "      <td>1</td>\n",
       "      <td>2.793618</td>\n",
       "    </tr>\n",
       "    <tr>\n",
       "      <th>3</th>\n",
       "      <td>0.624840</td>\n",
       "      <td>33</td>\n",
       "      <td>topic9</td>\n",
       "      <td>2</td>\n",
       "      <td>SMAr</td>\n",
       "      <td>1</td>\n",
       "      <td>2.796464</td>\n",
       "    </tr>\n",
       "    <tr>\n",
       "      <th>9</th>\n",
       "      <td>0.654071</td>\n",
       "      <td>33</td>\n",
       "      <td>topic9</td>\n",
       "      <td>3</td>\n",
       "      <td>pSMAc</td>\n",
       "      <td>1</td>\n",
       "      <td>2.816288</td>\n",
       "    </tr>\n",
       "  </tbody>\n",
       "</table>\n",
       "</div>"
      ],
      "text/plain": [
       "           score  num_features feature  region_order region_names  score_unit  \\\n",
       "region                                                                          \n",
       "8       0.584908            33  topic9             9        vmPFC           1   \n",
       "2       0.593036            33  topic9             7        dmPFC           1   \n",
       "6       0.600573            33  topic9             1         SMAc           1   \n",
       "10      0.604164            33  topic9           NaN          NaN           1   \n",
       "7       0.611380            33  topic9             6        dACCr           1   \n",
       "4       0.618645            33  topic9             8         rACC           1   \n",
       "5       0.620754            33  topic9             4        pSMAr           1   \n",
       "3       0.624840            33  topic9             2         SMAr           1   \n",
       "9       0.654071            33  topic9             3        pSMAc           1   \n",
       "\n",
       "        score_log_t100  \n",
       "region                  \n",
       "8             2.767829  \n",
       "2             2.773813  \n",
       "6             2.779288  \n",
       "10            2.781873  \n",
       "7             2.787021  \n",
       "4             2.792143  \n",
       "5             2.793618  \n",
       "3             2.796464  \n",
       "9             2.816288  "
      ]
     },
     "execution_count": 168,
     "metadata": {},
     "output_type": "execute_result"
    }
   ],
   "source": [
    "mv_results.groupby('region').max().sort('score')"
   ]
  },
  {
   "cell_type": "code",
   "execution_count": 169,
   "metadata": {
    "collapsed": false
   },
   "outputs": [
    {
     "data": {
      "text/html": [
       "<div>\n",
       "<table border=\"1\" class=\"dataframe\">\n",
       "  <thead>\n",
       "    <tr style=\"text-align: right;\">\n",
       "      <th></th>\n",
       "      <th>region</th>\n",
       "      <th>sdi</th>\n",
       "    </tr>\n",
       "  </thead>\n",
       "  <tbody>\n",
       "    <tr>\n",
       "      <th>7</th>\n",
       "      <td>8</td>\n",
       "      <td>3.243871</td>\n",
       "    </tr>\n",
       "    <tr>\n",
       "      <th>1</th>\n",
       "      <td>2</td>\n",
       "      <td>3.325995</td>\n",
       "    </tr>\n",
       "    <tr>\n",
       "      <th>3</th>\n",
       "      <td>4</td>\n",
       "      <td>3.341658</td>\n",
       "    </tr>\n",
       "    <tr>\n",
       "      <th>5</th>\n",
       "      <td>6</td>\n",
       "      <td>3.361962</td>\n",
       "    </tr>\n",
       "    <tr>\n",
       "      <th>6</th>\n",
       "      <td>7</td>\n",
       "      <td>3.393262</td>\n",
       "    </tr>\n",
       "    <tr>\n",
       "      <th>0</th>\n",
       "      <td>1</td>\n",
       "      <td>3.411290</td>\n",
       "    </tr>\n",
       "    <tr>\n",
       "      <th>2</th>\n",
       "      <td>3</td>\n",
       "      <td>3.411412</td>\n",
       "    </tr>\n",
       "    <tr>\n",
       "      <th>4</th>\n",
       "      <td>5</td>\n",
       "      <td>3.439022</td>\n",
       "    </tr>\n",
       "    <tr>\n",
       "      <th>8</th>\n",
       "      <td>9</td>\n",
       "      <td>3.441774</td>\n",
       "    </tr>\n",
       "  </tbody>\n",
       "</table>\n",
       "</div>"
      ],
      "text/plain": [
       "   region       sdi\n",
       "7       8  3.243871\n",
       "1       2  3.325995\n",
       "3       4  3.341658\n",
       "5       6  3.361962\n",
       "6       7  3.393262\n",
       "0       1  3.411290\n",
       "2       3  3.411412\n",
       "4       5  3.439022\n",
       "8       9  3.441774"
      ]
     },
     "execution_count": 169,
     "metadata": {},
     "output_type": "execute_result"
    }
   ],
   "source": [
    "sdi.sort('sdi')"
   ]
  },
  {
   "cell_type": "code",
   "execution_count": 170,
   "metadata": {
    "collapsed": false
   },
   "outputs": [
    {
     "data": {
      "text/plain": [
       "0.6322422058447043"
      ]
     },
     "execution_count": 170,
     "metadata": {},
     "output_type": "execute_result"
    }
   ],
   "source": [
    "(0.571864-0.5)/(0.6136653-0.5)"
   ]
  },
  {
   "cell_type": "code",
   "execution_count": 171,
   "metadata": {
    "collapsed": false
   },
   "outputs": [
    {
     "data": {
      "text/plain": [
       "score             0.6113798\n",
       "num_features             33\n",
       "region                    7\n",
       "feature              topic9\n",
       "region_order              6\n",
       "region_names          dACCr\n",
       "score_unit                1\n",
       "score_log_t100     2.787021\n",
       "dtype: object"
      ]
     },
     "execution_count": 171,
     "metadata": {},
     "output_type": "execute_result"
    }
   ],
   "source": [
    "mv_results[mv_results.region==7].max()"
   ]
  },
  {
   "cell_type": "code",
   "execution_count": 172,
   "metadata": {
    "collapsed": false
   },
   "outputs": [
    {
     "data": {
      "text/plain": [
       "24.0"
      ]
     },
     "execution_count": 172,
     "metadata": {},
     "output_type": "execute_result"
    }
   ],
   "source": [
    "near_max.num_topics.max()"
   ]
  },
  {
   "cell_type": "code",
   "execution_count": 173,
   "metadata": {
    "collapsed": false
   },
   "outputs": [
    {
     "data": {
      "text/plain": [
       "0    16\n",
       "1    11\n",
       "2    17\n",
       "3    22\n",
       "4    18\n",
       "5     7\n",
       "6    24\n",
       "7    21\n",
       "8    19\n",
       "Name: num_topics, dtype: float64"
      ]
     },
     "execution_count": 173,
     "metadata": {},
     "output_type": "execute_result"
    }
   ],
   "source": [
    "near_max.num_topics "
   ]
  },
  {
   "cell_type": "code",
   "execution_count": 175,
   "metadata": {
    "collapsed": false
   },
   "outputs": [],
   "source": [
    "# tools.make_mask_map(near_max.num_topics / 10, o_clf.mask_img, '../reports/vmpfc_comps/mFC_complex_ntopics')"
   ]
  },
  {
   "cell_type": "code",
   "execution_count": 176,
   "metadata": {
    "collapsed": false
   },
   "outputs": [
    {
     "data": {
      "text/plain": [
       "0    0.16\n",
       "1    0.11\n",
       "2    0.17\n",
       "3    0.22\n",
       "4    0.18\n",
       "5    0.07\n",
       "6    0.24\n",
       "7    0.21\n",
       "8    0.19\n",
       "Name: num_topics, dtype: float64"
      ]
     },
     "execution_count": 176,
     "metadata": {},
     "output_type": "execute_result"
    }
   ],
   "source": [
    "near_max.num_topics / 100"
   ]
  },
  {
   "cell_type": "code",
   "execution_count": 177,
   "metadata": {
    "collapsed": false
   },
   "outputs": [
    {
     "data": {
      "text/plain": [
       "0    16\n",
       "1    11\n",
       "2    17\n",
       "3    22\n",
       "4    18\n",
       "5     7\n",
       "6    24\n",
       "7    21\n",
       "8    19\n",
       "Name: num_topics, dtype: float64"
      ]
     },
     "execution_count": 177,
     "metadata": {},
     "output_type": "execute_result"
    }
   ],
   "source": [
    "near_max.num_topics"
   ]
  },
  {
   "cell_type": "code",
   "execution_count": 178,
   "metadata": {
    "collapsed": false
   },
   "outputs": [
    {
     "data": {
      "text/plain": [
       "'../results/perm_cluster/medial_fc_30_kmeans/kmeans_k9/cluster_labels.nii.gz'"
      ]
     },
     "execution_count": 178,
     "metadata": {},
     "output_type": "execute_result"
    }
   ],
   "source": [
    "o_clf.mask_img"
   ]
  },
  {
   "cell_type": "code",
   "execution_count": 179,
   "metadata": {
    "collapsed": false
   },
   "outputs": [
    {
     "ename": "IOError",
     "evalue": "[Errno 2] No such file or directory: '../results/newmFC_kmeans_coact_m100_pca9_GNB_t0.05_cog_topics_60/mv_min.nii'",
     "output_type": "error",
     "traceback": [
      "\u001b[0;31m---------------------------------------------------------------------------\u001b[0m",
      "\u001b[0;31mIOError\u001b[0m                                   Traceback (most recent call last)",
      "\u001b[0;32m<ipython-input-179-a21d9e004434>\u001b[0m in \u001b[0;36m<module>\u001b[0;34m()\u001b[0m\n\u001b[0;32m----> 1\u001b[0;31m \u001b[0mtools\u001b[0m\u001b[0;34m.\u001b[0m\u001b[0mmake_mask_map\u001b[0m\u001b[0;34m(\u001b[0m\u001b[0mmv_results\u001b[0m\u001b[0;34m[\u001b[0m\u001b[0mmv_results\u001b[0m\u001b[0;34m.\u001b[0m\u001b[0mnum_features\u001b[0m \u001b[0;34m==\u001b[0m \u001b[0;36m1\u001b[0m\u001b[0;34m]\u001b[0m\u001b[0;34m.\u001b[0m\u001b[0mscore\u001b[0m\u001b[0;34m,\u001b[0m \u001b[0mo_clf\u001b[0m\u001b[0;34m.\u001b[0m\u001b[0mmask_img\u001b[0m\u001b[0;34m,\u001b[0m \u001b[0;34m'../results/newmFC_kmeans_coact_m100_pca9_GNB_t0.05_cog_topics_60/mv_min'\u001b[0m\u001b[0;34m)\u001b[0m\u001b[0;34m\u001b[0m\u001b[0m\n\u001b[0m\u001b[1;32m      2\u001b[0m \u001b[0;31m# tools.make_mask_map(mv_results[mv_results.num_features == 20].score_log_t100, o_clf.mask_img, '../results/kmeans_coact_m100_pca_mpfc9_Ridge_cog_topics_60/mv_20_max_score_log_t100')\u001b[0m\u001b[0;34m\u001b[0m\u001b[0;34m\u001b[0m\u001b[0m\n",
      "\u001b[0;32m/Users/aleph4/Dropbox/projects/ns_classify/code/base/tools.pyc\u001b[0m in \u001b[0;36mmake_mask_map\u001b[0;34m(data, infile, outfile, index)\u001b[0m\n\u001b[1;32m    247\u001b[0m     \u001b[0mimg\u001b[0m \u001b[0;34m=\u001b[0m \u001b[0mimg\u001b[0m\u001b[0;34m.\u001b[0m\u001b[0mastype\u001b[0m\u001b[0;34m(\u001b[0m\u001b[0;34m'float32'\u001b[0m\u001b[0;34m)\u001b[0m\u001b[0;34m\u001b[0m\u001b[0m\n\u001b[1;32m    248\u001b[0m \u001b[0;34m\u001b[0m\u001b[0m\n\u001b[0;32m--> 249\u001b[0;31m     \u001b[0mimageutils\u001b[0m\u001b[0;34m.\u001b[0m\u001b[0msave_img\u001b[0m\u001b[0;34m(\u001b[0m\u001b[0mimg\u001b[0m\u001b[0;34m,\u001b[0m \u001b[0moutfile\u001b[0m\u001b[0;34m,\u001b[0m \u001b[0mmasker\u001b[0m\u001b[0;34m)\u001b[0m\u001b[0;34m\u001b[0m\u001b[0m\n\u001b[0m\u001b[1;32m    250\u001b[0m \u001b[0;34m\u001b[0m\u001b[0m\n\u001b[1;32m    251\u001b[0m \u001b[0;32mdef\u001b[0m \u001b[0mmake_mask_map_4d\u001b[0m\u001b[0;34m(\u001b[0m\u001b[0mdata\u001b[0m\u001b[0;34m,\u001b[0m \u001b[0minfile\u001b[0m\u001b[0;34m,\u001b[0m \u001b[0moutfile\u001b[0m\u001b[0;34m)\u001b[0m\u001b[0;34m:\u001b[0m\u001b[0;34m\u001b[0m\u001b[0m\n",
      "\u001b[0;32m/Users/aleph4/anaconda/lib/python2.7/site-packages/neurosynth-0.3.3-py2.7.egg/neurosynth/base/imageutils.pyc\u001b[0m in \u001b[0;36msave_img\u001b[0;34m(data, filename, masker, header)\u001b[0m\n\u001b[1;32m     67\u001b[0m     \u001b[0mheader\u001b[0m\u001b[0;34m[\u001b[0m\u001b[0;34m'cal_min'\u001b[0m\u001b[0;34m]\u001b[0m \u001b[0;34m=\u001b[0m \u001b[0mdata\u001b[0m\u001b[0;34m.\u001b[0m\u001b[0mmin\u001b[0m\u001b[0;34m(\u001b[0m\u001b[0;34m)\u001b[0m\u001b[0;34m\u001b[0m\u001b[0m\n\u001b[1;32m     68\u001b[0m     \u001b[0mimg\u001b[0m \u001b[0;34m=\u001b[0m \u001b[0mnifti1\u001b[0m\u001b[0;34m.\u001b[0m\u001b[0mNifti1Image\u001b[0m\u001b[0;34m(\u001b[0m\u001b[0mmasker\u001b[0m\u001b[0;34m.\u001b[0m\u001b[0munmask\u001b[0m\u001b[0;34m(\u001b[0m\u001b[0mdata\u001b[0m\u001b[0;34m)\u001b[0m\u001b[0;34m,\u001b[0m \u001b[0mNone\u001b[0m\u001b[0;34m,\u001b[0m \u001b[0mheader\u001b[0m\u001b[0;34m)\u001b[0m\u001b[0;34m\u001b[0m\u001b[0m\n\u001b[0;32m---> 69\u001b[0;31m     \u001b[0mimg\u001b[0m\u001b[0;34m.\u001b[0m\u001b[0mto_filename\u001b[0m\u001b[0;34m(\u001b[0m\u001b[0mfilename\u001b[0m\u001b[0;34m)\u001b[0m\u001b[0;34m\u001b[0m\u001b[0m\n\u001b[0m\u001b[1;32m     70\u001b[0m \u001b[0;34m\u001b[0m\u001b[0m\n\u001b[1;32m     71\u001b[0m \u001b[0;34m\u001b[0m\u001b[0m\n",
      "\u001b[0;32m/Users/aleph4/anaconda/lib/python2.7/site-packages/nibabel/spatialimages.pyc\u001b[0m in \u001b[0;36mto_filename\u001b[0;34m(self, filename)\u001b[0m\n\u001b[1;32m    468\u001b[0m         '''\n\u001b[1;32m    469\u001b[0m         \u001b[0mself\u001b[0m\u001b[0;34m.\u001b[0m\u001b[0mfile_map\u001b[0m \u001b[0;34m=\u001b[0m \u001b[0mself\u001b[0m\u001b[0;34m.\u001b[0m\u001b[0mfilespec_to_file_map\u001b[0m\u001b[0;34m(\u001b[0m\u001b[0mfilename\u001b[0m\u001b[0;34m)\u001b[0m\u001b[0;34m\u001b[0m\u001b[0m\n\u001b[0;32m--> 470\u001b[0;31m         \u001b[0mself\u001b[0m\u001b[0;34m.\u001b[0m\u001b[0mto_file_map\u001b[0m\u001b[0;34m(\u001b[0m\u001b[0;34m)\u001b[0m\u001b[0;34m\u001b[0m\u001b[0m\n\u001b[0m\u001b[1;32m    471\u001b[0m \u001b[0;34m\u001b[0m\u001b[0m\n\u001b[1;32m    472\u001b[0m     \u001b[0;32mdef\u001b[0m \u001b[0mto_filespec\u001b[0m\u001b[0;34m(\u001b[0m\u001b[0mself\u001b[0m\u001b[0;34m,\u001b[0m \u001b[0mfilename\u001b[0m\u001b[0;34m)\u001b[0m\u001b[0;34m:\u001b[0m\u001b[0;34m\u001b[0m\u001b[0m\n",
      "\u001b[0;32m/Users/aleph4/anaconda/lib/python2.7/site-packages/nibabel/analyze.pyc\u001b[0m in \u001b[0;36mto_file_map\u001b[0;34m(self, file_map)\u001b[0m\n\u001b[1;32m    934\u001b[0m         \u001b[0;31m# analyze images but most often this is because it's a single nifti file\u001b[0m\u001b[0;34m\u001b[0m\u001b[0;34m\u001b[0m\u001b[0m\n\u001b[1;32m    935\u001b[0m         \u001b[0mhdr_img_same\u001b[0m \u001b[0;34m=\u001b[0m \u001b[0mhdr_fh\u001b[0m\u001b[0;34m.\u001b[0m\u001b[0msame_file_as\u001b[0m\u001b[0;34m(\u001b[0m\u001b[0mimg_fh\u001b[0m\u001b[0;34m)\u001b[0m\u001b[0;34m\u001b[0m\u001b[0m\n\u001b[0;32m--> 936\u001b[0;31m         \u001b[0mhdrf\u001b[0m \u001b[0;34m=\u001b[0m \u001b[0mhdr_fh\u001b[0m\u001b[0;34m.\u001b[0m\u001b[0mget_prepare_fileobj\u001b[0m\u001b[0;34m(\u001b[0m\u001b[0mmode\u001b[0m\u001b[0;34m=\u001b[0m\u001b[0;34m'wb'\u001b[0m\u001b[0;34m)\u001b[0m\u001b[0;34m\u001b[0m\u001b[0m\n\u001b[0m\u001b[1;32m    937\u001b[0m         \u001b[0;32mif\u001b[0m \u001b[0mhdr_img_same\u001b[0m\u001b[0;34m:\u001b[0m\u001b[0;34m\u001b[0m\u001b[0m\n\u001b[1;32m    938\u001b[0m             \u001b[0mimgf\u001b[0m \u001b[0;34m=\u001b[0m \u001b[0mhdrf\u001b[0m\u001b[0;34m\u001b[0m\u001b[0m\n",
      "\u001b[0;32m/Users/aleph4/anaconda/lib/python2.7/site-packages/nibabel/fileholders.pyc\u001b[0m in \u001b[0;36mget_prepare_fileobj\u001b[0;34m(self, *args, **kwargs)\u001b[0m\n\u001b[1;32m     67\u001b[0m             \u001b[0mobj\u001b[0m\u001b[0;34m.\u001b[0m\u001b[0mseek\u001b[0m\u001b[0;34m(\u001b[0m\u001b[0mself\u001b[0m\u001b[0;34m.\u001b[0m\u001b[0mpos\u001b[0m\u001b[0;34m)\u001b[0m\u001b[0;34m\u001b[0m\u001b[0m\n\u001b[1;32m     68\u001b[0m         \u001b[0;32melif\u001b[0m \u001b[0mself\u001b[0m\u001b[0;34m.\u001b[0m\u001b[0mfilename\u001b[0m \u001b[0;32mis\u001b[0m \u001b[0;32mnot\u001b[0m \u001b[0mNone\u001b[0m\u001b[0;34m:\u001b[0m\u001b[0;34m\u001b[0m\u001b[0m\n\u001b[0;32m---> 69\u001b[0;31m             \u001b[0mobj\u001b[0m \u001b[0;34m=\u001b[0m \u001b[0mallopen\u001b[0m\u001b[0;34m(\u001b[0m\u001b[0mself\u001b[0m\u001b[0;34m.\u001b[0m\u001b[0mfilename\u001b[0m\u001b[0;34m,\u001b[0m \u001b[0;34m*\u001b[0m\u001b[0margs\u001b[0m\u001b[0;34m,\u001b[0m \u001b[0;34m**\u001b[0m\u001b[0mkwargs\u001b[0m\u001b[0;34m)\u001b[0m\u001b[0;34m\u001b[0m\u001b[0m\n\u001b[0m\u001b[1;32m     70\u001b[0m             \u001b[0;32mif\u001b[0m \u001b[0mself\u001b[0m\u001b[0;34m.\u001b[0m\u001b[0mpos\u001b[0m \u001b[0;34m!=\u001b[0m \u001b[0;36m0\u001b[0m\u001b[0;34m:\u001b[0m\u001b[0;34m\u001b[0m\u001b[0m\n\u001b[1;32m     71\u001b[0m                 \u001b[0mobj\u001b[0m\u001b[0;34m.\u001b[0m\u001b[0mseek\u001b[0m\u001b[0;34m(\u001b[0m\u001b[0mself\u001b[0m\u001b[0;34m.\u001b[0m\u001b[0mpos\u001b[0m\u001b[0;34m)\u001b[0m\u001b[0;34m\u001b[0m\u001b[0m\n",
      "\u001b[0;32m/Users/aleph4/anaconda/lib/python2.7/site-packages/nibabel/volumeutils.pyc\u001b[0m in \u001b[0;36mallopen\u001b[0;34m(fname, *args, **kwargs)\u001b[0m\n\u001b[1;32m   1282\u001b[0m     \u001b[0;32melse\u001b[0m\u001b[0;34m:\u001b[0m\u001b[0;34m\u001b[0m\u001b[0m\n\u001b[1;32m   1283\u001b[0m         \u001b[0mopener\u001b[0m \u001b[0;34m=\u001b[0m \u001b[0mopen\u001b[0m\u001b[0;34m\u001b[0m\u001b[0m\n\u001b[0;32m-> 1284\u001b[0;31m     \u001b[0;32mreturn\u001b[0m \u001b[0mopener\u001b[0m\u001b[0;34m(\u001b[0m\u001b[0mfname\u001b[0m\u001b[0;34m,\u001b[0m \u001b[0;34m*\u001b[0m\u001b[0margs\u001b[0m\u001b[0;34m,\u001b[0m \u001b[0;34m**\u001b[0m\u001b[0mkwargs\u001b[0m\u001b[0;34m)\u001b[0m\u001b[0;34m\u001b[0m\u001b[0m\n\u001b[0m\u001b[1;32m   1285\u001b[0m \u001b[0;34m\u001b[0m\u001b[0m\n\u001b[1;32m   1286\u001b[0m \u001b[0;34m\u001b[0m\u001b[0m\n",
      "\u001b[0;31mIOError\u001b[0m: [Errno 2] No such file or directory: '../results/newmFC_kmeans_coact_m100_pca9_GNB_t0.05_cog_topics_60/mv_min.nii'"
     ]
    }
   ],
   "source": [
    "tools.make_mask_map(mv_results[mv_results.num_features == 1].score, o_clf.mask_img, '../results/newmFC_kmeans_coact_m100_pca9_GNB_t0.05_cog_topics_60/mv_min')\n",
    "# tools.make_mask_map(mv_results[mv_results.num_features == 20].score_log_t100, o_clf.mask_img, '../results/kmeans_coact_m100_pca_mpfc9_Ridge_cog_topics_60/mv_20_max_score_log_t100')"
   ]
  },
  {
   "cell_type": "code",
   "execution_count": 180,
   "metadata": {
    "collapsed": true
   },
   "outputs": [],
   "source": [
    "from nilearn import plotting"
   ]
  },
  {
   "cell_type": "code",
   "execution_count": 181,
   "metadata": {
    "collapsed": false
   },
   "outputs": [
    {
     "ename": "SyntaxError",
     "evalue": "invalid syntax (<ipython-input-181-6f4f7b8fdfd3>, line 1)",
     "output_type": "error",
     "traceback": [
      "\u001b[0;36m  File \u001b[0;32m\"<ipython-input-181-6f4f7b8fdfd3>\"\u001b[0;36m, line \u001b[0;32m1\u001b[0m\n\u001b[0;31m    sns.\u001b[0m\n\u001b[0m        ^\u001b[0m\n\u001b[0;31mSyntaxError\u001b[0m\u001b[0;31m:\u001b[0m invalid syntax\n"
     ]
    }
   ],
   "source": [
    "sns."
   ]
  },
  {
   "cell_type": "code",
   "execution_count": 182,
   "metadata": {
    "collapsed": false
   },
   "outputs": [
    {
     "ename": "IOError",
     "evalue": "[Errno 2] No such file or directory: '../reports/vmpfc_comps/mFC_complex_ntopics.nii'",
     "output_type": "error",
     "traceback": [
      "\u001b[0;31m---------------------------------------------------------------------------\u001b[0m",
      "\u001b[0;31mIOError\u001b[0m                                   Traceback (most recent call last)",
      "\u001b[0;32m<ipython-input-182-87fc7ab2ae89>\u001b[0m in \u001b[0;36m<module>\u001b[0;34m()\u001b[0m\n\u001b[0;32m----> 1\u001b[0;31m \u001b[0mplotting\u001b[0m\u001b[0;34m.\u001b[0m\u001b[0mplot_stat_map\u001b[0m\u001b[0;34m(\u001b[0m\u001b[0;34m'../reports/vmpfc_comps/mFC_complex_ntopics.nii'\u001b[0m\u001b[0;34m,\u001b[0m \u001b[0mcut_coords\u001b[0m\u001b[0;34m=\u001b[0m\u001b[0;34m[\u001b[0m\u001b[0;36m5\u001b[0m\u001b[0;34m]\u001b[0m\u001b[0;34m,\u001b[0m \u001b[0mdisplay_mode\u001b[0m\u001b[0;34m=\u001b[0m\u001b[0;34m'x'\u001b[0m\u001b[0;34m,\u001b[0m \u001b[0moutput_file\u001b[0m\u001b[0;34m=\u001b[0m\u001b[0;34m'../reports/vmpfc_comps/mFC_complex'\u001b[0m\u001b[0;34m)\u001b[0m\u001b[0;34m\u001b[0m\u001b[0m\n\u001b[0m",
      "\u001b[0;32m/Users/aleph4/anaconda/lib/python2.7/site-packages/nilearn/plotting/img_plotting.pyc\u001b[0m in \u001b[0;36mplot_stat_map\u001b[0;34m(stat_map_img, bg_img, cut_coords, output_file, display_mode, colorbar, figure, axes, title, threshold, annotate, draw_cross, black_bg, cmap, symmetric_cbar, dim, vmax, **kwargs)\u001b[0m\n\u001b[1;32m    640\u001b[0m     \u001b[0;31m# make sure that the color range is symmetrical\u001b[0m\u001b[0;34m\u001b[0m\u001b[0;34m\u001b[0m\u001b[0m\n\u001b[1;32m    641\u001b[0m     \u001b[0;32mif\u001b[0m \u001b[0mvmax\u001b[0m \u001b[0;32mis\u001b[0m \u001b[0mNone\u001b[0m \u001b[0;32mor\u001b[0m \u001b[0msymmetric_cbar\u001b[0m \u001b[0;32min\u001b[0m \u001b[0;34m[\u001b[0m\u001b[0;34m'auto'\u001b[0m\u001b[0;34m,\u001b[0m \u001b[0mFalse\u001b[0m\u001b[0;34m]\u001b[0m\u001b[0;34m:\u001b[0m\u001b[0;34m\u001b[0m\u001b[0m\n\u001b[0;32m--> 642\u001b[0;31m         \u001b[0mstat_map_img\u001b[0m \u001b[0;34m=\u001b[0m \u001b[0m_utils\u001b[0m\u001b[0;34m.\u001b[0m\u001b[0mcheck_niimg_3d\u001b[0m\u001b[0;34m(\u001b[0m\u001b[0mstat_map_img\u001b[0m\u001b[0;34m)\u001b[0m\u001b[0;34m\u001b[0m\u001b[0m\n\u001b[0m\u001b[1;32m    643\u001b[0m         \u001b[0mstat_map_data\u001b[0m \u001b[0;34m=\u001b[0m \u001b[0mstat_map_img\u001b[0m\u001b[0;34m.\u001b[0m\u001b[0mget_data\u001b[0m\u001b[0;34m(\u001b[0m\u001b[0;34m)\u001b[0m\u001b[0;34m\u001b[0m\u001b[0m\n\u001b[1;32m    644\u001b[0m         \u001b[0;31m# Avoid dealing with masked_array:\u001b[0m\u001b[0;34m\u001b[0m\u001b[0;34m\u001b[0m\u001b[0m\n",
      "\u001b[0;32m/Users/aleph4/anaconda/lib/python2.7/site-packages/nilearn/_utils/niimg_conversions.pyc\u001b[0m in \u001b[0;36mcheck_niimg_3d\u001b[0;34m(niimg)\u001b[0m\n\u001b[1;32m    205\u001b[0m     \u001b[0mIts\u001b[0m \u001b[0mapplication\u001b[0m \u001b[0;32mis\u001b[0m \u001b[0midempotent\u001b[0m\u001b[0;34m.\u001b[0m\u001b[0;34m\u001b[0m\u001b[0m\n\u001b[1;32m    206\u001b[0m     \"\"\"\n\u001b[0;32m--> 207\u001b[0;31m     \u001b[0;32mreturn\u001b[0m \u001b[0mcheck_niimg\u001b[0m\u001b[0;34m(\u001b[0m\u001b[0mniimg\u001b[0m\u001b[0;34m,\u001b[0m \u001b[0mensure_ndim\u001b[0m\u001b[0;34m=\u001b[0m\u001b[0;36m3\u001b[0m\u001b[0;34m)\u001b[0m\u001b[0;34m\u001b[0m\u001b[0m\n\u001b[0m\u001b[1;32m    208\u001b[0m \u001b[0;34m\u001b[0m\u001b[0m\n\u001b[1;32m    209\u001b[0m \u001b[0;34m\u001b[0m\u001b[0m\n",
      "\u001b[0;32m/Users/aleph4/anaconda/lib/python2.7/site-packages/nilearn/_utils/niimg_conversions.pyc\u001b[0m in \u001b[0;36mcheck_niimg\u001b[0;34m(niimg, ensure_ndim, atleast_4d, return_iterator)\u001b[0m\n\u001b[1;32m    155\u001b[0m \u001b[0;34m\u001b[0m\u001b[0m\n\u001b[1;32m    156\u001b[0m     \u001b[0;31m# Otherwise, it should be a filename or a SpatialImage, we load it\u001b[0m\u001b[0;34m\u001b[0m\u001b[0;34m\u001b[0m\u001b[0m\n\u001b[0;32m--> 157\u001b[0;31m     \u001b[0mniimg\u001b[0m \u001b[0;34m=\u001b[0m \u001b[0mload_niimg\u001b[0m\u001b[0;34m(\u001b[0m\u001b[0mniimg\u001b[0m\u001b[0;34m)\u001b[0m\u001b[0;34m\u001b[0m\u001b[0m\n\u001b[0m\u001b[1;32m    158\u001b[0m \u001b[0;34m\u001b[0m\u001b[0m\n\u001b[1;32m    159\u001b[0m     \u001b[0;32mif\u001b[0m \u001b[0mensure_ndim\u001b[0m \u001b[0;34m==\u001b[0m \u001b[0;36m3\u001b[0m \u001b[0;32mand\u001b[0m \u001b[0mlen\u001b[0m\u001b[0;34m(\u001b[0m\u001b[0mniimg\u001b[0m\u001b[0;34m.\u001b[0m\u001b[0mshape\u001b[0m\u001b[0;34m)\u001b[0m \u001b[0;34m==\u001b[0m \u001b[0;36m4\u001b[0m \u001b[0;32mand\u001b[0m \u001b[0mniimg\u001b[0m\u001b[0;34m.\u001b[0m\u001b[0mshape\u001b[0m\u001b[0;34m[\u001b[0m\u001b[0;36m3\u001b[0m\u001b[0;34m]\u001b[0m \u001b[0;34m==\u001b[0m \u001b[0;36m1\u001b[0m\u001b[0;34m:\u001b[0m\u001b[0;34m\u001b[0m\u001b[0m\n",
      "\u001b[0;32m/Users/aleph4/anaconda/lib/python2.7/site-packages/nilearn/_utils/niimg.pyc\u001b[0m in \u001b[0;36mload_niimg\u001b[0;34m(niimg, dtype)\u001b[0m\n\u001b[1;32m     48\u001b[0m     \u001b[0;32mif\u001b[0m \u001b[0misinstance\u001b[0m\u001b[0;34m(\u001b[0m\u001b[0mniimg\u001b[0m\u001b[0;34m,\u001b[0m \u001b[0m_basestring\u001b[0m\u001b[0;34m)\u001b[0m\u001b[0;34m:\u001b[0m\u001b[0;34m\u001b[0m\u001b[0m\n\u001b[1;32m     49\u001b[0m         \u001b[0;31m# data is a filename, we load it\u001b[0m\u001b[0;34m\u001b[0m\u001b[0;34m\u001b[0m\u001b[0m\n\u001b[0;32m---> 50\u001b[0;31m         \u001b[0mniimg\u001b[0m \u001b[0;34m=\u001b[0m \u001b[0mnibabel\u001b[0m\u001b[0;34m.\u001b[0m\u001b[0mload\u001b[0m\u001b[0;34m(\u001b[0m\u001b[0mniimg\u001b[0m\u001b[0;34m)\u001b[0m\u001b[0;34m\u001b[0m\u001b[0m\n\u001b[0m\u001b[1;32m     51\u001b[0m     \u001b[0;32melif\u001b[0m \u001b[0;32mnot\u001b[0m \u001b[0misinstance\u001b[0m\u001b[0;34m(\u001b[0m\u001b[0mniimg\u001b[0m\u001b[0;34m,\u001b[0m \u001b[0mnibabel\u001b[0m\u001b[0;34m.\u001b[0m\u001b[0mspatialimages\u001b[0m\u001b[0;34m.\u001b[0m\u001b[0mSpatialImage\u001b[0m\u001b[0;34m)\u001b[0m\u001b[0;34m:\u001b[0m\u001b[0;34m\u001b[0m\u001b[0m\n\u001b[1;32m     52\u001b[0m         raise TypeError(\"Data given cannot be loaded because it is\"\n",
      "\u001b[0;32m/Users/aleph4/anaconda/lib/python2.7/site-packages/nibabel/loadsave.pyc\u001b[0m in \u001b[0;36mload\u001b[0;34m(filename)\u001b[0m\n\u001b[1;32m     52\u001b[0m         \u001b[0;32melse\u001b[0m\u001b[0;34m:\u001b[0m\u001b[0;34m\u001b[0m\u001b[0m\n\u001b[1;32m     53\u001b[0m             \u001b[0mklass\u001b[0m \u001b[0;34m=\u001b[0m  \u001b[0mspm2\u001b[0m\u001b[0;34m.\u001b[0m\u001b[0mSpm2AnalyzeImage\u001b[0m\u001b[0;34m\u001b[0m\u001b[0m\n\u001b[0;32m---> 54\u001b[0;31m     \u001b[0;32mreturn\u001b[0m \u001b[0mklass\u001b[0m\u001b[0;34m.\u001b[0m\u001b[0mfrom_filename\u001b[0m\u001b[0;34m(\u001b[0m\u001b[0mfilename\u001b[0m\u001b[0;34m)\u001b[0m\u001b[0;34m\u001b[0m\u001b[0m\n\u001b[0m\u001b[1;32m     55\u001b[0m \u001b[0;34m\u001b[0m\u001b[0m\n\u001b[1;32m     56\u001b[0m \u001b[0;34m\u001b[0m\u001b[0m\n",
      "\u001b[0;32m/Users/aleph4/anaconda/lib/python2.7/site-packages/nibabel/spatialimages.pyc\u001b[0m in \u001b[0;36mfrom_filename\u001b[0;34m(klass, filename)\u001b[0m\n\u001b[1;32m    409\u001b[0m     \u001b[0;32mdef\u001b[0m \u001b[0mfrom_filename\u001b[0m\u001b[0;34m(\u001b[0m\u001b[0mklass\u001b[0m\u001b[0;34m,\u001b[0m \u001b[0mfilename\u001b[0m\u001b[0;34m)\u001b[0m\u001b[0;34m:\u001b[0m\u001b[0;34m\u001b[0m\u001b[0m\n\u001b[1;32m    410\u001b[0m         \u001b[0mfile_map\u001b[0m \u001b[0;34m=\u001b[0m \u001b[0mklass\u001b[0m\u001b[0;34m.\u001b[0m\u001b[0mfilespec_to_file_map\u001b[0m\u001b[0;34m(\u001b[0m\u001b[0mfilename\u001b[0m\u001b[0;34m)\u001b[0m\u001b[0;34m\u001b[0m\u001b[0m\n\u001b[0;32m--> 411\u001b[0;31m         \u001b[0;32mreturn\u001b[0m \u001b[0mklass\u001b[0m\u001b[0;34m.\u001b[0m\u001b[0mfrom_file_map\u001b[0m\u001b[0;34m(\u001b[0m\u001b[0mfile_map\u001b[0m\u001b[0;34m)\u001b[0m\u001b[0;34m\u001b[0m\u001b[0m\n\u001b[0m\u001b[1;32m    412\u001b[0m \u001b[0;34m\u001b[0m\u001b[0m\n\u001b[1;32m    413\u001b[0m     \u001b[0;34m@\u001b[0m\u001b[0mclassmethod\u001b[0m\u001b[0;34m\u001b[0m\u001b[0m\n",
      "\u001b[0;32m/Users/aleph4/anaconda/lib/python2.7/site-packages/nibabel/analyze.pyc\u001b[0m in \u001b[0;36mfrom_file_map\u001b[0;34m(klass, file_map)\u001b[0m\n\u001b[1;32m    867\u001b[0m         '''\n\u001b[1;32m    868\u001b[0m         \u001b[0mhdr_fh\u001b[0m\u001b[0;34m,\u001b[0m \u001b[0mimg_fh\u001b[0m \u001b[0;34m=\u001b[0m \u001b[0mklass\u001b[0m\u001b[0;34m.\u001b[0m\u001b[0m_get_fileholders\u001b[0m\u001b[0;34m(\u001b[0m\u001b[0mfile_map\u001b[0m\u001b[0;34m)\u001b[0m\u001b[0;34m\u001b[0m\u001b[0m\n\u001b[0;32m--> 869\u001b[0;31m         \u001b[0mhdrf\u001b[0m \u001b[0;34m=\u001b[0m \u001b[0mhdr_fh\u001b[0m\u001b[0;34m.\u001b[0m\u001b[0mget_prepare_fileobj\u001b[0m\u001b[0;34m(\u001b[0m\u001b[0mmode\u001b[0m\u001b[0;34m=\u001b[0m\u001b[0;34m'rb'\u001b[0m\u001b[0;34m)\u001b[0m\u001b[0;34m\u001b[0m\u001b[0m\n\u001b[0m\u001b[1;32m    870\u001b[0m         \u001b[0mheader\u001b[0m \u001b[0;34m=\u001b[0m \u001b[0mklass\u001b[0m\u001b[0;34m.\u001b[0m\u001b[0mheader_class\u001b[0m\u001b[0;34m.\u001b[0m\u001b[0mfrom_fileobj\u001b[0m\u001b[0;34m(\u001b[0m\u001b[0mhdrf\u001b[0m\u001b[0;34m)\u001b[0m\u001b[0;34m\u001b[0m\u001b[0m\n\u001b[1;32m    871\u001b[0m         \u001b[0;32mif\u001b[0m \u001b[0mhdr_fh\u001b[0m\u001b[0;34m.\u001b[0m\u001b[0mfileobj\u001b[0m \u001b[0;32mis\u001b[0m \u001b[0mNone\u001b[0m\u001b[0;34m:\u001b[0m \u001b[0;31m# was filename\u001b[0m\u001b[0;34m\u001b[0m\u001b[0m\n",
      "\u001b[0;32m/Users/aleph4/anaconda/lib/python2.7/site-packages/nibabel/fileholders.pyc\u001b[0m in \u001b[0;36mget_prepare_fileobj\u001b[0;34m(self, *args, **kwargs)\u001b[0m\n\u001b[1;32m     67\u001b[0m             \u001b[0mobj\u001b[0m\u001b[0;34m.\u001b[0m\u001b[0mseek\u001b[0m\u001b[0;34m(\u001b[0m\u001b[0mself\u001b[0m\u001b[0;34m.\u001b[0m\u001b[0mpos\u001b[0m\u001b[0;34m)\u001b[0m\u001b[0;34m\u001b[0m\u001b[0m\n\u001b[1;32m     68\u001b[0m         \u001b[0;32melif\u001b[0m \u001b[0mself\u001b[0m\u001b[0;34m.\u001b[0m\u001b[0mfilename\u001b[0m \u001b[0;32mis\u001b[0m \u001b[0;32mnot\u001b[0m \u001b[0mNone\u001b[0m\u001b[0;34m:\u001b[0m\u001b[0;34m\u001b[0m\u001b[0m\n\u001b[0;32m---> 69\u001b[0;31m             \u001b[0mobj\u001b[0m \u001b[0;34m=\u001b[0m \u001b[0mallopen\u001b[0m\u001b[0;34m(\u001b[0m\u001b[0mself\u001b[0m\u001b[0;34m.\u001b[0m\u001b[0mfilename\u001b[0m\u001b[0;34m,\u001b[0m \u001b[0;34m*\u001b[0m\u001b[0margs\u001b[0m\u001b[0;34m,\u001b[0m \u001b[0;34m**\u001b[0m\u001b[0mkwargs\u001b[0m\u001b[0;34m)\u001b[0m\u001b[0;34m\u001b[0m\u001b[0m\n\u001b[0m\u001b[1;32m     70\u001b[0m             \u001b[0;32mif\u001b[0m \u001b[0mself\u001b[0m\u001b[0;34m.\u001b[0m\u001b[0mpos\u001b[0m \u001b[0;34m!=\u001b[0m \u001b[0;36m0\u001b[0m\u001b[0;34m:\u001b[0m\u001b[0;34m\u001b[0m\u001b[0m\n\u001b[1;32m     71\u001b[0m                 \u001b[0mobj\u001b[0m\u001b[0;34m.\u001b[0m\u001b[0mseek\u001b[0m\u001b[0;34m(\u001b[0m\u001b[0mself\u001b[0m\u001b[0;34m.\u001b[0m\u001b[0mpos\u001b[0m\u001b[0;34m)\u001b[0m\u001b[0;34m\u001b[0m\u001b[0m\n",
      "\u001b[0;32m/Users/aleph4/anaconda/lib/python2.7/site-packages/nibabel/volumeutils.pyc\u001b[0m in \u001b[0;36mallopen\u001b[0;34m(fname, *args, **kwargs)\u001b[0m\n\u001b[1;32m   1282\u001b[0m     \u001b[0;32melse\u001b[0m\u001b[0;34m:\u001b[0m\u001b[0;34m\u001b[0m\u001b[0m\n\u001b[1;32m   1283\u001b[0m         \u001b[0mopener\u001b[0m \u001b[0;34m=\u001b[0m \u001b[0mopen\u001b[0m\u001b[0;34m\u001b[0m\u001b[0m\n\u001b[0;32m-> 1284\u001b[0;31m     \u001b[0;32mreturn\u001b[0m \u001b[0mopener\u001b[0m\u001b[0;34m(\u001b[0m\u001b[0mfname\u001b[0m\u001b[0;34m,\u001b[0m \u001b[0;34m*\u001b[0m\u001b[0margs\u001b[0m\u001b[0;34m,\u001b[0m \u001b[0;34m**\u001b[0m\u001b[0mkwargs\u001b[0m\u001b[0;34m)\u001b[0m\u001b[0;34m\u001b[0m\u001b[0m\n\u001b[0m\u001b[1;32m   1285\u001b[0m \u001b[0;34m\u001b[0m\u001b[0m\n\u001b[1;32m   1286\u001b[0m \u001b[0;34m\u001b[0m\u001b[0m\n",
      "\u001b[0;31mIOError\u001b[0m: [Errno 2] No such file or directory: '../reports/vmpfc_comps/mFC_complex_ntopics.nii'"
     ]
    }
   ],
   "source": [
    "plotting.plot_stat_map('../reports/vmpfc_comps/mFC_complex_ntopics.nii', cut_coords=[5], display_mode='x', output_file='../reports/vmpfc_comps/mFC_complex')"
   ]
  },
  {
   "cell_type": "code",
   "execution_count": null,
   "metadata": {
    "collapsed": true
   },
   "outputs": [],
   "source": []
  },
  {
   "cell_type": "code",
   "execution_count": null,
   "metadata": {
    "collapsed": false
   },
   "outputs": [],
   "source": [
    "mv_results[mv_results.num_features == 1].score.values - mv_results[mv_results.num_features == 20].score.values"
   ]
  },
  {
   "cell_type": "code",
   "execution_count": null,
   "metadata": {
    "collapsed": false
   },
   "outputs": [],
   "source": [
    "reload(tools)"
   ]
  },
  {
   "cell_type": "code",
   "execution_count": null,
   "metadata": {
    "collapsed": false
   },
   "outputs": [],
   "source": [
    "test = mv_results[mv_results.num_features == 1]"
   ]
  },
  {
   "cell_type": "code",
   "execution_count": null,
   "metadata": {
    "collapsed": false
   },
   "outputs": [],
   "source": [
    "test = mv_results[mv_results.num_features == 1]\n",
    "test['diff'] = mv_results[mv_results.num_features == 1].score.values - mv_results[mv_results.num_features == 20].score.values"
   ]
  },
  {
   "cell_type": "code",
   "execution_count": null,
   "metadata": {
    "collapsed": false
   },
   "outputs": [],
   "source": [
    "test.sort('diff')"
   ]
  },
  {
   "cell_type": "code",
   "execution_count": null,
   "metadata": {
    "collapsed": false
   },
   "outputs": [],
   "source": [
    "o_clf.mask_img"
   ]
  },
  {
   "cell_type": "code",
   "execution_count": null,
   "metadata": {
    "collapsed": false
   },
   "outputs": [],
   "source": [
    "%%R -w 600 -h 500\n",
    "# ten_colors = c(\"#a6cee3\", \"#1f78b4\", \"#b2df8a\", \"#33a02c\", \"#fb9a99\", \"#e31a1c\", \"#fdbf6f\", \"#ff7f00\", \"#cab2d6\", \"#6a3d9a\")\n",
    "\n",
    "library(ggplot2)\n",
    "ggplot(mv_results, aes(num_features, score_unit, color=factor(region_names))) + theme_bw() + ylab(\"Explained variance\" ) + xlab(\"Number of topics\") + \n",
    "theme(axis.title.y = element_text(size = 13, vjust = 0.2))  + stat_summary(fun.y=mean, geom=\"line\", size=1) +  coord_cartesian(xlim = c(0, 20))\n",
    "\n",
    "# ggsave(\"../reports/vmpfc_comps/mv_ev_unit_complete.pdf\")"
   ]
  },
  {
   "cell_type": "code",
   "execution_count": null,
   "metadata": {
    "collapsed": false
   },
   "outputs": [],
   "source": [
    "%%R -w 600 -h 500\n",
    "ggplot(subset(mv_results, region_names %in% label_names_red), aes(num_features, score_unit, color=factor(region_names))) + theme_bw() + ylab(\"Explained variance\" ) + xlab(\"Number of topics\") + \n",
    "theme(axis.title.y = element_text(size = 13, vjust = 0.2))  + stat_summary(fun.y=mean, geom=\"line\", size=1) +  coord_cartesian(xlim = c(0, 20))\n"
   ]
  },
  {
   "cell_type": "code",
   "execution_count": null,
   "metadata": {
    "collapsed": false
   },
   "outputs": [],
   "source": [
    "%%R -w 600 -h 500\n",
    "library(ggplot2)\n",
    "ggplot(mv_results, aes(num_features, score, color=factor(region_names))) + theme_bw() + ylab(\"Explained variance\" ) + xlab(\"Number of topics\") + \n",
    "theme(axis.title.y = element_text(size = 13, vjust = 0.2))  + stat_summary(fun.y=mean, geom=\"line\", size=1) + \n",
    " coord_cartesian(xlim = c(0, 35), ylim=c(0, 0.21)) + scale_color_manual(values=ten_colors)\n",
    "\n",
    "# ggsave(\"../reports/vmpfc_comps/mv_ev_abs_complete.pdf\")"
   ]
  },
  {
   "cell_type": "code",
   "execution_count": null,
   "metadata": {
    "collapsed": false
   },
   "outputs": [],
   "source": [
    "%%R -w 600 -h 500\n",
    "library(ggplot2)\n",
    "ggplot(mv_results, aes(num_features, score_unit, color=factor(region_names))) + theme_bw() + ylab(\"Relative explained variance\" ) + xlab(\"Number of topics\") + \n",
    "theme(axis.title.y = element_text(size = 13, vjust = 0.2)) + coord_cartesian(xlim = c(0, 20), ylim=c(0, 1.01)) + stat_summary(fun.y=mean, geom=\"line\", size=1) +\n",
    "scale_color_manual(values = ten_colors) \n",
    "# + geom_vline(xintercept=5, linetype=5, alpha=0.7)\n",
    "\n",
    "# ggsave(\"../reports/vmpfc_comps/mv_ev_abs_25.pdf\")"
   ]
  },
  {
   "cell_type": "code",
   "execution_count": null,
   "metadata": {
    "collapsed": false
   },
   "outputs": [],
   "source": [
    "mv_results.groupby('region').apply(lambda x: auc(x['num_features'], x['score_unit']))"
   ]
  },
  {
   "cell_type": "code",
   "execution_count": null,
   "metadata": {
    "collapsed": false
   },
   "outputs": [],
   "source": [
    "sns.regplot(selected_regions.groupby('region').mean().base_rate, mv_results.groupby('region').apply(lambda x: auc(x['num_features'], x['score_unit'])))"
   ]
  },
  {
   "cell_type": "code",
   "execution_count": null,
   "metadata": {
    "collapsed": false
   },
   "outputs": [],
   "source": [
    "mv_results.groupby('region').apply(lambda x: auc(x['num_features'], x['score_unit']))"
   ]
  },
  {
   "cell_type": "code",
   "execution_count": null,
   "metadata": {
    "collapsed": false
   },
   "outputs": [],
   "source": [
    "mv_results.query('num_features <= 10').groupby('region').apply(lambda x: auc(x['num_features'], x['score_unit']))"
   ]
  },
  {
   "cell_type": "code",
   "execution_count": null,
   "metadata": {
    "collapsed": false
   },
   "outputs": [],
   "source": [
    "# tools.make_mask_map(mv_results.query('num_features <= 10').groupby('region').apply(\n",
    "#     lambda x: auc(x['num_features'], x['score_unit'])).values, o_clf.mask_img, \n",
    "#         '../results/ward_f' + str(num_regions) + '_Ridge_abs_topics' + str(num_topics) + '_filt/mv_auc_10f_vmpfc', index=regions - 1)"
   ]
  },
  {
   "cell_type": "code",
   "execution_count": null,
   "metadata": {
    "collapsed": false
   },
   "outputs": [],
   "source": [
    "mv_results.query('num_features <= 10').groupby('region').apply(\n",
    "    lambda x: auc(x['num_features'], x['score_unit'])).values"
   ]
  },
  {
   "cell_type": "code",
   "execution_count": null,
   "metadata": {
    "collapsed": false
   },
   "outputs": [],
   "source": [
    "def cum_auc(df):\n",
    "    results = []\n",
    "    for i in range(3, df['num_features'].max() + 2):\n",
    "        new_df = df.query('num_features < ' +str(i))\n",
    "        results.append(auc(new_df['num_features'], new_df['score_unit']))\n",
    "        \n",
    "    results = pd.DataFrame(results).reset_index(level=0)   \n",
    "    results.columns = ['num_features', 'cum_auc']\n",
    "    results.num_features = results.num_features +2\n",
    "    return results"
   ]
  },
  {
   "cell_type": "code",
   "execution_count": null,
   "metadata": {
    "collapsed": false
   },
   "outputs": [],
   "source": [
    "test_df = mv_results[mv_results['region'] == 2]"
   ]
  },
  {
   "cell_type": "code",
   "execution_count": null,
   "metadata": {
    "collapsed": false
   },
   "outputs": [],
   "source": [
    "cumauc_mv_vmpfc = mv_results.groupby('region').apply(lambda x: cum_auc(x))"
   ]
  },
  {
   "cell_type": "code",
   "execution_count": null,
   "metadata": {
    "collapsed": false
   },
   "outputs": [],
   "source": [
    "cumauc_mv_vmpfc.reset_index(level=0, inplace=True)\n",
    "%Rpush cumauc_mv_vmpfc"
   ]
  },
  {
   "cell_type": "markdown",
   "metadata": {},
   "source": [
    "### All regions"
   ]
  },
  {
   "cell_type": "code",
   "execution_count": null,
   "metadata": {
    "collapsed": false
   },
   "outputs": [],
   "source": [
    "mv_results_all = calc_mv(o_clf, make_scorer(explained_variance_score), processes=7)\n",
    "mv_results_all.region = mv_results_all.region +1\n",
    "mv_results_all['score_unit'] = mv_results_all.groupby('region')['score'].apply(unit_norm)\n",
    "%Rpush mv_results_all"
   ]
  },
  {
   "cell_type": "code",
   "execution_count": null,
   "metadata": {
    "collapsed": false
   },
   "outputs": [],
   "source": [
    "mv_results_all"
   ]
  },
  {
   "cell_type": "code",
   "execution_count": null,
   "metadata": {
    "collapsed": false
   },
   "outputs": [],
   "source": [
    "mv_auc = mv_results_all.query('num_features < 20').groupby('region').apply(lambda x: auc(x['num_features'], x['score_unit'])).values"
   ]
  },
  {
   "cell_type": "code",
   "execution_count": null,
   "metadata": {
    "collapsed": false
   },
   "outputs": [],
   "source": [
    "mv_auc.mean()"
   ]
  },
  {
   "cell_type": "code",
   "execution_count": null,
   "metadata": {
    "collapsed": false
   },
   "outputs": [],
   "source": [
    "# tools.make_mask_map(1 / mv_auc, o_clf.mask_img, '../results/wardmin75_' + str(num_regions) + '_Ridge_abs_topics_filt/mv_auc_20f')"
   ]
  },
  {
   "cell_type": "code",
   "execution_count": null,
   "metadata": {
    "collapsed": false
   },
   "outputs": [],
   "source": [
    "# tools.make_mask_map( o_fis_melt.groupby('region').mean().base_rate, o_clf.mask_img, '../results/wardmin75_' + str(num_regions) + '_Ridge_abs_topics_filt/base_rate')"
   ]
  },
  {
   "cell_type": "code",
   "execution_count": null,
   "metadata": {
    "collapsed": false
   },
   "outputs": [],
   "source": [
    "%%R -w 600 -h 500\n",
    "library(ggplot2)\n",
    "ggplot(mv_results_all, aes(num_features, score_unit, color=factor(region))) + stat_summary(fun.y=mean, geom=\"point\", size=1) + theme_bw() + ylab(\"Explained variance\" ) + xlab(\"Number of topics\") + \n",
    "theme(axis.title.y = element_text(size = 13, vjust = 0.2))  + stat_summary(fun.y=mean, geom=\"line\", size=0.8)"
   ]
  },
  {
   "cell_type": "code",
   "execution_count": null,
   "metadata": {
    "collapsed": false
   },
   "outputs": [],
   "source": [
    "%%R -w 600 -h 500\n",
    "ggplot(mv_results_all, aes(num_features, score, color=factor(region))) + stat_summary(fun.y=mean, geom=\"point\", size=2) + \n",
    "theme_bw() + ylab(\"Explained variance\" ) + xlab(\"Number of topics\") + \n",
    "theme(axis.title.y = element_text(size = 13, vjust = 0.2)) + coord_cartesian(xlim = c(0, 30)) + \n",
    "stat_summary(fun.y=mean, geom=\"line\", size=1)"
   ]
  },
  {
   "cell_type": "code",
   "execution_count": null,
   "metadata": {
    "collapsed": false
   },
   "outputs": [],
   "source": [
    "%%R -w 600 -h 500\n",
    "ggplot(mv_results_all, aes(num_features, score_log_t50, color=factor(region))) + stat_summary(fun.y=mean, geom=\"point\", size=2) + \n",
    "theme_bw() + ylab(\"Explained variance\" ) + xlab(\"Number of topics\") + \n",
    "theme(axis.title.y = element_text(size = 13, vjust = 0.2)) + coord_cartesian(xlim = c(0, 30)) + \n",
    "stat_summary(fun.y=mean, geom=\"line\", size=1)"
   ]
  },
  {
   "cell_type": "code",
   "execution_count": null,
   "metadata": {
    "collapsed": false
   },
   "outputs": [],
   "source": [
    "%%R -w 600 -h 500\n",
    "ggplot(mv_results_all, aes(num_features, score_log_t20, color=factor(region))) + stat_summary(fun.y=mean, geom=\"point\", size=2) + \n",
    "theme_bw() + ylab(\"Explained variance\" ) + xlab(\"Number of topics\") + \n",
    "theme(axis.title.y = element_text(size = 13, vjust = 0.2)) + coord_cartesian(xlim = c(0, 30)) + \n",
    "stat_summary(fun.y=mean, geom=\"line\", size=1)"
   ]
  },
  {
   "cell_type": "code",
   "execution_count": null,
   "metadata": {
    "collapsed": false
   },
   "outputs": [],
   "source": [
    "mv_results_all.groupby('num_features').mean()"
   ]
  },
  {
   "cell_type": "code",
   "execution_count": null,
   "metadata": {
    "collapsed": false
   },
   "outputs": [],
   "source": [
    "tools.make_mask_map(mv_results_all[mv_results_all.num_features == 1].score_log_t100, o_clf.mask_img, '../results/wardmin75_' + str(num_regions) + '_Ridge_abs_topics_filt/mv_1_score_log_t100')\n",
    "tools.make_mask_map(mv_results_all[mv_results_all.num_features == 34].score_log_t100, o_clf.mask_img, '../results/wardmin75_' + str(num_regions) + '_Ridge_abs_topics_filt/mv_max_34_score_log_t100')"
   ]
  },
  {
   "cell_type": "code",
   "execution_count": null,
   "metadata": {
    "collapsed": false
   },
   "outputs": [],
   "source": [
    "mv_results_all['score_log_t100'] = np.log10(mv_results_all.score*100 + 1)\n",
    "%Rpush mv_results_all"
   ]
  },
  {
   "cell_type": "code",
   "execution_count": null,
   "metadata": {
    "collapsed": false
   },
   "outputs": [],
   "source": [
    "## Try logging scale on brain and on plot - common scale; NAcc should stay same, DLPFC and Insula should stay similar"
   ]
  },
  {
   "cell_type": "code",
   "execution_count": null,
   "metadata": {
    "collapsed": false
   },
   "outputs": [],
   "source": [
    "%%R -w 600 -h 500\n",
    "library(ggplot2)\n",
    "ggplot(mv_results_all, aes(num_features, score_unit, color=factor(region))) + stat_summary(fun.y=mean, geom=\"point\", size=2) + theme_bw() + ylab(\"Explained variance\" ) + xlab(\"Number of topics\") + \n",
    "theme(axis.title.y = element_text(size = 13, vjust = 0.2)) + coord_cartesian(xlim = c(0, 20)) + stat_summary(fun.y=mean, geom=\"line\", size=1)"
   ]
  },
  {
   "cell_type": "code",
   "execution_count": null,
   "metadata": {
    "collapsed": false
   },
   "outputs": [],
   "source": [
    "stats.pearsonr(mv_results_all.query('num_features <= 20').groupby('region').apply(lambda x: auc(x['num_features'], x['score_unit'])), o_fis_melt.groupby('region').mean().base_rate)"
   ]
  },
  {
   "cell_type": "code",
   "execution_count": null,
   "metadata": {
    "collapsed": false
   },
   "outputs": [],
   "source": [
    "stats.pearsonr(mv_results_all.query('num_features <= 20').groupby('region').apply(lambda x: auc(x['num_features'], x['score_unit'])), o_fis_melt.groupby('region').mean().r2)"
   ]
  },
  {
   "cell_type": "code",
   "execution_count": null,
   "metadata": {
    "collapsed": false
   },
   "outputs": [],
   "source": [
    "aucs = mv_results_all.query('num_features <= 20').groupby('region').apply(lambda x: auc(x['num_features'], x['score_unit']))"
   ]
  },
  {
   "cell_type": "code",
   "execution_count": null,
   "metadata": {
    "collapsed": false
   },
   "outputs": [],
   "source": [
    "sns.regplot(o_fis_melt.groupby('region').mean().base_rate, 1 / mv_results_all.query('num_features <= 20').groupby('region').apply(lambda x: auc(x['num_features'], x['score_unit'])))"
   ]
  },
  {
   "cell_type": "code",
   "execution_count": null,
   "metadata": {
    "collapsed": false
   },
   "outputs": [],
   "source": [
    "sns.regplot(mv_auc, mv_results_all.groupby('region').max().score )"
   ]
  }
 ],
 "metadata": {
  "kernelspec": {
   "display_name": "Python 2",
   "language": "python",
   "name": "python2"
  },
  "language_info": {
   "codemirror_mode": {
    "name": "ipython",
    "version": 2
   },
   "file_extension": ".py",
   "mimetype": "text/x-python",
   "name": "python",
   "nbconvert_exporter": "python",
   "pygments_lexer": "ipython2",
   "version": "2.7.11"
  }
 },
 "nbformat": 4,
 "nbformat_minor": 0
}
