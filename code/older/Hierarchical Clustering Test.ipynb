{
 "cells": [
  {
   "cell_type": "code",
   "execution_count": 77,
   "metadata": {
    "collapsed": false
   },
   "outputs": [],
   "source": [
    "from neurosynth.base import imageutils\n",
    "from neurosynth.base.dataset import Dataset\n",
    "dataset = Dataset.load(\"../data/datasets/abs_60topics_filt_jul.pkl\")\n",
    "import numpy as np \n",
    "from scipy.stats import ttest_ind"
   ]
  },
  {
   "cell_type": "code",
   "execution_count": 44,
   "metadata": {
    "collapsed": false
   },
   "outputs": [],
   "source": [
    "three = np.round(imageutils.load_imgs('../results/perm_cluster/medial_fc_30_kmeans/kmeans_k3/cluster_labels.nii.gz', dataset.masker))\n",
    "nine = np.round(imageutils.load_imgs('../results/perm_cluster/medial_fc_30_kmeans/kmeans_k9/cluster_labels.nii.gz', dataset.masker))"
   ]
  },
  {
   "cell_type": "code",
   "execution_count": 64,
   "metadata": {
    "collapsed": true
   },
   "outputs": [],
   "source": [
    "three_nine_pairs = [(2, [3, 6]), (1, [9, 5, 1, 7]), (3, [2, 4, 8])]"
   ]
  },
  {
   "cell_type": "code",
   "execution_count": 66,
   "metadata": {
    "collapsed": false
   },
   "outputs": [],
   "source": [
    "percentages = [((np.in1d(nine, nine_reg)) & ((three == three_reg).squeeze())).sum() / ((three == three_reg).sum() * 1.0)\n",
    " for three_reg, nine_reg in three_nine_pairs]"
   ]
  },
  {
   "cell_type": "code",
   "execution_count": 69,
   "metadata": {
    "collapsed": false
   },
   "outputs": [
    {
     "data": {
      "text/plain": [
       "0.83668503897622115"
      ]
     },
     "execution_count": 69,
     "metadata": {},
     "output_type": "execute_result"
    }
   ],
   "source": [
    "np.mean(percentages)"
   ]
  },
  {
   "cell_type": "code",
   "execution_count": 73,
   "metadata": {
    "collapsed": false
   },
   "outputs": [],
   "source": [
    "unpredicted_pairs= [(1, [3, 6]), (3, [3, 6]), (2, [9, 5, 1, 7]), (3, [9, 5, 1, 7]), (1, [2, 4, 8]), (2, [2, 4, 8])]"
   ]
  },
  {
   "cell_type": "code",
   "execution_count": 74,
   "metadata": {
    "collapsed": true
   },
   "outputs": [],
   "source": [
    "unpredicted_perc = [((np.in1d(nine, nine_reg)) & ((three == three_reg).squeeze())).sum() / ((three == three_reg).sum() * 1.0)\n",
    " for three_reg, nine_reg in unpredicted_pairs]"
   ]
  },
  {
   "cell_type": "code",
   "execution_count": 76,
   "metadata": {
    "collapsed": false
   },
   "outputs": [
    {
     "data": {
      "text/plain": [
       "0.081657480511889369"
      ]
     },
     "execution_count": 76,
     "metadata": {},
     "output_type": "execute_result"
    }
   ],
   "source": [
    "np.mean(unpredicted_perc)"
   ]
  },
  {
   "cell_type": "code",
   "execution_count": 78,
   "metadata": {
    "collapsed": false
   },
   "outputs": [
    {
     "data": {
      "text/plain": [
       "(-12.370039911337813, 5.1845682207797258e-06)"
      ]
     },
     "execution_count": 78,
     "metadata": {},
     "output_type": "execute_result"
    }
   ],
   "source": [
    "ttest_ind(unpredicted_perc, percentages)"
   ]
  },
  {
   "cell_type": "code",
   "execution_count": null,
   "metadata": {
    "collapsed": true
   },
   "outputs": [],
   "source": []
  }
 ],
 "metadata": {
  "kernelspec": {
   "display_name": "Python 2",
   "language": "python",
   "name": "python2"
  },
  "language_info": {
   "codemirror_mode": {
    "name": "ipython",
    "version": 2
   },
   "file_extension": ".py",
   "mimetype": "text/x-python",
   "name": "python",
   "nbconvert_exporter": "python",
   "pygments_lexer": "ipython2",
   "version": "2.7.9"
  }
 },
 "nbformat": 4,
 "nbformat_minor": 0
}
