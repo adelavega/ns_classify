{
 "cells": [
  {
   "cell_type": "code",
   "execution_count": 43,
   "metadata": {
    "collapsed": false
   },
   "outputs": [],
   "source": [
    "import seaborn as sns\n",
    "import pandas as pd\n",
    "import numpy as np\n",
    "import nibabel as nib\n",
    "import matplotlib as ml"
   ]
  },
  {
   "cell_type": "code",
   "execution_count": 44,
   "metadata": {
    "collapsed": true
   },
   "outputs": [],
   "source": [
    "from neurosynth.base.dataset import Dataset\n",
    "dataset = Dataset.load(\"../data/0.6/datasets/db_v6_topics-60.pkl\")"
   ]
  },
  {
   "cell_type": "code",
   "execution_count": 45,
   "metadata": {
    "collapsed": false
   },
   "outputs": [],
   "source": [
    "from copy import deepcopy\n",
    "from sklearn.metrics import pairwise_distances\n",
    "from scipy.spatial.distance import correlation"
   ]
  },
  {
   "cell_type": "code",
   "execution_count": 46,
   "metadata": {
    "collapsed": false
   },
   "outputs": [],
   "source": [
    "lfc_mask = nib.load('../masks/HO_ROIs/cortex_30.nii.gz')"
   ]
  },
  {
   "cell_type": "code",
   "execution_count": 47,
   "metadata": {
    "collapsed": true
   },
   "outputs": [],
   "source": [
    "masker = deepcopy(dataset.masker)"
   ]
  },
  {
   "cell_type": "code",
   "execution_count": 48,
   "metadata": {
    "collapsed": false
   },
   "outputs": [],
   "source": [
    "masker.add({'roi': lfc_mask})"
   ]
  },
  {
   "cell_type": "code",
   "execution_count": 49,
   "metadata": {
    "collapsed": false
   },
   "outputs": [],
   "source": [
    "roi_data = dataset.image_table.data[masker.get_mask(['voxels', 'roi']), :].toarray()"
   ]
  },
  {
   "cell_type": "code",
   "execution_count": 50,
   "metadata": {
    "collapsed": false
   },
   "outputs": [],
   "source": [
    "i, j, k = np.meshgrid(*map(np.arange, lfc_mask.get_data().shape), indexing='ij')\n",
    "i -= i.max()/2"
   ]
  },
  {
   "cell_type": "code",
   "execution_count": 51,
   "metadata": {
    "collapsed": false
   },
   "outputs": [],
   "source": [
    "i = masker.mask(i)\n",
    "j = masker.mask(j)\n",
    "k = masker.mask(k)"
   ]
  },
  {
   "cell_type": "code",
   "execution_count": 52,
   "metadata": {
    "collapsed": false
   },
   "outputs": [],
   "source": [
    "contra_correlation = []\n",
    "for row_ix, row in enumerate(roi_data):\n",
    "    inter = set(np.where(i == (i[row_ix] * -1))[0]).intersection(\n",
    "        set(np.where(j == j[row_ix])[0])).intersection(\n",
    "        set(np.where(k == k[row_ix])[0]))\n",
    "    if len(inter) == 1:\n",
    "        ix = list(inter)[0]\n",
    "        contra_data = roi_data[ix]\n",
    "        contra_corr = correlation(contra_data, row)\n",
    "    else:\n",
    "        contra_corr = 0\n",
    "    \n",
    "    contra_correlation.append(contra_corr)"
   ]
  },
  {
   "cell_type": "code",
   "execution_count": 53,
   "metadata": {
    "collapsed": true
   },
   "outputs": [],
   "source": [
    "?correlation"
   ]
  },
  {
   "cell_type": "code",
   "execution_count": 54,
   "metadata": {
    "collapsed": false
   },
   "outputs": [
    {
     "data": {
      "text/plain": [
       "9419"
      ]
     },
     "execution_count": 54,
     "metadata": {},
     "output_type": "execute_result"
    }
   ],
   "source": [
    "(np.array(contra_correlation) ==  0).sum()"
   ]
  },
  {
   "cell_type": "code",
   "execution_count": 68,
   "metadata": {
    "collapsed": true
   },
   "outputs": [],
   "source": [
    "contra_img = nib.Nifti1Image(masker.unmask(np.array(contra_correlation)), affine=lfc_mask.get_affine())"
   ]
  },
  {
   "cell_type": "code",
   "execution_count": 70,
   "metadata": {
    "collapsed": false
   },
   "outputs": [],
   "source": [
    "nib.save(contra_img, '../results/laterality/cortex_laterality.nii.gz')"
   ]
  },
  {
   "cell_type": "markdown",
   "metadata": {},
   "source": [
    "### Display in PySurfer"
   ]
  },
  {
   "cell_type": "code",
   "execution_count": 71,
   "metadata": {
    "collapsed": false
   },
   "outputs": [],
   "source": [
    "%gui qt\n",
    "from surfer import Brain, project_volume_data\n",
    "from IPython.display import Image\n",
    "import os\n",
    "os.environ['SUBJECTS_DIR'] = '/Applications/freesurfer/subjects/'\n",
    "os.environ['FREESURFER_HOME'] = '/Applications/freesurfer/'"
   ]
  },
  {
   "cell_type": "code",
   "execution_count": 72,
   "metadata": {
    "collapsed": true
   },
   "outputs": [],
   "source": [
    "from base import img_plot"
   ]
  },
  {
   "cell_type": "code",
   "execution_count": 81,
   "metadata": {
    "collapsed": false,
    "scrolled": true
   },
   "outputs": [
    {
     "name": "stdout",
     "output_type": "stream",
     "text": [
      "mri_vol2surf --mov /var/folders/k7/sjgnyj6j5z17gr14p3cnp0fc0000gn/T/tmpuu1ve1.nii.gz --hemi lh --surf white --regheader fsaverage --projfrac-max 0 1 0.1 --o /var/folders/k7/sjgnyj6j5z17gr14p3cnp0fc0000gn/T/pysurfer-v2s2M_O_C.mgz\n"
     ]
    },
    {
     "name": "stderr",
     "output_type": "stream",
     "text": [
      "INFO:surfer:mri_vol2surf --mov /var/folders/k7/sjgnyj6j5z17gr14p3cnp0fc0000gn/T/tmpuu1ve1.nii.gz --hemi lh --surf white --regheader fsaverage --projfrac-max 0 1 0.1 --o /var/folders/k7/sjgnyj6j5z17gr14p3cnp0fc0000gn/T/pysurfer-v2s2M_O_C.mgz\n"
     ]
    },
    {
     "name": "stdout",
     "output_type": "stream",
     "text": [
      "mri_vol2surf --mov /var/folders/k7/sjgnyj6j5z17gr14p3cnp0fc0000gn/T/tmpuu1ve1.nii.gz --hemi rh --surf white --regheader fsaverage --projfrac-max 0 1 0.1 --o /var/folders/k7/sjgnyj6j5z17gr14p3cnp0fc0000gn/T/pysurfer-v2sB9O2ET.mgz\n"
     ]
    },
    {
     "name": "stderr",
     "output_type": "stream",
     "text": [
      "INFO:surfer:mri_vol2surf --mov /var/folders/k7/sjgnyj6j5z17gr14p3cnp0fc0000gn/T/tmpuu1ve1.nii.gz --hemi rh --surf white --regheader fsaverage --projfrac-max 0 1 0.1 --o /var/folders/k7/sjgnyj6j5z17gr14p3cnp0fc0000gn/T/pysurfer-v2sB9O2ET.mgz\n"
     ]
    }
   ],
   "source": [
    "brain = Brain('fsaverage', 'split', 'pial', cortex='bone', size=(780, 800), background='white',views=['lat', 'med'])\n",
    "img_plot.display_bilateral(brain, contra_img, colormap=ml.pyplot.get_cmap('viridis').colors, max=1, thresh=0.7, min=0.7, discrete=False)\n",
    "# out = '../reports/dissertation/figures/base_rate.png'\n",
    "# brain.save_image(out)\n",
    "# Image(out)"
   ]
  },
  {
   "cell_type": "code",
   "execution_count": null,
   "metadata": {
    "collapsed": true
   },
   "outputs": [],
   "source": []
  }
 ],
 "metadata": {
  "kernelspec": {
   "display_name": "Python 2",
   "language": "python",
   "name": "python2"
  },
  "language_info": {
   "codemirror_mode": {
    "name": "ipython",
    "version": 2
   },
   "file_extension": ".py",
   "mimetype": "text/x-python",
   "name": "python",
   "nbconvert_exporter": "python",
   "pygments_lexer": "ipython2",
   "version": "2.7.11"
  }
 },
 "nbformat": 4,
 "nbformat_minor": 0
}
